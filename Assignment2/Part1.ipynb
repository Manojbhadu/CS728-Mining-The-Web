{
 "cells": [
  {
   "cell_type": "code",
   "execution_count": 1,
   "metadata": {},
   "outputs": [],
   "source": [
    "import pandas as pd\n",
    "\n",
    "from keras.models import Sequential\n",
    "from keras.layers import Dense, InputLayer, Activation\n",
    "from keras.optimizers import Adam\n",
    "\n",
    "import tensorflow as tf\n",
    "import numpy as np"
   ]
  },
  {
   "cell_type": "code",
   "execution_count": 2,
   "metadata": {},
   "outputs": [],
   "source": [
    "df = pd.read_csv(\"train.csv\",header=None)"
   ]
  },
  {
   "cell_type": "code",
   "execution_count": 3,
   "metadata": {},
   "outputs": [],
   "source": [
    "df2 = pd.read_json('train.json')"
   ]
  },
  {
   "cell_type": "code",
   "execution_count": 4,
   "metadata": {},
   "outputs": [],
   "source": [
    "df3 = pd.read_json(\"test.json\")"
   ]
  },
  {
   "cell_type": "markdown",
   "metadata": {},
   "source": [
    "### Word Embeddings"
   ]
  },
  {
   "cell_type": "code",
   "execution_count": 5,
   "metadata": {},
   "outputs": [
    {
     "name": "stderr",
     "output_type": "stream",
     "text": [
      "[nltk_data] Downloading package brown to\n",
      "[nltk_data]     /Users/manojbhadu/nltk_data...\n",
      "[nltk_data]   Package brown is already up-to-date!\n"
     ]
    }
   ],
   "source": [
    "import nltk\n",
    "nltk.download('brown')\n",
    "\n",
    "import gensim\n",
    "import gensim.downloader\n",
    "from nltk.corpus import brown\n",
    "import string"
   ]
  },
  {
   "cell_type": "code",
   "execution_count": 6,
   "metadata": {},
   "outputs": [],
   "source": [
    "sents = brown.sents()\n",
    "cleaned_sents = []\n",
    "for i in sents:\n",
    "    sentence = []\n",
    "    for j in i :\n",
    "        if j not in string.punctuation :\n",
    "            sentence.append(j.lower())\n",
    "    cleaned_sents.append(sentence)"
   ]
  },
  {
   "cell_type": "code",
   "execution_count": 7,
   "metadata": {},
   "outputs": [],
   "source": [
    "model_word_emb = gensim.models.FastText(sentences=cleaned_sents,size=100)"
   ]
  },
  {
   "cell_type": "markdown",
   "metadata": {},
   "source": [
    "# Part1"
   ]
  },
  {
   "cell_type": "code",
   "execution_count": 9,
   "metadata": {},
   "outputs": [],
   "source": [
    "class feed_forwrd():\n",
    "    def __init__(self, df_train):\n",
    "        self.nc1 = df_train[0]\n",
    "        self.nc2 = df_train[1]\n",
    "        self.output_class = df_train[2]\n",
    "        \n",
    "    def get_embedding(self):\n",
    "        self.X_train = np.zeros((len(self.nc1),100))\n",
    "        for i in range(len(self.nc1)):\n",
    "            try:\n",
    "                emb1 = model_word_emb.wv[self.nc1[i]]\n",
    "            except KeyError:\n",
    "                emb1 = np.zeros(100)\n",
    "            try:\n",
    "                emb2 = model_word_emb.wv[self.nc2[i]]\n",
    "            except KeyError:\n",
    "                emb2 = np.zeros(100)\n",
    "            \n",
    "            self.X_train[i] = (emb1+emb2)/2\n",
    "    \n",
    "    def build_ff_nn(self):\n",
    "        self.model = Sequential()\n",
    "        self.model.add(InputLayer(input_shape=(100,)))\n",
    "        self.model.add(Dense(len(np.unique(self.output_class))))\n",
    "        self.model.add(Activation('softmax'))\n",
    "        self.model.compile(loss='categorical_crossentropy',\n",
    "              optimizer=Adam(0.001),\n",
    "              metrics=['accuracy'])\n",
    "        self.model.summary()\n",
    "    def train_ff_nn(self):\n",
    "        tag2int = {tag: i for i, tag in enumerate(list(np.unique(self.output_class)))}\n",
    "        y_int=[]\n",
    "        #print(self.output_class)\n",
    "        for tag in self.output_class:\n",
    "            y_int.append(tag2int[tag])\n",
    "        y_train = tf.keras.utils.to_categorical(y_int,num_classes=len(tag2int))\n",
    "        \n",
    "        self.history = self.model.fit(self.X_train, (y_train), batch_size=64, epochs=50,validation_split=0.2)\n",
    "        \n",
    "    def prediction(self, df_test):\n",
    "        y_test = df_test['nc']\n",
    "        y_test_emb=np.zeros((len(y_test),100))\n",
    "        for i in range(len(y_test)):\n",
    "            l = y_test[i].split()\n",
    "            try:\n",
    "                emb1 = model_word_emb.wv[l[0]]\n",
    "            except KeyError:\n",
    "                emb1 = np.zeros(100)\n",
    "            try:\n",
    "                emb2 = model_word_emb.wv[[1]]\n",
    "            except KeyError:\n",
    "                emb2 = np.zeros(100)\n",
    "            y_test_emb[i] = (emb1+emb2)/2\n",
    "        y_pred = self.model.predict(y_test_emb)\n",
    "        y_pred_tag=[]\n",
    "        int2tag = {i: tag for i, tag in enumerate(list(np.unique(self.output_class)))}\n",
    "        for i in y_pred:\n",
    "            max_index = np.argmax(i)\n",
    "            tag_pred = int2tag[max_index]\n",
    "            y_pred_tag.append(tag_pred)\n",
    "        return y_pred_tag"
   ]
  },
  {
   "cell_type": "code",
   "execution_count": 10,
   "metadata": {},
   "outputs": [
    {
     "name": "stdout",
     "output_type": "stream",
     "text": [
      "Model: \"sequential\"\n",
      "_________________________________________________________________\n",
      "Layer (type)                 Output Shape              Param #   \n",
      "=================================================================\n",
      "dense (Dense)                (None, 37)                3737      \n",
      "_________________________________________________________________\n",
      "activation (Activation)      (None, 37)                0         \n",
      "=================================================================\n",
      "Total params: 3,737\n",
      "Trainable params: 3,737\n",
      "Non-trainable params: 0\n",
      "_________________________________________________________________\n",
      "Epoch 1/50\n",
      "204/204 [==============================] - 0s 2ms/step - loss: 3.0690 - accuracy: 0.1660 - val_loss: 2.8939 - val_accuracy: 0.2122\n",
      "Epoch 2/50\n",
      "204/204 [==============================] - 0s 1ms/step - loss: 2.8483 - accuracy: 0.2169 - val_loss: 2.8033 - val_accuracy: 0.2201\n",
      "Epoch 3/50\n",
      "204/204 [==============================] - 0s 1ms/step - loss: 2.7835 - accuracy: 0.2241 - val_loss: 2.7470 - val_accuracy: 0.2247\n",
      "Epoch 4/50\n",
      "204/204 [==============================] - 0s 1ms/step - loss: 2.7420 - accuracy: 0.2351 - val_loss: 2.7127 - val_accuracy: 0.2404\n",
      "Epoch 5/50\n",
      "204/204 [==============================] - 0s 1ms/step - loss: 2.7113 - accuracy: 0.2426 - val_loss: 2.6891 - val_accuracy: 0.2484\n",
      "Epoch 6/50\n",
      "204/204 [==============================] - 0s 1ms/step - loss: 2.6878 - accuracy: 0.2487 - val_loss: 2.6650 - val_accuracy: 0.2558\n",
      "Epoch 7/50\n",
      "204/204 [==============================] - 0s 2ms/step - loss: 2.6687 - accuracy: 0.2517 - val_loss: 2.6519 - val_accuracy: 0.2579\n",
      "Epoch 8/50\n",
      "204/204 [==============================] - 0s 2ms/step - loss: 2.6540 - accuracy: 0.2547 - val_loss: 2.6391 - val_accuracy: 0.2625\n",
      "Epoch 9/50\n",
      "204/204 [==============================] - 0s 1ms/step - loss: 2.6406 - accuracy: 0.2579 - val_loss: 2.6278 - val_accuracy: 0.2656\n",
      "Epoch 10/50\n",
      "204/204 [==============================] - 0s 1ms/step - loss: 2.6292 - accuracy: 0.2609 - val_loss: 2.6152 - val_accuracy: 0.2653\n",
      "Epoch 11/50\n",
      "204/204 [==============================] - 0s 1ms/step - loss: 2.6188 - accuracy: 0.2621 - val_loss: 2.6075 - val_accuracy: 0.2690\n",
      "Epoch 12/50\n",
      "204/204 [==============================] - 0s 2ms/step - loss: 2.6106 - accuracy: 0.2614 - val_loss: 2.6005 - val_accuracy: 0.2730\n",
      "Epoch 13/50\n",
      "204/204 [==============================] - 0s 2ms/step - loss: 2.6021 - accuracy: 0.2654 - val_loss: 2.5945 - val_accuracy: 0.2717\n",
      "Epoch 14/50\n",
      "204/204 [==============================] - 0s 1ms/step - loss: 2.5957 - accuracy: 0.2669 - val_loss: 2.5842 - val_accuracy: 0.2717\n",
      "Epoch 15/50\n",
      "204/204 [==============================] - 0s 1ms/step - loss: 2.5884 - accuracy: 0.2686 - val_loss: 2.5819 - val_accuracy: 0.2736\n",
      "Epoch 16/50\n",
      "204/204 [==============================] - 0s 1ms/step - loss: 2.5829 - accuracy: 0.2701 - val_loss: 2.5723 - val_accuracy: 0.2785\n",
      "Epoch 17/50\n",
      "204/204 [==============================] - 0s 1ms/step - loss: 2.5766 - accuracy: 0.2737 - val_loss: 2.5702 - val_accuracy: 0.2742\n",
      "Epoch 18/50\n",
      "204/204 [==============================] - 0s 1ms/step - loss: 2.5714 - accuracy: 0.2737 - val_loss: 2.5668 - val_accuracy: 0.2825\n",
      "Epoch 19/50\n",
      "204/204 [==============================] - 0s 2ms/step - loss: 2.5661 - accuracy: 0.2734 - val_loss: 2.5611 - val_accuracy: 0.2803\n",
      "Epoch 20/50\n",
      "204/204 [==============================] - 0s 2ms/step - loss: 2.5623 - accuracy: 0.2757 - val_loss: 2.5578 - val_accuracy: 0.2831\n",
      "Epoch 21/50\n",
      "204/204 [==============================] - 0s 1ms/step - loss: 2.5579 - accuracy: 0.2753 - val_loss: 2.5539 - val_accuracy: 0.2846\n",
      "Epoch 22/50\n",
      "204/204 [==============================] - 0s 1ms/step - loss: 2.5535 - accuracy: 0.2780 - val_loss: 2.5514 - val_accuracy: 0.2794\n",
      "Epoch 23/50\n",
      "204/204 [==============================] - 0s 1ms/step - loss: 2.5500 - accuracy: 0.2796 - val_loss: 2.5486 - val_accuracy: 0.2868\n",
      "Epoch 24/50\n",
      "204/204 [==============================] - 0s 1ms/step - loss: 2.5473 - accuracy: 0.2800 - val_loss: 2.5448 - val_accuracy: 0.2843\n",
      "Epoch 25/50\n",
      "204/204 [==============================] - 0s 2ms/step - loss: 2.5438 - accuracy: 0.2800 - val_loss: 2.5388 - val_accuracy: 0.2901\n",
      "Epoch 26/50\n",
      "204/204 [==============================] - 0s 2ms/step - loss: 2.5405 - accuracy: 0.2800 - val_loss: 2.5396 - val_accuracy: 0.2868\n",
      "Epoch 27/50\n",
      "204/204 [==============================] - 0s 2ms/step - loss: 2.5365 - accuracy: 0.2810 - val_loss: 2.5406 - val_accuracy: 0.2901\n",
      "Epoch 28/50\n",
      "204/204 [==============================] - 0s 1ms/step - loss: 2.5347 - accuracy: 0.2826 - val_loss: 2.5360 - val_accuracy: 0.2886\n",
      "Epoch 29/50\n",
      "204/204 [==============================] - 0s 1ms/step - loss: 2.5326 - accuracy: 0.2839 - val_loss: 2.5314 - val_accuracy: 0.2917\n",
      "Epoch 30/50\n",
      "204/204 [==============================] - 0s 1ms/step - loss: 2.5296 - accuracy: 0.2857 - val_loss: 2.5316 - val_accuracy: 0.2898\n",
      "Epoch 31/50\n",
      "204/204 [==============================] - 0s 1ms/step - loss: 2.5267 - accuracy: 0.2868 - val_loss: 2.5275 - val_accuracy: 0.2920\n",
      "Epoch 32/50\n",
      "204/204 [==============================] - 0s 2ms/step - loss: 2.5247 - accuracy: 0.2871 - val_loss: 2.5266 - val_accuracy: 0.2886\n",
      "Epoch 33/50\n",
      "204/204 [==============================] - 0s 1ms/step - loss: 2.5219 - accuracy: 0.2876 - val_loss: 2.5270 - val_accuracy: 0.2911\n",
      "Epoch 34/50\n",
      "204/204 [==============================] - 0s 1ms/step - loss: 2.5203 - accuracy: 0.2886 - val_loss: 2.5221 - val_accuracy: 0.2914\n",
      "Epoch 35/50\n",
      "204/204 [==============================] - 0s 2ms/step - loss: 2.5177 - accuracy: 0.2886 - val_loss: 2.5249 - val_accuracy: 0.2969\n",
      "Epoch 36/50\n",
      "204/204 [==============================] - 0s 2ms/step - loss: 2.5159 - accuracy: 0.2917 - val_loss: 2.5179 - val_accuracy: 0.2951\n",
      "Epoch 37/50\n",
      "204/204 [==============================] - 0s 2ms/step - loss: 2.5135 - accuracy: 0.2908 - val_loss: 2.5196 - val_accuracy: 0.2978\n",
      "Epoch 38/50\n",
      "204/204 [==============================] - 0s 2ms/step - loss: 2.5126 - accuracy: 0.2929 - val_loss: 2.5184 - val_accuracy: 0.2975\n",
      "Epoch 39/50\n",
      "204/204 [==============================] - 0s 2ms/step - loss: 2.5100 - accuracy: 0.2925 - val_loss: 2.5129 - val_accuracy: 0.2951\n",
      "Epoch 40/50\n",
      "204/204 [==============================] - 0s 2ms/step - loss: 2.5083 - accuracy: 0.2965 - val_loss: 2.5126 - val_accuracy: 0.2997\n",
      "Epoch 41/50\n",
      "204/204 [==============================] - 0s 2ms/step - loss: 2.5065 - accuracy: 0.2949 - val_loss: 2.5152 - val_accuracy: 0.3033\n",
      "Epoch 42/50\n",
      "204/204 [==============================] - 0s 2ms/step - loss: 2.5054 - accuracy: 0.2948 - val_loss: 2.5077 - val_accuracy: 0.2990\n",
      "Epoch 43/50\n",
      "204/204 [==============================] - 0s 1ms/step - loss: 2.5036 - accuracy: 0.2964 - val_loss: 2.5080 - val_accuracy: 0.2972\n",
      "Epoch 44/50\n",
      "204/204 [==============================] - 0s 1ms/step - loss: 2.5025 - accuracy: 0.2984 - val_loss: 2.5103 - val_accuracy: 0.2990\n",
      "Epoch 45/50\n",
      "204/204 [==============================] - 0s 1ms/step - loss: 2.5010 - accuracy: 0.2979 - val_loss: 2.5077 - val_accuracy: 0.3018\n",
      "Epoch 46/50\n",
      "204/204 [==============================] - 0s 2ms/step - loss: 2.4998 - accuracy: 0.2974 - val_loss: 2.5057 - val_accuracy: 0.3046\n",
      "Epoch 47/50\n",
      "204/204 [==============================] - 0s 2ms/step - loss: 2.4983 - accuracy: 0.2972 - val_loss: 2.5058 - val_accuracy: 0.2997\n",
      "Epoch 48/50\n",
      "204/204 [==============================] - 0s 2ms/step - loss: 2.4966 - accuracy: 0.2978 - val_loss: 2.5015 - val_accuracy: 0.3018\n",
      "Epoch 49/50\n",
      "204/204 [==============================] - 0s 2ms/step - loss: 2.4954 - accuracy: 0.2975 - val_loss: 2.5052 - val_accuracy: 0.3012\n",
      "Epoch 50/50\n",
      "204/204 [==============================] - 0s 2ms/step - loss: 2.4939 - accuracy: 0.3004 - val_loss: 2.5000 - val_accuracy: 0.3006\n"
     ]
    }
   ],
   "source": [
    "M = feed_forwrd(df)\n",
    "M.build_ff_nn()\n",
    "M.get_embedding()\n",
    "M.train_ff_nn()\n",
    "#y_pred = M.predict(preprocessed_test_reviews)"
   ]
  },
  {
   "cell_type": "code",
   "execution_count": 11,
   "metadata": {},
   "outputs": [],
   "source": [
    "y_pred = M.prediction(df3)"
   ]
  },
  {
   "cell_type": "code",
   "execution_count": 12,
   "metadata": {},
   "outputs": [],
   "source": [
    "df_test = pd.DataFrame(columns=['nc','context','label'])"
   ]
  },
  {
   "cell_type": "code",
   "execution_count": 13,
   "metadata": {},
   "outputs": [],
   "source": [
    "df_test['nc']=df3['nc']\n",
    "df_test['context']=df3['context']\n",
    "df_test['label']=y_pred\n"
   ]
  },
  {
   "cell_type": "code",
   "execution_count": 14,
   "metadata": {},
   "outputs": [],
   "source": [
    "df_test.to_json('test_label_part1.json')"
   ]
  },
  {
   "cell_type": "code",
   "execution_count": null,
   "metadata": {},
   "outputs": [],
   "source": []
  },
  {
   "cell_type": "code",
   "execution_count": null,
   "metadata": {},
   "outputs": [],
   "source": []
  }
 ],
 "metadata": {
  "kernelspec": {
   "display_name": "Python 3",
   "language": "python",
   "name": "python3"
  },
  "language_info": {
   "codemirror_mode": {
    "name": "ipython",
    "version": 3
   },
   "file_extension": ".py",
   "mimetype": "text/x-python",
   "name": "python",
   "nbconvert_exporter": "python",
   "pygments_lexer": "ipython3",
   "version": "3.8.5"
  }
 },
 "nbformat": 4,
 "nbformat_minor": 4
}
