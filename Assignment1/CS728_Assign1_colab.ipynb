{
  "nbformat": 4,
  "nbformat_minor": 0,
  "metadata": {
    "colab": {
      "name": "CS728_Assign1_colab.ipynb",
      "provenance": [],
      "collapsed_sections": []
    },
    "kernelspec": {
      "display_name": "Python 3",
      "language": "python",
      "name": "python3"
    },
    "language_info": {
      "codemirror_mode": {
        "name": "ipython",
        "version": 3
      },
      "file_extension": ".py",
      "mimetype": "text/x-python",
      "name": "python",
      "nbconvert_exporter": "python",
      "pygments_lexer": "ipython3",
      "version": "3.8.5"
    }
  },
  "cells": [
    {
      "cell_type": "code",
      "metadata": {
        "id": "G5Xf8jDIfynu"
      },
      "source": [
        "import pandas as pd\n",
        "import numpy as np\n",
        "import nltk\n",
        "from sklearn.decomposition import PCA\n",
        "\n",
        "import xml.etree.ElementTree as ET\n",
        "import gensim"
      ],
      "execution_count": 1,
      "outputs": []
    },
    {
      "cell_type": "code",
      "metadata": {
        "colab": {
          "base_uri": "https://localhost:8080/"
        },
        "id": "Ip3X0_ivqeZ7",
        "outputId": "2bff6a45-18b6-4158-9044-7aa11b09c39a"
      },
      "source": [
        "nltk.download('punkt')"
      ],
      "execution_count": 2,
      "outputs": [
        {
          "output_type": "stream",
          "text": [
            "[nltk_data] Downloading package punkt to /root/nltk_data...\n",
            "[nltk_data]   Unzipping tokenizers/punkt.zip.\n"
          ],
          "name": "stdout"
        },
        {
          "output_type": "execute_result",
          "data": {
            "text/plain": [
              "True"
            ]
          },
          "metadata": {
            "tags": []
          },
          "execution_count": 2
        }
      ]
    },
    {
      "cell_type": "code",
      "metadata": {
        "colab": {
          "base_uri": "https://localhost:8080/"
        },
        "id": "eJhQSr0noc9w",
        "outputId": "4012cc28-f262-414e-bf60-acdcdb71e065"
      },
      "source": [
        "from google.colab import drive\n",
        "drive.mount(\"/content/drive\")"
      ],
      "execution_count": 3,
      "outputs": [
        {
          "output_type": "stream",
          "text": [
            "Mounted at /content/drive\n"
          ],
          "name": "stdout"
        }
      ]
    },
    {
      "cell_type": "code",
      "metadata": {
        "id": "6UVySWRQf5N9"
      },
      "source": [
        ""
      ],
      "execution_count": 3,
      "outputs": []
    },
    {
      "cell_type": "markdown",
      "metadata": {
        "id": "406mUCG4gJDU"
      },
      "source": [
        "###  Basic Functions Needed for all Prepostions"
      ]
    },
    {
      "cell_type": "code",
      "metadata": {
        "id": "BzkROSp28rS8"
      },
      "source": [
        "def training_data(file,prepostion):\n",
        "    tree = ET.parse(file)\n",
        "    root = tree.getroot()\n",
        "    n = len(root)\n",
        "    df = pd.DataFrame(columns=['id','sent_before','sent_after','PP','label'],index=np.arange(n))\n",
        "    for i in range(n):\n",
        "        df['id'][i] = root[i][0].attrib[\"instance\"]\n",
        "        df['label'][i] = root[i][0].attrib[\"senseid\"]\n",
        "        df['sent_before'][i] = root[i][1].text\n",
        "        df['sent_after'][i] = root[i][1][0].tail\n",
        "        df['PP'][i] = root[i][1][0].text\n",
        "    return df"
      ],
      "execution_count": 4,
      "outputs": []
    },
    {
      "cell_type": "code",
      "metadata": {
        "id": "hCcUTFgGgcRK"
      },
      "source": [
        "def preprocessing(df):\n",
        "    for i in range(len(df)):\n",
        "        df['sent_before'][i] = nltk.word_tokenize(df['sent_before'][i])\n",
        "        df['sent_after'][i] = nltk.word_tokenize(df['sent_after'][i])\n",
        "        df['sent_after'][i] = [w for w in df['sent_after'][i] if w.isalpha()]\n",
        "        df['sent_before'][i] = [w for w in df['sent_before'][i] if w.isalpha()]\n",
        "    return df"
      ],
      "execution_count": 5,
      "outputs": []
    },
    {
      "cell_type": "code",
      "metadata": {
        "id": "j4OROuuCgffp"
      },
      "source": [
        "import gensim.downloader"
      ],
      "execution_count": 6,
      "outputs": []
    },
    {
      "cell_type": "code",
      "metadata": {
        "colab": {
          "base_uri": "https://localhost:8080/"
        },
        "id": "RW9sXZkOkcxe",
        "outputId": "b2604ae6-d1f4-4765-82ee-0687ecbe11b3"
      },
      "source": [
        "print(list(gensim.downloader.info()['models'].keys()))"
      ],
      "execution_count": 7,
      "outputs": [
        {
          "output_type": "stream",
          "text": [
            "['fasttext-wiki-news-subwords-300', 'conceptnet-numberbatch-17-06-300', 'word2vec-ruscorpora-300', 'word2vec-google-news-300', 'glove-wiki-gigaword-50', 'glove-wiki-gigaword-100', 'glove-wiki-gigaword-200', 'glove-wiki-gigaword-300', 'glove-twitter-25', 'glove-twitter-50', 'glove-twitter-100', 'glove-twitter-200', '__testing_word2vec-matrix-synopsis']\n"
          ],
          "name": "stdout"
        }
      ]
    },
    {
      "cell_type": "code",
      "metadata": {
        "colab": {
          "base_uri": "https://localhost:8080/"
        },
        "id": "JDmBItltkf79",
        "outputId": "20d79d54-cc42-4b74-f3a1-885c69c4fc9a"
      },
      "source": [
        "glove_vectors_emb = gensim.downloader.load('word2vec-google-news-300')"
      ],
      "execution_count": 8,
      "outputs": [
        {
          "output_type": "stream",
          "text": [
            "[==================================================] 100.0% 1662.8/1662.8MB downloaded\n"
          ],
          "name": "stdout"
        }
      ]
    },
    {
      "cell_type": "code",
      "metadata": {
        "id": "rLo5cMXgqj8P"
      },
      "source": [
        ""
      ],
      "execution_count": 8,
      "outputs": []
    },
    {
      "cell_type": "code",
      "metadata": {
        "id": "sQq7nGFeIm8W"
      },
      "source": [
        "def vl_vr_words(df):\n",
        "    n = len(df)\n",
        "    df_vl_vr = pd.DataFrame(columns=['vl1','vl2','vl3','vl4','vr1','vr2','vr3','vr4'],index=np.arange(n))\n",
        "    for i in range(n):\n",
        "        try:\n",
        "            df_vl_vr['vl1'][i] = df['sent_before'][i][-1]\n",
        "        except IndexError:\n",
        "            df_vl_vr['vl1'][i] = 'UNK'\n",
        "            df_vl_vr['vl2'][i] = 'UNK'\n",
        "            df_vl_vr['vl3'][i] = 'UNK'\n",
        "            df_vl_vr['vl4'][i] = 'UNK'\n",
        "            continue\n",
        "        try: \n",
        "            df_vl_vr['vl2'][i] = df['sent_before'][i][-2]\n",
        "        except IndexError:\n",
        "            df_vl_vr['vl2'][i] = 'UNK'\n",
        "            df_vl_vr['vl3'][i] = 'UNK'\n",
        "            df_vl_vr['vl4'][i] = 'UNK'\n",
        "            continue\n",
        "        try: \n",
        "            df_vl_vr['vl3'][i] = df['sent_before'][i][-3]\n",
        "        except IndexError:\n",
        "            df_vl_vr['vl3'][i] = 'UNK'\n",
        "            df_vl_vr['vl4'][i] = 'UNK'\n",
        "            continue\n",
        "        try:\n",
        "            df_vl_vr['vl4'][i] = df['sent_before'][i][-4]\n",
        "        except IndexError:\n",
        "            df_vl_vr['vl4'][i] = 'UNK'\n",
        "            continue\n",
        "            \n",
        "    for i in range(n):\n",
        "        try:\n",
        "            df_vl_vr['vr1'][i] = df['sent_after'][i][0]\n",
        "        except IndexError:\n",
        "            df_vl_vr['vr1'][i] = 'UNK'\n",
        "            df_vl_vr['vr2'][i] = 'UNK'\n",
        "            df_vl_vr['vr3'][i] = 'UNK'\n",
        "            df_vl_vr['vr4'][i] = 'UNK'\n",
        "            continue\n",
        "        try: \n",
        "            df_vl_vr['vr2'][i] = df['sent_after'][i][1]\n",
        "        except IndexError:\n",
        "            df_vl_vr['vr2'][i] = 'UNK'\n",
        "            df_vl_vr['vr3'][i] = 'UNK'\n",
        "            df_vl_vr['vr4'][i] = 'UNK'\n",
        "            continue\n",
        "        try: \n",
        "            df_vl_vr['vr3'][i] = df['sent_after'][i][2]\n",
        "        except IndexError:\n",
        "            df_vl_vr['vr3'][i] = 'UNK'\n",
        "            df_vl_vr['vr4'][i] = 'UNK'\n",
        "            continue\n",
        "        try:\n",
        "            df_vl_vr['vr4'][i] = df['sent_after'][i][3]\n",
        "        except IndexError:\n",
        "            df_vl_vr['vr4'][i] = 'UNK'\n",
        "            continue\n",
        "    return df_vl_vr"
      ],
      "execution_count": 9,
      "outputs": []
    },
    {
      "cell_type": "code",
      "metadata": {
        "id": "iVk3S1Wie6p0"
      },
      "source": [
        "def find_vinter(df_vl_vr,embeddings):\n",
        "    tmp = np.array(df_vl_vr)\n",
        "    n = len(df_vl_vr)\n",
        "    d=300\n",
        "    kl=4\n",
        "    kr=4\n",
        "    V_inter = np.zeros((d,n))\n",
        "    for i in range(n):\n",
        "        V = np.zeros((300,8))\n",
        "        for j in range(8):\n",
        "            try:\n",
        "                V[:,j] = embeddings[tmp[i][j]]\n",
        "            except KeyError:\n",
        "                V[:,j] = np.zeros(300)\n",
        "                \n",
        "        V[:,0:4] = np.cumsum(V[:,0:4],axis=1)\n",
        "        V[:,4:8] = np.cumsum(V[:,4:8],axis=1)\n",
        "        for k in range(1,4):\n",
        "            V[:,k] = V[:,k]/k+1\n",
        "            V[:,k+4] = V[:,k+4]/k+1\n",
        "            \n",
        "        pca = PCA(n_components=1)\n",
        "        pc1 = pca.fit_transform(V)\n",
        "        V_inter[:,i] = pc1.reshape(300,)\n",
        "    return V_inter"
      ],
      "execution_count": 10,
      "outputs": []
    },
    {
      "cell_type": "code",
      "metadata": {
        "id": "9ErpfT8GfBK4"
      },
      "source": [
        "def find_vlvr_vector(df, embeddings):\n",
        "    n = len(df)\n",
        "    tmp = np.array(df)\n",
        "    vl = np.zeros((300,n))\n",
        "    vr = np.zeros((300,n))\n",
        "    for i in range(n):\n",
        "        for j in range(4):\n",
        "            try:\n",
        "                vl[:,i] = vl[:,i] + embeddings[tmp[i][j]]\n",
        "            except KeyError:\n",
        "                pass\n",
        "            try:\n",
        "                vr[:,i] = vr[:,i] + embeddings[tmp[i][j+4]]\n",
        "            except KeyError:\n",
        "                pass\n",
        "    return vl/4, vr/4"
      ],
      "execution_count": 11,
      "outputs": []
    },
    {
      "cell_type": "code",
      "metadata": {
        "id": "VSM-GTtuxGXH"
      },
      "source": [
        "def feature_vector(vl,vr,vinter,a,b,c):\n",
        "    n=vl.shape[1]\n",
        "    features = np.zeros((300,n))\n",
        "    for i in range(n):\n",
        "        features[:,i] = a*vl[:,i]+b*vr[:,i]+c*vinter[:,i]\n",
        "    return features\n",
        "    "
      ],
      "execution_count": 12,
      "outputs": []
    },
    {
      "cell_type": "code",
      "metadata": {
        "id": "dIsh17EBL-ZE"
      },
      "source": [
        "def features_from_file(file,preposition):\n",
        "  df_final = training_data(file,preposition)\n",
        "  df_final = preprocessing(df_final)\n",
        "  df_vl_vr = vl_vr_words(df_final)\n",
        "  v_inter = find_vinter(df_vl_vr,glove_vectors_emb)\n",
        "  vlkl,vrkr = find_vlvr_vector(df_vl_vr,glove_vectors_emb)\n",
        "  features = feature_vector(vlkl,vrkr,v_inter,1/3,1/3,1/3)\n",
        "  return features, df_final"
      ],
      "execution_count": 13,
      "outputs": []
    },
    {
      "cell_type": "markdown",
      "metadata": {
        "id": "Nl1aEDsiMGXm"
      },
      "source": [
        "\n",
        "\n",
        "### SVM"
      ]
    },
    {
      "cell_type": "code",
      "metadata": {
        "id": "CzaJEcn2MMhi"
      },
      "source": [
        "from sklearn.model_selection import train_test_split\n",
        "\n",
        "from sklearn.model_selection import cross_val_score\n",
        "from sklearn.svm import SVC\n",
        "from sklearn.metrics import classification_report\n",
        "from sklearn.neighbors import KNeighborsClassifier"
      ],
      "execution_count": 14,
      "outputs": []
    },
    {
      "cell_type": "code",
      "metadata": {
        "id": "jRC8qcCHMU5I"
      },
      "source": [
        "def SVM_Model(features,df):\n",
        "    X = features.T\n",
        "    y = df[\"label\"]\n",
        "    X_train, X_test, y_train, y_test = train_test_split(X, y, test_size=0.25, random_state=5)\n",
        "    classifier = SVC(kernel = 'linear')\n",
        "    classifier.fit(X_train, y_train)\n",
        "    y_pred = classifier.predict(X_test)\n",
        "    print(classification_report(y_test, y_pred))\n",
        "    return classifier"
      ],
      "execution_count": 15,
      "outputs": []
    },
    {
      "cell_type": "code",
      "metadata": {
        "id": "czv7uBOFyXcD"
      },
      "source": [
        ""
      ],
      "execution_count": 15,
      "outputs": []
    },
    {
      "cell_type": "markdown",
      "metadata": {
        "id": "hXDQopk5yYvj"
      },
      "source": [
        "### KNN"
      ]
    },
    {
      "cell_type": "code",
      "metadata": {
        "id": "Am5_jhZCyhWM"
      },
      "source": [
        "def KNN_model(features, df):\n",
        "  X = features.T\n",
        "  y = df[\"label\"]\n",
        "  X_train, X_test, y_train, y_test = train_test_split(X, y, test_size=0.25, random_state=5)\n",
        "  classifier = KNeighborsClassifier(n_neighbors=3)\n",
        "  classifier.fit(X_train, y_train)\n",
        "  y_pred = classifier.predict(X_test)\n",
        "  print(classification_report(y_test, y_pred))\n",
        "  return classifier"
      ],
      "execution_count": 16,
      "outputs": []
    },
    {
      "cell_type": "code",
      "metadata": {
        "id": "ldQTQHG2zGFM"
      },
      "source": [
        "### Prediction"
      ],
      "execution_count": 17,
      "outputs": []
    },
    {
      "cell_type": "code",
      "metadata": {
        "id": "fexOmJ3qMaqQ"
      },
      "source": [
        "def pre_test(file,preposition,embeddings,classifier):\n",
        "    with open(file) as f:\n",
        "            read_data = f.readlines()\n",
        "    df_test = pd.DataFrame(columns=['sent_before','sent_after'],index=np.arange(len(read_data)))\n",
        "    for i in range(len(read_data)):\n",
        "        tokenized_text = nltk.word_tokenize(read_data[i])\n",
        "        tokenized_text = [w.lower() for w in tokenized_text if w.isalpha()]\n",
        "        index_prep = tokenized_text.index(preposition)\n",
        "        df_test['sent_before'][i] =  tokenized_text[0:index_prep]\n",
        "        df_test['sent_after'][i] = tokenized_text[index_prep+1:]\n",
        "    df_vl_vr = vl_vr_words(df_test)\n",
        "    v_inter=find_vinter(df_vl_vr,embeddings)\n",
        "    vlkl,vrkr = find_vlvr_vector(df_vl_vr,embeddings)\n",
        "    features_test = feature_vector(vlkl,vrkr,v_inter,1/3,1/3,1/3)\n",
        "    X_test = features_test.T\n",
        "    y_test = classifier.predict(X_test)\n",
        "    return y_test  "
      ],
      "execution_count": 18,
      "outputs": []
    },
    {
      "cell_type": "code",
      "metadata": {
        "id": "H8ilbdY4ygAg"
      },
      "source": [
        ""
      ],
      "execution_count": 18,
      "outputs": []
    },
    {
      "cell_type": "markdown",
      "metadata": {
        "id": "hjmPmPErBKnK"
      },
      "source": [
        "## Preposition Wise Training"
      ]
    },
    {
      "cell_type": "markdown",
      "metadata": {
        "id": "gAAF_rGbBkvT"
      },
      "source": [
        "##### 1. About"
      ]
    },
    {
      "cell_type": "code",
      "metadata": {
        "id": "K3zaWUPoMcWf"
      },
      "source": [
        "features,df_final = features_from_file('/content/drive/MyDrive/Assignment1/data_assn1/Train/Source/pp-about.sents.trng.xml','about')"
      ],
      "execution_count": 19,
      "outputs": []
    },
    {
      "cell_type": "code",
      "metadata": {
        "colab": {
          "base_uri": "https://localhost:8080/"
        },
        "id": "iFNNfX6CB5fP",
        "outputId": "d213a4c5-b83b-4740-ce9f-abfb5a30af2c"
      },
      "source": [
        "svm_classifier = SVM_Model(features,df_final)\n",
        "knn_classifier =  KNN_model(features,df_final)"
      ],
      "execution_count": 20,
      "outputs": [
        {
          "output_type": "stream",
          "text": [
            "              precision    recall  f1-score   support\n",
            "\n",
            "        1(1)       0.91      1.00      0.95       160\n",
            "       2(1a)       0.00      0.00      0.00         4\n",
            "        3(2)       1.00      0.09      0.17        11\n",
            "      3(2)-1       1.00      0.33      0.50         3\n",
            "\n",
            "    accuracy                           0.91       178\n",
            "   macro avg       0.73      0.36      0.40       178\n",
            "weighted avg       0.90      0.91      0.87       178\n",
            "\n",
            "              precision    recall  f1-score   support\n",
            "\n",
            "        1(1)       0.91      1.00      0.96       160\n",
            "       2(1a)       0.00      0.00      0.00         4\n",
            "        3(2)       1.00      0.18      0.31        11\n",
            "      3(2)-1       0.00      0.00      0.00         3\n",
            "\n",
            "    accuracy                           0.91       178\n",
            "   macro avg       0.48      0.30      0.32       178\n",
            "weighted avg       0.88      0.91      0.88       178\n",
            "\n"
          ],
          "name": "stdout"
        },
        {
          "output_type": "stream",
          "text": [
            "/usr/local/lib/python3.7/dist-packages/sklearn/metrics/_classification.py:1272: UndefinedMetricWarning: Precision and F-score are ill-defined and being set to 0.0 in labels with no predicted samples. Use `zero_division` parameter to control this behavior.\n",
            "  _warn_prf(average, modifier, msg_start, len(result))\n",
            "/usr/local/lib/python3.7/dist-packages/sklearn/metrics/_classification.py:1272: UndefinedMetricWarning: Precision and F-score are ill-defined and being set to 0.0 in labels with no predicted samples. Use `zero_division` parameter to control this behavior.\n",
            "  _warn_prf(average, modifier, msg_start, len(result))\n"
          ],
          "name": "stderr"
        }
      ]
    },
    {
      "cell_type": "code",
      "metadata": {
        "id": "b4ps00hQDaie"
      },
      "source": [
        "#SVM is better\n",
        "y_out_test = pre_test('/content/drive/MyDrive/Assignment1/test_out/about.out','about',glove_vectors_emb,svm_classifier)"
      ],
      "execution_count": 21,
      "outputs": []
    },
    {
      "cell_type": "markdown",
      "metadata": {
        "id": "rgFjsAk1FyXy"
      },
      "source": [
        "#### 2. Above"
      ]
    },
    {
      "cell_type": "code",
      "metadata": {
        "id": "nFHcPZPIK9DD"
      },
      "source": [
        "features, df_final = features_from_file('/content/drive/MyDrive/Assignment1/data_assn1/Train/Source/pp-above.sents.trng.xml','above')"
      ],
      "execution_count": 22,
      "outputs": []
    },
    {
      "cell_type": "code",
      "metadata": {
        "colab": {
          "base_uri": "https://localhost:8080/"
        },
        "id": "Bzc2_h2YK9v_",
        "outputId": "0ad2a814-35a2-4213-cd97-0b5748d77626"
      },
      "source": [
        "svm_classifier = SVM_Model(features,df_final)\n",
        "knn_classifier =  KNN_model(features,df_final)"
      ],
      "execution_count": 23,
      "outputs": [
        {
          "output_type": "stream",
          "text": [
            "              precision    recall  f1-score   support\n",
            "\n",
            "        1(1)       0.00      0.00      0.00         0\n",
            "       2(1a)       0.00      0.00      0.00         2\n",
            "        4(2)       0.60      0.38      0.46         8\n",
            "       8(2d)       0.00      0.00      0.00         1\n",
            "        9(3)       0.00      0.00      0.00         1\n",
            "\n",
            "    accuracy                           0.25        12\n",
            "   macro avg       0.12      0.07      0.09        12\n",
            "weighted avg       0.40      0.25      0.31        12\n",
            "\n",
            "              precision    recall  f1-score   support\n",
            "\n",
            "        1(1)       0.00      0.00      0.00         0\n",
            "       2(1a)       0.50      0.50      0.50         2\n",
            "        4(2)       0.71      0.62      0.67         8\n",
            "       8(2d)       0.00      0.00      0.00         1\n",
            "        9(3)       0.00      0.00      0.00         1\n",
            "\n",
            "    accuracy                           0.50        12\n",
            "   macro avg       0.24      0.23      0.23        12\n",
            "weighted avg       0.56      0.50      0.53        12\n",
            "\n"
          ],
          "name": "stdout"
        },
        {
          "output_type": "stream",
          "text": [
            "/usr/local/lib/python3.7/dist-packages/sklearn/metrics/_classification.py:1272: UndefinedMetricWarning: Precision and F-score are ill-defined and being set to 0.0 in labels with no predicted samples. Use `zero_division` parameter to control this behavior.\n",
            "  _warn_prf(average, modifier, msg_start, len(result))\n",
            "/usr/local/lib/python3.7/dist-packages/sklearn/metrics/_classification.py:1272: UndefinedMetricWarning: Recall and F-score are ill-defined and being set to 0.0 in labels with no true samples. Use `zero_division` parameter to control this behavior.\n",
            "  _warn_prf(average, modifier, msg_start, len(result))\n",
            "/usr/local/lib/python3.7/dist-packages/sklearn/metrics/_classification.py:1272: UndefinedMetricWarning: Precision and F-score are ill-defined and being set to 0.0 in labels with no predicted samples. Use `zero_division` parameter to control this behavior.\n",
            "  _warn_prf(average, modifier, msg_start, len(result))\n",
            "/usr/local/lib/python3.7/dist-packages/sklearn/metrics/_classification.py:1272: UndefinedMetricWarning: Recall and F-score are ill-defined and being set to 0.0 in labels with no true samples. Use `zero_division` parameter to control this behavior.\n",
            "  _warn_prf(average, modifier, msg_start, len(result))\n"
          ],
          "name": "stderr"
        }
      ]
    },
    {
      "cell_type": "code",
      "metadata": {
        "id": "TRlyLUuuK-RM"
      },
      "source": [
        "#KNN is better\n",
        "y_out_test = pre_test('/content/drive/MyDrive/Assignment1/test_out/above.out','above',glove_vectors_emb,knn_classifier)"
      ],
      "execution_count": 24,
      "outputs": []
    },
    {
      "cell_type": "markdown",
      "metadata": {
        "id": "IA4ajIGHFzjC"
      },
      "source": [
        "### 3. across"
      ]
    },
    {
      "cell_type": "code",
      "metadata": {
        "colab": {
          "base_uri": "https://localhost:8080/"
        },
        "id": "UBnfyPzvPidl",
        "outputId": "e4001161-2a08-42ab-c470-5e256d2ae852"
      },
      "source": [
        "features, df_final = features_from_file('/content/drive/MyDrive/Assignment1/data_assn1/Train/Source/pp-across.sents.trng.xml','across')\n",
        "svm_classifier = SVM_Model(features,df_final)\n",
        "knn_classifier =  KNN_model(features,df_final)"
      ],
      "execution_count": 25,
      "outputs": [
        {
          "output_type": "stream",
          "text": [
            "              precision    recall  f1-score   support\n",
            "\n",
            "        1(1)       0.96      1.00      0.98        77\n",
            "        2(2)       0.00      0.00      0.00         3\n",
            "\n",
            "    accuracy                           0.96        80\n",
            "   macro avg       0.48      0.50      0.49        80\n",
            "weighted avg       0.93      0.96      0.94        80\n",
            "\n",
            "              precision    recall  f1-score   support\n",
            "\n",
            "        1(1)       0.96      1.00      0.98        77\n",
            "        2(2)       0.00      0.00      0.00         3\n",
            "\n",
            "    accuracy                           0.96        80\n",
            "   macro avg       0.48      0.50      0.49        80\n",
            "weighted avg       0.93      0.96      0.94        80\n",
            "\n"
          ],
          "name": "stdout"
        },
        {
          "output_type": "stream",
          "text": [
            "/usr/local/lib/python3.7/dist-packages/sklearn/metrics/_classification.py:1272: UndefinedMetricWarning: Precision and F-score are ill-defined and being set to 0.0 in labels with no predicted samples. Use `zero_division` parameter to control this behavior.\n",
            "  _warn_prf(average, modifier, msg_start, len(result))\n",
            "/usr/local/lib/python3.7/dist-packages/sklearn/metrics/_classification.py:1272: UndefinedMetricWarning: Precision and F-score are ill-defined and being set to 0.0 in labels with no predicted samples. Use `zero_division` parameter to control this behavior.\n",
            "  _warn_prf(average, modifier, msg_start, len(result))\n"
          ],
          "name": "stderr"
        }
      ]
    },
    {
      "cell_type": "code",
      "metadata": {
        "id": "L52VObcNPiFX"
      },
      "source": [
        "#SVM is better\n",
        "y_out_test = pre_test('/content/drive/MyDrive/Assignment1/test_out/across.out','across',glove_vectors_emb,svm_classifier)"
      ],
      "execution_count": 26,
      "outputs": []
    },
    {
      "cell_type": "markdown",
      "metadata": {
        "id": "1MvG8doRIWrL"
      },
      "source": [
        "### 4. after"
      ]
    },
    {
      "cell_type": "code",
      "metadata": {
        "colab": {
          "base_uri": "https://localhost:8080/"
        },
        "id": "WIt1jZTFPjn1",
        "outputId": "3c559b1f-524d-4052-be59-bc8d6de1ffbe"
      },
      "source": [
        "features, df_final = features_from_file('/content/drive/MyDrive/Assignment1/data_assn1/Train/Source/pp-after.sents.trng.xml','after')\n",
        "svm_classifier = SVM_Model(features,df_final)\n",
        "knn_classifier =  KNN_model(features,df_final)"
      ],
      "execution_count": 27,
      "outputs": [
        {
          "output_type": "stream",
          "text": [
            "              precision    recall  f1-score   support\n",
            "\n",
            "        1(1)       0.67      0.31      0.42        13\n",
            "      1(1)-1       0.33      0.50      0.40         2\n",
            "        5(2)       0.25      0.67      0.36         6\n",
            "       6(2a)       1.00      1.00      1.00         1\n",
            "        7(3)       0.00      0.00      0.00         3\n",
            "        9(5)       0.00      0.00      0.00         1\n",
            "\n",
            "    accuracy                           0.38        26\n",
            "   macro avg       0.38      0.41      0.36        26\n",
            "weighted avg       0.46      0.38      0.36        26\n",
            "\n",
            "              precision    recall  f1-score   support\n",
            "\n",
            "        1(1)       0.60      0.46      0.52        13\n",
            "      1(1)-1       0.00      0.00      0.00         2\n",
            "        5(2)       0.29      0.67      0.40         6\n",
            "       6(2a)       0.00      0.00      0.00         1\n",
            "        7(3)       0.00      0.00      0.00         3\n",
            "        9(5)       0.00      0.00      0.00         1\n",
            "\n",
            "    accuracy                           0.38        26\n",
            "   macro avg       0.15      0.19      0.15        26\n",
            "weighted avg       0.37      0.38      0.35        26\n",
            "\n"
          ],
          "name": "stdout"
        },
        {
          "output_type": "stream",
          "text": [
            "/usr/local/lib/python3.7/dist-packages/sklearn/metrics/_classification.py:1272: UndefinedMetricWarning: Precision and F-score are ill-defined and being set to 0.0 in labels with no predicted samples. Use `zero_division` parameter to control this behavior.\n",
            "  _warn_prf(average, modifier, msg_start, len(result))\n",
            "/usr/local/lib/python3.7/dist-packages/sklearn/metrics/_classification.py:1272: UndefinedMetricWarning: Precision and F-score are ill-defined and being set to 0.0 in labels with no predicted samples. Use `zero_division` parameter to control this behavior.\n",
            "  _warn_prf(average, modifier, msg_start, len(result))\n"
          ],
          "name": "stderr"
        }
      ]
    },
    {
      "cell_type": "code",
      "metadata": {
        "id": "eng1eOL6Pjep"
      },
      "source": [
        "#SVM is better\n",
        "y_out_test = pre_test('/content/drive/MyDrive/Assignment1/test_out/after.out','after',glove_vectors_emb,svm_classifier)"
      ],
      "execution_count": 28,
      "outputs": []
    },
    {
      "cell_type": "markdown",
      "metadata": {
        "id": "up7VM9N5IWgZ"
      },
      "source": [
        "### 5.against"
      ]
    },
    {
      "cell_type": "code",
      "metadata": {
        "id": "hCH9FSOLPlLC",
        "colab": {
          "base_uri": "https://localhost:8080/"
        },
        "outputId": "90cb5443-5d28-45a9-dde2-22790d210741"
      },
      "source": [
        "features, df_final = features_from_file('/content/drive/MyDrive/Assignment1/data_assn1/Train/Source/pp-against.sents.trng.xml','against')\n",
        "svm_classifier = SVM_Model(features,df_final)\n",
        "knn_classifier =  KNN_model(features,df_final)"
      ],
      "execution_count": 29,
      "outputs": [
        {
          "output_type": "stream",
          "text": [
            "              precision    recall  f1-score   support\n",
            "\n",
            "        1(1)       0.38      0.42      0.40        12\n",
            "       10(4)       0.62      0.81      0.70        26\n",
            "       2(1a)       1.00      0.50      0.67         4\n",
            "       3(1b)       0.00      0.00      0.00         2\n",
            "        4(2)       0.00      0.00      0.00         4\n",
            "       6(2b)       0.00      0.00      0.00         1\n",
            "\n",
            "    accuracy                           0.57        49\n",
            "   macro avg       0.33      0.29      0.29        49\n",
            "weighted avg       0.50      0.57      0.52        49\n",
            "\n",
            "              precision    recall  f1-score   support\n",
            "\n",
            "        1(1)       0.47      0.67      0.55        12\n",
            "       10(4)       0.73      0.85      0.79        26\n",
            "       2(1a)       1.00      0.50      0.67         4\n",
            "       3(1b)       0.00      0.00      0.00         2\n",
            "        4(2)       0.00      0.00      0.00         4\n",
            "       6(2b)       0.00      0.00      0.00         1\n",
            "\n",
            "    accuracy                           0.65        49\n",
            "   macro avg       0.37      0.34      0.33        49\n",
            "weighted avg       0.59      0.65      0.61        49\n",
            "\n"
          ],
          "name": "stdout"
        },
        {
          "output_type": "stream",
          "text": [
            "/usr/local/lib/python3.7/dist-packages/sklearn/metrics/_classification.py:1272: UndefinedMetricWarning: Precision and F-score are ill-defined and being set to 0.0 in labels with no predicted samples. Use `zero_division` parameter to control this behavior.\n",
            "  _warn_prf(average, modifier, msg_start, len(result))\n",
            "/usr/local/lib/python3.7/dist-packages/sklearn/metrics/_classification.py:1272: UndefinedMetricWarning: Precision and F-score are ill-defined and being set to 0.0 in labels with no predicted samples. Use `zero_division` parameter to control this behavior.\n",
            "  _warn_prf(average, modifier, msg_start, len(result))\n"
          ],
          "name": "stderr"
        }
      ]
    },
    {
      "cell_type": "code",
      "metadata": {
        "id": "T3O4nvPwPkz9"
      },
      "source": [
        "#KNN is better\n",
        "y_out_test = pre_test('/content/drive/MyDrive/Assignment1/test_out/against.out','against',glove_vectors_emb,knn_classifier)"
      ],
      "execution_count": 30,
      "outputs": []
    },
    {
      "cell_type": "markdown",
      "metadata": {
        "id": "mtFaTao_IWZi"
      },
      "source": [
        "### 6. along"
      ]
    },
    {
      "cell_type": "code",
      "metadata": {
        "id": "JzekJisYPm9g",
        "colab": {
          "base_uri": "https://localhost:8080/"
        },
        "outputId": "d383f741-7480-4b76-c478-c24ee1c76606"
      },
      "source": [
        "features, df_final = features_from_file('/content/drive/MyDrive/Assignment1/data_assn1/Train/Source/pp-along.sents.trng.xml','along')\n",
        "svm_classifier = SVM_Model(features,df_final)\n",
        "knn_classifier =  KNN_model(features,df_final)"
      ],
      "execution_count": 31,
      "outputs": [
        {
          "output_type": "stream",
          "text": [
            "              precision    recall  f1-score   support\n",
            "\n",
            "        1(1)       0.93      1.00      0.97        86\n",
            "        3(2)       0.00      0.00      0.00         5\n",
            "        4(3)       0.00      0.00      0.00         1\n",
            "\n",
            "    accuracy                           0.93        92\n",
            "   macro avg       0.31      0.33      0.32        92\n",
            "weighted avg       0.87      0.93      0.90        92\n",
            "\n",
            "              precision    recall  f1-score   support\n",
            "\n",
            "        1(1)       0.93      1.00      0.97        86\n",
            "        3(2)       0.00      0.00      0.00         5\n",
            "        4(3)       0.00      0.00      0.00         1\n",
            "\n",
            "    accuracy                           0.93        92\n",
            "   macro avg       0.31      0.33      0.32        92\n",
            "weighted avg       0.87      0.93      0.90        92\n",
            "\n"
          ],
          "name": "stdout"
        },
        {
          "output_type": "stream",
          "text": [
            "/usr/local/lib/python3.7/dist-packages/sklearn/metrics/_classification.py:1272: UndefinedMetricWarning: Precision and F-score are ill-defined and being set to 0.0 in labels with no predicted samples. Use `zero_division` parameter to control this behavior.\n",
            "  _warn_prf(average, modifier, msg_start, len(result))\n",
            "/usr/local/lib/python3.7/dist-packages/sklearn/metrics/_classification.py:1272: UndefinedMetricWarning: Precision and F-score are ill-defined and being set to 0.0 in labels with no predicted samples. Use `zero_division` parameter to control this behavior.\n",
            "  _warn_prf(average, modifier, msg_start, len(result))\n"
          ],
          "name": "stderr"
        }
      ]
    },
    {
      "cell_type": "code",
      "metadata": {
        "id": "QUOH4XhmPmBp"
      },
      "source": [
        "#SVM is better\n",
        "y_out_test = pre_test('/content/drive/MyDrive/Assignment1/test_out/along.out','along',glove_vectors_emb,svm_classifier)"
      ],
      "execution_count": 32,
      "outputs": []
    },
    {
      "cell_type": "markdown",
      "metadata": {
        "id": "pVo-EgNsIWOA"
      },
      "source": [
        "\n",
        "\n",
        "\n",
        "### 7. among\n",
        "\n",
        "\n"
      ]
    },
    {
      "cell_type": "code",
      "metadata": {
        "id": "F9NFVahJPoQ7",
        "colab": {
          "base_uri": "https://localhost:8080/"
        },
        "outputId": "f771c142-dde1-48ab-b83f-869036b334f7"
      },
      "source": [
        "features, df_final = features_from_file('/content/drive/MyDrive/Assignment1/data_assn1/Train/Source/pp-among.sents.trng.xml','among')\n",
        "svm_classifier = SVM_Model(features,df_final)\n",
        "knn_classifier =  KNN_model(features,df_final)"
      ],
      "execution_count": 33,
      "outputs": [
        {
          "output_type": "stream",
          "text": [
            "              precision    recall  f1-score   support\n",
            "\n",
            "        1(1)       0.50      0.73      0.59        11\n",
            "        2(2)       0.67      0.40      0.50         5\n",
            "        3(3)       0.50      0.33      0.40         9\n",
            "\n",
            "    accuracy                           0.52        25\n",
            "   macro avg       0.56      0.49      0.50        25\n",
            "weighted avg       0.53      0.52      0.50        25\n",
            "\n",
            "              precision    recall  f1-score   support\n",
            "\n",
            "        1(1)       0.50      0.91      0.65        11\n",
            "        2(2)       0.00      0.00      0.00         5\n",
            "        3(3)       0.75      0.33      0.46         9\n",
            "\n",
            "    accuracy                           0.52        25\n",
            "   macro avg       0.42      0.41      0.37        25\n",
            "weighted avg       0.49      0.52      0.45        25\n",
            "\n"
          ],
          "name": "stdout"
        }
      ]
    },
    {
      "cell_type": "code",
      "metadata": {
        "id": "FUzDs5INPn9l"
      },
      "source": [
        "#KNN is better\n",
        "y_out_test = pre_test('/content/drive/MyDrive/Assignment1/test_out/among.out','among',glove_vectors_emb,knn_classifier)"
      ],
      "execution_count": 34,
      "outputs": []
    },
    {
      "cell_type": "markdown",
      "metadata": {
        "id": "gSpUJRE8IWHd"
      },
      "source": [
        "### 8.around"
      ]
    },
    {
      "cell_type": "code",
      "metadata": {
        "id": "JlymmMdWPpqD",
        "colab": {
          "base_uri": "https://localhost:8080/"
        },
        "outputId": "b059bb5d-f430-46b4-ec7b-aab8f7beaaaf"
      },
      "source": [
        "features, df_final = features_from_file('/content/drive/MyDrive/Assignment1/data_assn1/Train/Source/pp-around.sents.trng.xml','around')\n",
        "svm_classifier = SVM_Model(features,df_final)\n",
        "knn_classifier =  KNN_model(features,df_final)"
      ],
      "execution_count": 35,
      "outputs": [
        {
          "output_type": "stream",
          "text": [
            "              precision    recall  f1-score   support\n",
            "\n",
            "        1(1)       0.43      0.20      0.27        15\n",
            "       2(1a)       0.00      0.00      0.00         1\n",
            "        3(2)       0.52      0.80      0.63        41\n",
            "        4(3)       0.33      0.14      0.20         7\n",
            "      4(3)-1       0.00      0.00      0.00        11\n",
            "        5(4)       0.50      0.44      0.47         9\n",
            "\n",
            "    accuracy                           0.49        84\n",
            "   macro avg       0.30      0.27      0.26        84\n",
            "weighted avg       0.41      0.49      0.42        84\n",
            "\n",
            "              precision    recall  f1-score   support\n",
            "\n",
            "        1(1)       0.56      0.67      0.61        15\n",
            "       2(1a)       0.00      0.00      0.00         1\n",
            "        3(2)       0.70      0.63      0.67        41\n",
            "        4(3)       0.21      0.57      0.31         7\n",
            "      4(3)-1       0.50      0.09      0.15        11\n",
            "        5(4)       0.88      0.78      0.82         9\n",
            "\n",
            "    accuracy                           0.57        84\n",
            "   macro avg       0.47      0.46      0.43        84\n",
            "weighted avg       0.62      0.57      0.57        84\n",
            "\n"
          ],
          "name": "stdout"
        },
        {
          "output_type": "stream",
          "text": [
            "/usr/local/lib/python3.7/dist-packages/sklearn/metrics/_classification.py:1272: UndefinedMetricWarning: Precision and F-score are ill-defined and being set to 0.0 in labels with no predicted samples. Use `zero_division` parameter to control this behavior.\n",
            "  _warn_prf(average, modifier, msg_start, len(result))\n",
            "/usr/local/lib/python3.7/dist-packages/sklearn/metrics/_classification.py:1272: UndefinedMetricWarning: Precision and F-score are ill-defined and being set to 0.0 in labels with no predicted samples. Use `zero_division` parameter to control this behavior.\n",
            "  _warn_prf(average, modifier, msg_start, len(result))\n"
          ],
          "name": "stderr"
        }
      ]
    },
    {
      "cell_type": "code",
      "metadata": {
        "id": "KnlNTU1LPpRI"
      },
      "source": [
        "#KNN is better\n",
        "y_out_test = pre_test('/content/drive/MyDrive/Assignment1/test_out/around.out','around',glove_vectors_emb,knn_classifier)"
      ],
      "execution_count": 36,
      "outputs": []
    },
    {
      "cell_type": "markdown",
      "metadata": {
        "id": "gwljdLJ8IV8W"
      },
      "source": [
        "### 9.as"
      ]
    },
    {
      "cell_type": "code",
      "metadata": {
        "id": "KCGsEKd0Pq5e",
        "colab": {
          "base_uri": "https://localhost:8080/"
        },
        "outputId": "0fa5ee78-1bbf-4fed-ed74-73623b0429f7"
      },
      "source": [
        "features, df_final = features_from_file('/content/drive/MyDrive/Assignment1/data_assn1/Train/Source/pp-as.sents.trng.xml','as')\n",
        "np.unique(df_final['label'])\n",
        "#svm_classifier = SVM_Model(features,df_final)\n",
        "#knn_classifier =  KNN_model(features,df_final)"
      ],
      "execution_count": 46,
      "outputs": [
        {
          "output_type": "execute_result",
          "data": {
            "text/plain": [
              "array(['1(1)'], dtype=object)"
            ]
          },
          "metadata": {
            "tags": []
          },
          "execution_count": 46
        }
      ]
    },
    {
      "cell_type": "code",
      "metadata": {
        "id": "J0w7W2P3Pqlt"
      },
      "source": [
        "## Only label is there so no model required\n"
      ],
      "execution_count": 47,
      "outputs": []
    },
    {
      "cell_type": "markdown",
      "metadata": {
        "id": "kRFxHd3oIV2E"
      },
      "source": [
        "### 10. at"
      ]
    },
    {
      "cell_type": "code",
      "metadata": {
        "id": "c9WIL7iyPsHF",
        "colab": {
          "base_uri": "https://localhost:8080/"
        },
        "outputId": "8414b113-9816-4f68-9422-5e23ba26f734"
      },
      "source": [
        "features, df_final = features_from_file('/content/drive/MyDrive/Assignment1/data_assn1/Train/Source/pp-at.sents.trng.xml','at')\n",
        "svm_classifier = SVM_Model(features,df_final)\n",
        "knn_classifier =  KNN_model(features,df_final)"
      ],
      "execution_count": 48,
      "outputs": [
        {
          "output_type": "stream",
          "text": [
            "              precision    recall  f1-score   support\n",
            "\n",
            "        1(1)       0.47      0.59      0.52        68\n",
            "  1(1) 4(2b)       0.00      0.00      0.00         9\n",
            "      10(5a)       0.50      0.25      0.33         8\n",
            "       11(6)       1.00      1.00      1.00         2\n",
            "     11(6)-1       0.39      0.35      0.37        26\n",
            "        2(2)       0.67      0.50      0.57         8\n",
            "       3(2a)       0.00      0.00      0.00         1\n",
            "        5(3)       0.67      0.57      0.62         7\n",
            "       8(4a)       0.00      0.00      0.00         1\n",
            "        9(5)       0.38      0.40      0.39        48\n",
            "9(5) 11(6)-1       0.00      0.00      0.00         1\n",
            "\n",
            "    accuracy                           0.45       179\n",
            "   macro avg       0.37      0.33      0.34       179\n",
            "weighted avg       0.42      0.45      0.43       179\n",
            "\n",
            "              precision    recall  f1-score   support\n",
            "\n",
            "        1(1)       0.64      0.85      0.73        68\n",
            "  1(1) 4(2b)       1.00      0.22      0.36         9\n",
            "      10(5a)       1.00      0.12      0.22         8\n",
            "       11(6)       0.00      0.00      0.00         2\n",
            "     11(6)-1       0.74      0.77      0.75        26\n",
            "        2(2)       0.75      0.38      0.50         8\n",
            "       3(2a)       0.00      0.00      0.00         1\n",
            "        5(3)       1.00      0.43      0.60         7\n",
            "       8(4a)       0.25      1.00      0.40         1\n",
            "        9(5)       0.75      0.69      0.72        48\n",
            "9(5) 11(6)-1       0.00      0.00      0.00         1\n",
            "\n",
            "    accuracy                           0.68       179\n",
            "   macro avg       0.56      0.41      0.39       179\n",
            "weighted avg       0.72      0.68      0.66       179\n",
            "\n"
          ],
          "name": "stdout"
        },
        {
          "output_type": "stream",
          "text": [
            "/usr/local/lib/python3.7/dist-packages/sklearn/metrics/_classification.py:1272: UndefinedMetricWarning: Precision and F-score are ill-defined and being set to 0.0 in labels with no predicted samples. Use `zero_division` parameter to control this behavior.\n",
            "  _warn_prf(average, modifier, msg_start, len(result))\n",
            "/usr/local/lib/python3.7/dist-packages/sklearn/metrics/_classification.py:1272: UndefinedMetricWarning: Precision and F-score are ill-defined and being set to 0.0 in labels with no predicted samples. Use `zero_division` parameter to control this behavior.\n",
            "  _warn_prf(average, modifier, msg_start, len(result))\n"
          ],
          "name": "stderr"
        }
      ]
    },
    {
      "cell_type": "code",
      "metadata": {
        "id": "3597geLKPrw4"
      },
      "source": [
        "#KNN is better\n",
        "y_out_test = pre_test('/content/drive/MyDrive/Assignment1/test_out/at.out','at',glove_vectors_emb,knn_classifier)"
      ],
      "execution_count": 49,
      "outputs": []
    },
    {
      "cell_type": "markdown",
      "metadata": {
        "id": "FryscZEXIVsR"
      },
      "source": [
        "### 11. at"
      ]
    },
    {
      "cell_type": "code",
      "metadata": {
        "id": "BE68kbPJPtK3",
        "colab": {
          "base_uri": "https://localhost:8080/"
        },
        "outputId": "0a667003-d6dd-44ac-8172-e35a7951be4c"
      },
      "source": [
        "features, df_final = features_from_file('/content/drive/MyDrive/Assignment1/data_assn1/Train/Source/pp-at.sents.trng.xml','at')\n",
        "svm_classifier = SVM_Model(features,df_final)\n",
        "knn_classifier =  KNN_model(features,df_final)"
      ],
      "execution_count": 50,
      "outputs": [
        {
          "output_type": "stream",
          "text": [
            "              precision    recall  f1-score   support\n",
            "\n",
            "        1(1)       0.47      0.59      0.52        68\n",
            "  1(1) 4(2b)       0.00      0.00      0.00         9\n",
            "      10(5a)       0.50      0.25      0.33         8\n",
            "       11(6)       1.00      1.00      1.00         2\n",
            "     11(6)-1       0.39      0.35      0.37        26\n",
            "        2(2)       0.67      0.50      0.57         8\n",
            "       3(2a)       0.00      0.00      0.00         1\n",
            "        5(3)       0.67      0.57      0.62         7\n",
            "       8(4a)       0.00      0.00      0.00         1\n",
            "        9(5)       0.38      0.40      0.39        48\n",
            "9(5) 11(6)-1       0.00      0.00      0.00         1\n",
            "\n",
            "    accuracy                           0.45       179\n",
            "   macro avg       0.37      0.33      0.34       179\n",
            "weighted avg       0.42      0.45      0.43       179\n",
            "\n",
            "              precision    recall  f1-score   support\n",
            "\n",
            "        1(1)       0.64      0.85      0.73        68\n",
            "  1(1) 4(2b)       1.00      0.22      0.36         9\n",
            "      10(5a)       1.00      0.12      0.22         8\n",
            "       11(6)       0.00      0.00      0.00         2\n",
            "     11(6)-1       0.74      0.77      0.75        26\n",
            "        2(2)       0.75      0.38      0.50         8\n",
            "       3(2a)       0.00      0.00      0.00         1\n",
            "        5(3)       1.00      0.43      0.60         7\n",
            "       8(4a)       0.25      1.00      0.40         1\n",
            "        9(5)       0.75      0.69      0.72        48\n",
            "9(5) 11(6)-1       0.00      0.00      0.00         1\n",
            "\n",
            "    accuracy                           0.68       179\n",
            "   macro avg       0.56      0.41      0.39       179\n",
            "weighted avg       0.72      0.68      0.66       179\n",
            "\n"
          ],
          "name": "stdout"
        },
        {
          "output_type": "stream",
          "text": [
            "/usr/local/lib/python3.7/dist-packages/sklearn/metrics/_classification.py:1272: UndefinedMetricWarning: Precision and F-score are ill-defined and being set to 0.0 in labels with no predicted samples. Use `zero_division` parameter to control this behavior.\n",
            "  _warn_prf(average, modifier, msg_start, len(result))\n",
            "/usr/local/lib/python3.7/dist-packages/sklearn/metrics/_classification.py:1272: UndefinedMetricWarning: Precision and F-score are ill-defined and being set to 0.0 in labels with no predicted samples. Use `zero_division` parameter to control this behavior.\n",
            "  _warn_prf(average, modifier, msg_start, len(result))\n"
          ],
          "name": "stderr"
        }
      ]
    },
    {
      "cell_type": "code",
      "metadata": {
        "id": "7TjsFrvpPs7u"
      },
      "source": [
        "#KNN is better\n",
        "y_out_test = pre_test('/content/drive/MyDrive/Assignment1/test_out/at.out','at',glove_vectors_emb,knn_classifier)"
      ],
      "execution_count": 51,
      "outputs": []
    },
    {
      "cell_type": "markdown",
      "metadata": {
        "id": "k5N_qjvoIVf6"
      },
      "source": [
        "### 12. before"
      ]
    },
    {
      "cell_type": "code",
      "metadata": {
        "id": "RVaguSZYPvja",
        "colab": {
          "base_uri": "https://localhost:8080/"
        },
        "outputId": "6dd7cc18-e786-4b09-f339-f199baf2d301"
      },
      "source": [
        "features, df_final = features_from_file('/content/drive/MyDrive/Assignment1/data_assn1/Train/Source/pp-before.sents.trng.xml','before')\n",
        "svm_classifier = SVM_Model(features,df_final)\n",
        "knn_classifier =  KNN_model(features,df_final)"
      ],
      "execution_count": 52,
      "outputs": [
        {
          "output_type": "stream",
          "text": [
            "              precision    recall  f1-score   support\n",
            "\n",
            "        1(1)       0.33      0.11      0.17         9\n",
            "        2(2)       0.12      0.33      0.18         3\n",
            "       3(2a)       0.00      0.00      0.00         0\n",
            "\n",
            "    accuracy                           0.17        12\n",
            "   macro avg       0.15      0.15      0.12        12\n",
            "weighted avg       0.28      0.17      0.17        12\n",
            "\n",
            "              precision    recall  f1-score   support\n",
            "\n",
            "        1(1)       1.00      0.22      0.36         9\n",
            "        2(2)       0.14      0.33      0.20         3\n",
            "       3(2a)       0.00      0.00      0.00         0\n",
            "\n",
            "    accuracy                           0.25        12\n",
            "   macro avg       0.38      0.19      0.19        12\n",
            "weighted avg       0.79      0.25      0.32        12\n",
            "\n"
          ],
          "name": "stdout"
        },
        {
          "output_type": "stream",
          "text": [
            "/usr/local/lib/python3.7/dist-packages/sklearn/metrics/_classification.py:1272: UndefinedMetricWarning: Recall and F-score are ill-defined and being set to 0.0 in labels with no true samples. Use `zero_division` parameter to control this behavior.\n",
            "  _warn_prf(average, modifier, msg_start, len(result))\n",
            "/usr/local/lib/python3.7/dist-packages/sklearn/metrics/_classification.py:1272: UndefinedMetricWarning: Recall and F-score are ill-defined and being set to 0.0 in labels with no true samples. Use `zero_division` parameter to control this behavior.\n",
            "  _warn_prf(average, modifier, msg_start, len(result))\n"
          ],
          "name": "stderr"
        }
      ]
    },
    {
      "cell_type": "code",
      "metadata": {
        "id": "RC4fr4oQPvQX"
      },
      "source": [
        "\n",
        "#KNN is better\n",
        "y_out_test = pre_test('/content/drive/MyDrive/Assignment1/test_out/before.out','before',glove_vectors_emb,knn_classifier)"
      ],
      "execution_count": 53,
      "outputs": []
    },
    {
      "cell_type": "markdown",
      "metadata": {
        "id": "WVpDVBeZIVZf"
      },
      "source": [
        "### 13. behind"
      ]
    },
    {
      "cell_type": "code",
      "metadata": {
        "id": "-DSz2KYyPwsu",
        "colab": {
          "base_uri": "https://localhost:8080/"
        },
        "outputId": "0e03f390-d145-407f-8a56-40ebd0403cc8"
      },
      "source": [
        "features, df_final = features_from_file('/content/drive/MyDrive/Assignment1/data_assn1/Train/Source/pp-behind.sents.trng.xml','behind')\n",
        "svm_classifier = SVM_Model(features,df_final)\n",
        "knn_classifier =  KNN_model(features,df_final)"
      ],
      "execution_count": 54,
      "outputs": [
        {
          "output_type": "stream",
          "text": [
            "              precision    recall  f1-score   support\n",
            "\n",
            "        1(1)       0.58      0.75      0.65        20\n",
            "        3(2)       0.29      0.20      0.24        10\n",
            "       4(2a)       1.00      0.50      0.67         4\n",
            "        5(3)       0.00      0.00      0.00         1\n",
            "\n",
            "    accuracy                           0.54        35\n",
            "   macro avg       0.47      0.36      0.39        35\n",
            "weighted avg       0.53      0.54      0.52        35\n",
            "\n",
            "              precision    recall  f1-score   support\n",
            "\n",
            "        1(1)       0.61      0.55      0.58        20\n",
            "        3(2)       0.44      0.70      0.54        10\n",
            "       4(2a)       0.00      0.00      0.00         4\n",
            "        5(3)       0.00      0.00      0.00         1\n",
            "\n",
            "    accuracy                           0.51        35\n",
            "   macro avg       0.26      0.31      0.28        35\n",
            "weighted avg       0.47      0.51      0.48        35\n",
            "\n"
          ],
          "name": "stdout"
        },
        {
          "output_type": "stream",
          "text": [
            "/usr/local/lib/python3.7/dist-packages/sklearn/metrics/_classification.py:1272: UndefinedMetricWarning: Precision and F-score are ill-defined and being set to 0.0 in labels with no predicted samples. Use `zero_division` parameter to control this behavior.\n",
            "  _warn_prf(average, modifier, msg_start, len(result))\n",
            "/usr/local/lib/python3.7/dist-packages/sklearn/metrics/_classification.py:1272: UndefinedMetricWarning: Precision and F-score are ill-defined and being set to 0.0 in labels with no predicted samples. Use `zero_division` parameter to control this behavior.\n",
            "  _warn_prf(average, modifier, msg_start, len(result))\n"
          ],
          "name": "stderr"
        }
      ]
    },
    {
      "cell_type": "code",
      "metadata": {
        "id": "iJwV88n5PwYv"
      },
      "source": [
        "#SVM is better\n",
        "y_out_test = pre_test('/content/drive/MyDrive/Assignment1/test_out/behind.out','behind',glove_vectors_emb,svm_classifier)"
      ],
      "execution_count": 55,
      "outputs": []
    },
    {
      "cell_type": "markdown",
      "metadata": {
        "id": "ds9DWmvbIVQV"
      },
      "source": [
        "### 14. beneath\n",
        "\n",
        "\n",
        " "
      ]
    },
    {
      "cell_type": "code",
      "metadata": {
        "id": "eBpus77wPx7X",
        "colab": {
          "base_uri": "https://localhost:8080/"
        },
        "outputId": "fadfd424-310e-43ba-e6c0-2e4da882c4b4"
      },
      "source": [
        "features, df_final = features_from_file('/content/drive/MyDrive/Assignment1/data_assn1/Train/Source/pp-beneath.sents.trng.xml','beneath')\n",
        "svm_classifier = SVM_Model(features,df_final)\n",
        "knn_classifier =  KNN_model(features,df_final)"
      ],
      "execution_count": 56,
      "outputs": [
        {
          "output_type": "stream",
          "text": [
            "              precision    recall  f1-score   support\n",
            "\n",
            "        1(1)       0.69      0.90      0.78        10\n",
            "       2(1a)       0.50      0.33      0.40         3\n",
            "        3(2)       0.00      0.00      0.00         2\n",
            "\n",
            "    accuracy                           0.67        15\n",
            "   macro avg       0.40      0.41      0.39        15\n",
            "weighted avg       0.56      0.67      0.60        15\n",
            "\n",
            "              precision    recall  f1-score   support\n",
            "\n",
            "        1(1)       0.83      1.00      0.91        10\n",
            "       2(1a)       0.67      0.67      0.67         3\n",
            "        3(2)       0.00      0.00      0.00         2\n",
            "\n",
            "    accuracy                           0.80        15\n",
            "   macro avg       0.50      0.56      0.53        15\n",
            "weighted avg       0.69      0.80      0.74        15\n",
            "\n"
          ],
          "name": "stdout"
        },
        {
          "output_type": "stream",
          "text": [
            "/usr/local/lib/python3.7/dist-packages/sklearn/metrics/_classification.py:1272: UndefinedMetricWarning: Precision and F-score are ill-defined and being set to 0.0 in labels with no predicted samples. Use `zero_division` parameter to control this behavior.\n",
            "  _warn_prf(average, modifier, msg_start, len(result))\n",
            "/usr/local/lib/python3.7/dist-packages/sklearn/metrics/_classification.py:1272: UndefinedMetricWarning: Precision and F-score are ill-defined and being set to 0.0 in labels with no predicted samples. Use `zero_division` parameter to control this behavior.\n",
            "  _warn_prf(average, modifier, msg_start, len(result))\n"
          ],
          "name": "stderr"
        }
      ]
    },
    {
      "cell_type": "code",
      "metadata": {
        "id": "1vYZy-CiPxnQ"
      },
      "source": [
        "#KNN is better\n",
        "y_out_test = pre_test('/content/drive/MyDrive/Assignment1/test_out/beneath.out','beneath',glove_vectors_emb,knn_classifier)"
      ],
      "execution_count": 57,
      "outputs": []
    },
    {
      "cell_type": "markdown",
      "metadata": {
        "id": "SkR5kHkTIVE_"
      },
      "source": [
        "### 15. besides"
      ]
    },
    {
      "cell_type": "code",
      "metadata": {
        "id": "LMvVZIaUPzA4",
        "colab": {
          "base_uri": "https://localhost:8080/"
        },
        "outputId": "93b0ecc2-9283-49dc-cd58-89ac47717b24"
      },
      "source": [
        "features, df_final = features_from_file('/content/drive/MyDrive/Assignment1/data_assn1/Train/Source/pp-beside.sents.trng.xml','beside')\n",
        "np.unique(df_final[\"label\"])\n",
        "#svm_classifier = SVM_Model(features,df_final)\n",
        "#knn_classifier =  KNN_model(features,df_final)"
      ],
      "execution_count": 59,
      "outputs": [
        {
          "output_type": "execute_result",
          "data": {
            "text/plain": [
              "array(['1(1)'], dtype=object)"
            ]
          },
          "metadata": {
            "tags": []
          },
          "execution_count": 59
        }
      ]
    },
    {
      "cell_type": "code",
      "metadata": {
        "id": "qFwNI0qSPyyS"
      },
      "source": [
        "#Only one label so ouput will be '1(1)' for all."
      ],
      "execution_count": 60,
      "outputs": []
    },
    {
      "cell_type": "markdown",
      "metadata": {
        "id": "BUPoX5VQIU8q"
      },
      "source": [
        "### 16. between"
      ]
    },
    {
      "cell_type": "code",
      "metadata": {
        "id": "qVG1Oh01P0Lq",
        "colab": {
          "base_uri": "https://localhost:8080/"
        },
        "outputId": "4bafb2f8-e1b6-4a97-dd8b-7ffc8db19181"
      },
      "source": [
        "features, df_final = features_from_file('/content/drive/MyDrive/Assignment1/data_assn1/Train/Source/pp-between.sents.trng.xml','between')\n",
        "svm_classifier = SVM_Model(features,df_final)\n",
        "knn_classifier =  KNN_model(features,df_final)"
      ],
      "execution_count": 61,
      "outputs": [
        {
          "output_type": "stream",
          "text": [
            "              precision    recall  f1-score   support\n",
            "\n",
            "        1(1)       0.43      0.68      0.53        19\n",
            "        3(3)       0.00      0.00      0.00         1\n",
            "        4(4)       0.26      0.31      0.29        16\n",
            "  4(4) 5(4a)       0.00      0.00      0.00         1\n",
            "       5(4a)       0.75      0.27      0.40        11\n",
            "       6(4b)       0.00      0.00      0.00         2\n",
            "       7(4c)       0.00      0.00      0.00         3\n",
            "\n",
            "    accuracy                           0.40        53\n",
            "   macro avg       0.21      0.18      0.17        53\n",
            "weighted avg       0.39      0.40      0.36        53\n",
            "\n",
            "              precision    recall  f1-score   support\n",
            "\n",
            "        1(1)       0.64      0.95      0.77        19\n",
            "        3(3)       0.00      0.00      0.00         1\n",
            "        4(4)       0.67      0.62      0.65        16\n",
            "  4(4) 5(4a)       0.00      0.00      0.00         1\n",
            "       5(4a)       1.00      0.64      0.78        11\n",
            "       6(4b)       0.00      0.00      0.00         2\n",
            "       7(4c)       1.00      0.33      0.50         3\n",
            "\n",
            "    accuracy                           0.68        53\n",
            "   macro avg       0.47      0.36      0.38        53\n",
            "weighted avg       0.70      0.68      0.66        53\n",
            "\n"
          ],
          "name": "stdout"
        },
        {
          "output_type": "stream",
          "text": [
            "/usr/local/lib/python3.7/dist-packages/sklearn/metrics/_classification.py:1272: UndefinedMetricWarning: Precision and F-score are ill-defined and being set to 0.0 in labels with no predicted samples. Use `zero_division` parameter to control this behavior.\n",
            "  _warn_prf(average, modifier, msg_start, len(result))\n",
            "/usr/local/lib/python3.7/dist-packages/sklearn/metrics/_classification.py:1272: UndefinedMetricWarning: Precision and F-score are ill-defined and being set to 0.0 in labels with no predicted samples. Use `zero_division` parameter to control this behavior.\n",
            "  _warn_prf(average, modifier, msg_start, len(result))\n"
          ],
          "name": "stderr"
        }
      ]
    },
    {
      "cell_type": "code",
      "metadata": {
        "id": "Wdq27tKQPz8Q"
      },
      "source": [
        "#KNN is better\n",
        "y_out_test = pre_test('/content/drive/MyDrive/Assignment1/test_out/between.out','between',glove_vectors_emb,knn_classifier)"
      ],
      "execution_count": 62,
      "outputs": []
    },
    {
      "cell_type": "markdown",
      "metadata": {
        "id": "AaREhYiIIU13"
      },
      "source": [
        "### 17. by"
      ]
    },
    {
      "cell_type": "code",
      "metadata": {
        "id": "C49Ch2A7P4DB",
        "colab": {
          "base_uri": "https://localhost:8080/"
        },
        "outputId": "25287efe-df3f-4214-fbaf-fd015d95d413"
      },
      "source": [
        "features, df_final = features_from_file('/content/drive/MyDrive/Assignment1/data_assn1/Train/Source/pp-by.sents.trng.xml','by')\n",
        "svm_classifier = SVM_Model(features,df_final)\n",
        "knn_classifier =  KNN_model(features,df_final)"
      ],
      "execution_count": 63,
      "outputs": [
        {
          "output_type": "stream",
          "text": [
            "              precision    recall  f1-score   support\n",
            "\n",
            "       12(3)       0.40      0.33      0.36        12\n",
            "      15(3c)       0.00      0.00      0.00         3\n",
            "       18(5)       0.29      0.25      0.27         8\n",
            "       2(1a)       0.30      0.16      0.21        19\n",
            "       3(1b)       0.51      0.71      0.60        56\n",
            "       4(1c)       0.67      0.40      0.50        10\n",
            "        5(2)       0.14      0.12      0.13        16\n",
            "       8(2c)       0.00      0.00      0.00         4\n",
            "\n",
            "    accuracy                           0.43       128\n",
            "   macro avg       0.29      0.25      0.26       128\n",
            "weighted avg       0.39      0.43      0.40       128\n",
            "\n",
            "              precision    recall  f1-score   support\n",
            "\n",
            "       12(3)       0.70      0.58      0.64        12\n",
            "      15(3c)       0.00      0.00      0.00         3\n",
            "       18(5)       0.21      0.75      0.33         8\n",
            "       2(1a)       0.40      0.11      0.17        19\n",
            "       3(1b)       0.80      0.66      0.73        56\n",
            "       4(1c)       0.86      0.60      0.71        10\n",
            "        5(2)       0.10      0.12      0.11        16\n",
            "       8(2c)       0.25      0.25      0.25         4\n",
            "\n",
            "    accuracy                           0.48       128\n",
            "   macro avg       0.42      0.38      0.37       128\n",
            "weighted avg       0.58      0.48      0.50       128\n",
            "\n"
          ],
          "name": "stdout"
        }
      ]
    },
    {
      "cell_type": "code",
      "metadata": {
        "id": "B1EZViWiP3qg"
      },
      "source": [
        "#KNN is better\n",
        "y_out_test = pre_test('/content/drive/MyDrive/Assignment1/test_out/by.out','by',glove_vectors_emb,knn_classifier)"
      ],
      "execution_count": 64,
      "outputs": []
    },
    {
      "cell_type": "markdown",
      "metadata": {
        "id": "V6PbOEuaIUrE"
      },
      "source": [
        "### 18. down"
      ]
    },
    {
      "cell_type": "code",
      "metadata": {
        "id": "d-EW_xSOP5xM",
        "colab": {
          "base_uri": "https://localhost:8080/"
        },
        "outputId": "63716033-c73d-4ef6-f334-7568fcfc3124"
      },
      "source": [
        "features, df_final = features_from_file('/content/drive/MyDrive/Assignment1/data_assn1/Train/Source/pp-down.sents.trng.xml','down')\n",
        "svm_classifier = SVM_Model(features,df_final)\n",
        "knn_classifier =  KNN_model(features,df_final)"
      ],
      "execution_count": 65,
      "outputs": [
        {
          "output_type": "stream",
          "text": [
            "              precision    recall  f1-score   support\n",
            "\n",
            "        1(1)       0.59      0.64      0.61        36\n",
            "       2(1a)       1.00      1.00      1.00         1\n",
            "       3(1b)       0.70      0.65      0.67        46\n",
            "\n",
            "    accuracy                           0.65        83\n",
            "   macro avg       0.76      0.76      0.76        83\n",
            "weighted avg       0.65      0.65      0.65        83\n",
            "\n",
            "              precision    recall  f1-score   support\n",
            "\n",
            "        1(1)       0.65      0.67      0.66        36\n",
            "       2(1a)       1.00      1.00      1.00         1\n",
            "       3(1b)       0.73      0.72      0.73        46\n",
            "\n",
            "    accuracy                           0.70        83\n",
            "   macro avg       0.79      0.79      0.79        83\n",
            "weighted avg       0.70      0.70      0.70        83\n",
            "\n"
          ],
          "name": "stdout"
        }
      ]
    },
    {
      "cell_type": "code",
      "metadata": {
        "id": "yaHn_U6IP5Wv"
      },
      "source": [
        "#KNN is better\n",
        "y_out_test = pre_test('/content/drive/MyDrive/Assignment1/test_out/down.out','down',glove_vectors_emb,knn_classifier)"
      ],
      "execution_count": 67,
      "outputs": []
    },
    {
      "cell_type": "markdown",
      "metadata": {
        "id": "Pw2YF9qhIUkz"
      },
      "source": [
        "### 19. during"
      ]
    },
    {
      "cell_type": "code",
      "metadata": {
        "id": "ThJ3eswKP-Hn",
        "colab": {
          "base_uri": "https://localhost:8080/"
        },
        "outputId": "5d00271a-7511-4f83-ab68-f72cd86b1d4d"
      },
      "source": [
        "features, df_final = features_from_file('/content/drive/MyDrive/Assignment1/data_assn1/Train/Source/pp-during.sents.trng.xml','during')\n",
        "svm_classifier = SVM_Model(features,df_final)\n",
        "knn_classifier =  KNN_model(features,df_final)"
      ],
      "execution_count": 68,
      "outputs": [
        {
          "output_type": "stream",
          "text": [
            "              precision    recall  f1-score   support\n",
            "\n",
            "        1(1)       0.67      0.57      0.62        14\n",
            "       2(1a)       0.33      0.43      0.38         7\n",
            "\n",
            "    accuracy                           0.52        21\n",
            "   macro avg       0.50      0.50      0.50        21\n",
            "weighted avg       0.56      0.52      0.54        21\n",
            "\n",
            "              precision    recall  f1-score   support\n",
            "\n",
            "        1(1)       0.78      0.50      0.61        14\n",
            "       2(1a)       0.42      0.71      0.53         7\n",
            "\n",
            "    accuracy                           0.57        21\n",
            "   macro avg       0.60      0.61      0.57        21\n",
            "weighted avg       0.66      0.57      0.58        21\n",
            "\n"
          ],
          "name": "stdout"
        }
      ]
    },
    {
      "cell_type": "code",
      "metadata": {
        "id": "W36iCDXlP9y1"
      },
      "source": [
        "#KNN is better\n",
        "y_out_test = pre_test('/content/drive/MyDrive/Assignment1/test_out/during.out','during',glove_vectors_emb,knn_classifier)"
      ],
      "execution_count": 69,
      "outputs": []
    },
    {
      "cell_type": "markdown",
      "metadata": {
        "id": "JB7ZhLyTIUcP"
      },
      "source": [
        "### 20. for"
      ]
    },
    {
      "cell_type": "code",
      "metadata": {
        "id": "MPqxntJtP_aZ",
        "colab": {
          "base_uri": "https://localhost:8080/"
        },
        "outputId": "7a1a1418-1001-4c0e-e3b2-caca11addae8"
      },
      "source": [
        "features, df_final = features_from_file('/content/drive/MyDrive/Assignment1/data_assn1/Train/Source/pp-for.sents.trng.xml','for')\n",
        "svm_classifier = SVM_Model(features,df_final)\n",
        "knn_classifier =  KNN_model(features,df_final)"
      ],
      "execution_count": 70,
      "outputs": [
        {
          "output_type": "stream",
          "text": [
            "              precision    recall  f1-score   support\n",
            "\n",
            "        1(1)       0.50      0.43      0.46         7\n",
            "      10(8a)       0.00      0.00      0.00         4\n",
            "       11(9)       0.00      0.00      0.00         3\n",
            "      12(10)       0.33      0.09      0.14        11\n",
            "        2(2)       0.19      0.12      0.15        24\n",
            "      2(2)-1       0.38      0.30      0.33        20\n",
            "        3(3)       0.47      0.32      0.38        22\n",
            "       4(3a)       0.00      0.00      0.00         6\n",
            "        5(4)       0.32      0.40      0.35        65\n",
            "        6(5)       0.41      0.59      0.49        70\n",
            "        7(6)       0.00      0.00      0.00         2\n",
            "        8(7)       0.00      0.00      0.00         2\n",
            "        9(8)       0.00      0.00      0.00         2\n",
            "\n",
            "    accuracy                           0.37       238\n",
            "   macro avg       0.20      0.17      0.18       238\n",
            "weighted avg       0.33      0.37      0.34       238\n",
            "\n",
            "              precision    recall  f1-score   support\n",
            "\n",
            "        1(1)       0.25      0.57      0.35         7\n",
            "      10(8a)       0.14      0.25      0.18         4\n",
            "       11(9)       0.06      0.33      0.11         3\n",
            "      12(10)       0.40      0.18      0.25        11\n",
            "        2(2)       0.43      0.50      0.46        24\n",
            "      2(2)-1       0.37      0.75      0.49        20\n",
            "        3(3)       0.43      0.45      0.44        22\n",
            "       4(3a)       0.00      0.00      0.00         6\n",
            "        5(4)       0.64      0.35      0.46        65\n",
            "        6(5)       0.62      0.57      0.60        70\n",
            "        7(6)       0.00      0.00      0.00         2\n",
            "        8(7)       0.00      0.00      0.00         2\n",
            "        9(8)       0.00      0.00      0.00         2\n",
            "\n",
            "    accuracy                           0.45       238\n",
            "   macro avg       0.26      0.31      0.26       238\n",
            "weighted avg       0.50      0.45      0.46       238\n",
            "\n"
          ],
          "name": "stdout"
        },
        {
          "output_type": "stream",
          "text": [
            "/usr/local/lib/python3.7/dist-packages/sklearn/metrics/_classification.py:1272: UndefinedMetricWarning: Precision and F-score are ill-defined and being set to 0.0 in labels with no predicted samples. Use `zero_division` parameter to control this behavior.\n",
            "  _warn_prf(average, modifier, msg_start, len(result))\n",
            "/usr/local/lib/python3.7/dist-packages/sklearn/metrics/_classification.py:1272: UndefinedMetricWarning: Precision and F-score are ill-defined and being set to 0.0 in labels with no predicted samples. Use `zero_division` parameter to control this behavior.\n",
            "  _warn_prf(average, modifier, msg_start, len(result))\n"
          ],
          "name": "stderr"
        }
      ]
    },
    {
      "cell_type": "code",
      "metadata": {
        "id": "brVY0yu7P_Gv"
      },
      "source": [
        "#KNN is better\n",
        "y_out_test = pre_test('/content/drive/MyDrive/Assignment1/test_out/for.out','for',glove_vectors_emb,knn_classifier)"
      ],
      "execution_count": 71,
      "outputs": []
    },
    {
      "cell_type": "markdown",
      "metadata": {
        "id": "uPCwrHwfIURI"
      },
      "source": [
        "### 21. from"
      ]
    },
    {
      "cell_type": "code",
      "metadata": {
        "id": "78R-IrbLQR1Z",
        "colab": {
          "base_uri": "https://localhost:8080/"
        },
        "outputId": "577ec018-865c-497d-fe38-cc33cc488854"
      },
      "source": [
        "features, df_final = features_from_file('/content/drive/MyDrive/Assignment1/data_assn1/Train/Source/pp-from.sents.trng.xml','from')\n",
        "svm_classifier = SVM_Model(features,df_final)\n",
        "knn_classifier =  KNN_model(features,df_final)"
      ],
      "execution_count": 72,
      "outputs": [
        {
          "output_type": "stream",
          "text": [
            "/usr/local/lib/python3.7/dist-packages/sklearn/metrics/_classification.py:1272: UndefinedMetricWarning: Precision and F-score are ill-defined and being set to 0.0 in labels with no predicted samples. Use `zero_division` parameter to control this behavior.\n",
            "  _warn_prf(average, modifier, msg_start, len(result))\n"
          ],
          "name": "stderr"
        },
        {
          "output_type": "stream",
          "text": [
            "              precision    recall  f1-score   support\n",
            "\n",
            "        1(1)       0.28      0.51      0.36        83\n",
            "       10(7)       0.24      0.25      0.25        64\n",
            "     10(7)-1       1.00      0.12      0.22         8\n",
            "       11(8)       1.00      0.33      0.50         3\n",
            "       12(9)       1.00      0.30      0.46        10\n",
            "     12(9)-1       0.33      0.09      0.14        22\n",
            "      13(10)       0.56      0.29      0.38        17\n",
            "      14(11)       0.00      0.00      0.00         2\n",
            "       2(1a)       0.00      0.00      0.00         2\n",
            "        4(3)       0.34      0.30      0.32        69\n",
            "  4(3) 10(7)       0.00      0.00      0.00         2\n",
            "  4(3) 12(9)       1.00      0.50      0.67         2\n",
            "       5(3a)       0.00      0.00      0.00         1\n",
            "        6(4)       0.50      0.08      0.14        12\n",
            "       7(4a)       1.00      0.50      0.67         2\n",
            "        8(5)       0.00      0.00      0.00         3\n",
            "\n",
            "    accuracy                           0.31       302\n",
            "   macro avg       0.45      0.21      0.26       302\n",
            "weighted avg       0.37      0.31      0.30       302\n",
            "\n",
            "              precision    recall  f1-score   support\n",
            "\n",
            "        1(1)       0.53      0.73      0.61        83\n",
            "       10(7)       0.57      0.64      0.60        64\n",
            "     10(7)-1       1.00      0.12      0.22         8\n",
            "       11(8)       1.00      0.33      0.50         3\n",
            "       12(9)       0.30      0.30      0.30        10\n",
            "     12(9)-1       0.67      0.36      0.47        22\n",
            "      13(10)       0.50      0.53      0.51        17\n",
            "      14(11)       0.00      0.00      0.00         2\n",
            "       2(1a)       0.00      0.00      0.00         2\n",
            "        4(3)       0.65      0.35      0.45        69\n",
            "  4(3) 10(7)       0.00      0.00      0.00         2\n",
            "  4(3) 12(9)       0.00      0.00      0.00         2\n",
            "       5(3a)       0.00      0.00      0.00         1\n",
            "        6(4)       0.46      0.50      0.48        12\n",
            "       7(4a)       0.00      0.00      0.00         2\n",
            "        8(5)       0.10      0.67      0.17         3\n",
            "\n",
            "    accuracy                           0.52       302\n",
            "   macro avg       0.36      0.28      0.27       302\n",
            "weighted avg       0.56      0.52      0.50       302\n",
            "\n"
          ],
          "name": "stdout"
        },
        {
          "output_type": "stream",
          "text": [
            "/usr/local/lib/python3.7/dist-packages/sklearn/metrics/_classification.py:1272: UndefinedMetricWarning: Precision and F-score are ill-defined and being set to 0.0 in labels with no predicted samples. Use `zero_division` parameter to control this behavior.\n",
            "  _warn_prf(average, modifier, msg_start, len(result))\n"
          ],
          "name": "stderr"
        }
      ]
    },
    {
      "cell_type": "code",
      "metadata": {
        "id": "k4f3NfK9QRbT"
      },
      "source": [
        "#KNN is better\n",
        "y_out_test = pre_test('/content/drive/MyDrive/Assignment1/test_out/from.out','from',glove_vectors_emb,knn_classifier)"
      ],
      "execution_count": 73,
      "outputs": []
    },
    {
      "cell_type": "markdown",
      "metadata": {
        "id": "1gqmMI1TIUIq"
      },
      "source": [
        "### 22. in"
      ]
    },
    {
      "cell_type": "code",
      "metadata": {
        "id": "7W7Ed5d0QUmX",
        "colab": {
          "base_uri": "https://localhost:8080/"
        },
        "outputId": "051db6f4-5427-4f5a-9334-fb98d0f1ddcc"
      },
      "source": [
        "features, df_final = features_from_file('/content/drive/MyDrive/Assignment1/data_assn1/Train/Source/pp-in.sents.trng.xml','in')\n",
        "svm_classifier = SVM_Model(features,df_final)\n",
        "knn_classifier =  KNN_model(features,df_final)"
      ],
      "execution_count": 74,
      "outputs": [
        {
          "output_type": "stream",
          "text": [
            "/usr/local/lib/python3.7/dist-packages/sklearn/metrics/_classification.py:1272: UndefinedMetricWarning: Precision and F-score are ill-defined and being set to 0.0 in labels with no predicted samples. Use `zero_division` parameter to control this behavior.\n",
            "  _warn_prf(average, modifier, msg_start, len(result))\n"
          ],
          "name": "stderr"
        },
        {
          "output_type": "stream",
          "text": [
            "              precision    recall  f1-score   support\n",
            "\n",
            "        1(1)       0.46      0.85      0.59       143\n",
            "      1(1)-1       0.50      0.20      0.29         5\n",
            "       11(8)       0.00      0.00      0.00         3\n",
            "       2(1a)       0.07      0.02      0.04        42\n",
            "        3(2)       0.43      0.20      0.27        15\n",
            "        4(3)       0.00      0.00      0.00         1\n",
            "        5(4)       0.25      0.08      0.12        26\n",
            "       6(4a)       0.53      0.32      0.40        25\n",
            "     6(4a)-1       0.00      0.00      0.00        16\n",
            "        7(5)       0.36      0.16      0.22        55\n",
            "        8(6)       1.00      0.17      0.29         6\n",
            "        9(7)       0.00      0.00      0.00        11\n",
            "      9(7)-1       1.00      1.00      1.00         2\n",
            "\n",
            "    accuracy                           0.42       350\n",
            "   macro avg       0.35      0.23      0.25       350\n",
            "weighted avg       0.36      0.42      0.35       350\n",
            "\n",
            "              precision    recall  f1-score   support\n",
            "\n",
            "        1(1)       0.49      0.71      0.58       143\n",
            "      1(1)-1       0.14      0.20      0.17         5\n",
            "       11(8)       0.50      0.67      0.57         3\n",
            "       2(1a)       0.31      0.45      0.37        42\n",
            "        3(2)       0.20      0.07      0.10        15\n",
            "        4(3)       0.00      0.00      0.00         1\n",
            "        5(4)       0.54      0.27      0.36        26\n",
            "       6(4a)       0.78      0.56      0.65        25\n",
            "     6(4a)-1       0.00      0.00      0.00        16\n",
            "        7(5)       0.32      0.13      0.18        55\n",
            "        8(6)       1.00      0.33      0.50         6\n",
            "        9(7)       0.33      0.09      0.14        11\n",
            "      9(7)-1       0.50      0.50      0.50         2\n",
            "\n",
            "    accuracy                           0.45       350\n",
            "   macro avg       0.39      0.31      0.32       350\n",
            "weighted avg       0.43      0.45      0.41       350\n",
            "\n"
          ],
          "name": "stdout"
        },
        {
          "output_type": "stream",
          "text": [
            "/usr/local/lib/python3.7/dist-packages/sklearn/metrics/_classification.py:1272: UndefinedMetricWarning: Precision and F-score are ill-defined and being set to 0.0 in labels with no predicted samples. Use `zero_division` parameter to control this behavior.\n",
            "  _warn_prf(average, modifier, msg_start, len(result))\n"
          ],
          "name": "stderr"
        }
      ]
    },
    {
      "cell_type": "code",
      "metadata": {
        "id": "CktHDnLYQUOE"
      },
      "source": [
        "#KNN is better\n",
        "y_out_test = pre_test('/content/drive/MyDrive/Assignment1/test_out/in.out','in',glove_vectors_emb,knn_classifier)"
      ],
      "execution_count": 75,
      "outputs": []
    },
    {
      "cell_type": "markdown",
      "metadata": {
        "id": "uuL9SVRsIUCZ"
      },
      "source": [
        "### 23. inside"
      ]
    },
    {
      "cell_type": "code",
      "metadata": {
        "id": "loofB0gLQWL6",
        "colab": {
          "base_uri": "https://localhost:8080/"
        },
        "outputId": "632b9a11-c249-4141-e0f1-8a94eb2a1ff6"
      },
      "source": [
        "features, df_final = features_from_file('/content/drive/MyDrive/Assignment1/data_assn1/Train/Source/pp-inside.sents.trng.xml','inside')\n",
        "svm_classifier = SVM_Model(features,df_final)\n",
        "knn_classifier =  KNN_model(features,df_final)"
      ],
      "execution_count": 76,
      "outputs": [
        {
          "output_type": "stream",
          "text": [
            "              precision    recall  f1-score   support\n",
            "\n",
            "        1(1)       0.60      0.43      0.50         7\n",
            "       2(1a)       0.40      0.80      0.53         5\n",
            "       3(1b)       0.50      0.20      0.29         5\n",
            "\n",
            "    accuracy                           0.47        17\n",
            "   macro avg       0.50      0.48      0.44        17\n",
            "weighted avg       0.51      0.47      0.45        17\n",
            "\n",
            "              precision    recall  f1-score   support\n",
            "\n",
            "        1(1)       0.56      0.71      0.63         7\n",
            "       2(1a)       0.57      0.80      0.67         5\n",
            "       3(1b)       1.00      0.20      0.33         5\n",
            "\n",
            "    accuracy                           0.59        17\n",
            "   macro avg       0.71      0.57      0.54        17\n",
            "weighted avg       0.69      0.59      0.55        17\n",
            "\n"
          ],
          "name": "stdout"
        }
      ]
    },
    {
      "cell_type": "code",
      "metadata": {
        "id": "IKzGg-OMQV0P"
      },
      "source": [
        "#KNN is better\n",
        "y_out_test = pre_test('/content/drive/MyDrive/Assignment1/test_out/inside.out','inside',glove_vectors_emb,knn_classifier)"
      ],
      "execution_count": 77,
      "outputs": []
    },
    {
      "cell_type": "markdown",
      "metadata": {
        "id": "iYNaNNmBIT43"
      },
      "source": [
        "### 24. into"
      ]
    },
    {
      "cell_type": "code",
      "metadata": {
        "id": "m1mGOPUlQXk5",
        "colab": {
          "base_uri": "https://localhost:8080/"
        },
        "outputId": "f541dda0-01ec-4b51-f37a-9ccddfca3b8a"
      },
      "source": [
        "features, df_final = features_from_file('/content/drive/MyDrive/Assignment1/data_assn1/Train/Source/pp-into.sents.trng.xml','into')\n",
        "svm_classifier = SVM_Model(features,df_final)\n",
        "knn_classifier =  KNN_model(features,df_final)"
      ],
      "execution_count": 78,
      "outputs": [
        {
          "output_type": "stream",
          "text": [
            "              precision    recall  f1-score   support\n",
            "\n",
            "        1(1)       0.33      0.35      0.34        40\n",
            "   1(1) 3(3)       1.00      0.25      0.40         4\n",
            "        2(2)       0.67      0.15      0.25        13\n",
            "        3(3)       0.49      0.70      0.58        64\n",
            "        4(4)       0.80      0.36      0.50        11\n",
            "        5(5)       0.00      0.00      0.00         2\n",
            "        6(6)       0.00      0.00      0.00        12\n",
            "        7(7)       0.50      0.40      0.44         5\n",
            "\n",
            "    accuracy                           0.45       151\n",
            "   macro avg       0.47      0.28      0.31       151\n",
            "weighted avg       0.45      0.45      0.42       151\n",
            "\n",
            "              precision    recall  f1-score   support\n",
            "\n",
            "        1(1)       0.46      0.78      0.57        40\n",
            "   1(1) 3(3)       0.00      0.00      0.00         4\n",
            "        2(2)       0.42      0.38      0.40        13\n",
            "        3(3)       0.79      0.66      0.72        64\n",
            "        4(4)       1.00      0.45      0.62        11\n",
            "        5(5)       0.00      0.00      0.00         2\n",
            "        6(6)       0.36      0.33      0.35        12\n",
            "        7(7)       1.00      0.40      0.57         5\n",
            "\n",
            "    accuracy                           0.59       151\n",
            "   macro avg       0.50      0.38      0.40       151\n",
            "weighted avg       0.63      0.59      0.58       151\n",
            "\n"
          ],
          "name": "stdout"
        },
        {
          "output_type": "stream",
          "text": [
            "/usr/local/lib/python3.7/dist-packages/sklearn/metrics/_classification.py:1272: UndefinedMetricWarning: Precision and F-score are ill-defined and being set to 0.0 in labels with no predicted samples. Use `zero_division` parameter to control this behavior.\n",
            "  _warn_prf(average, modifier, msg_start, len(result))\n",
            "/usr/local/lib/python3.7/dist-packages/sklearn/metrics/_classification.py:1272: UndefinedMetricWarning: Precision and F-score are ill-defined and being set to 0.0 in labels with no predicted samples. Use `zero_division` parameter to control this behavior.\n",
            "  _warn_prf(average, modifier, msg_start, len(result))\n"
          ],
          "name": "stderr"
        }
      ]
    },
    {
      "cell_type": "code",
      "metadata": {
        "id": "t5FqDGXhQXQV"
      },
      "source": [
        "#KNN is better\n",
        "y_out_test = pre_test('/content/drive/MyDrive/Assignment1/test_out/into.out','into',glove_vectors_emb,knn_classifier)"
      ],
      "execution_count": 79,
      "outputs": []
    },
    {
      "cell_type": "markdown",
      "metadata": {
        "id": "-7MsTZW7ITN5"
      },
      "source": [
        "### 25. like"
      ]
    },
    {
      "cell_type": "code",
      "metadata": {
        "id": "MUVw-Y3nQY5a",
        "colab": {
          "base_uri": "https://localhost:8080/"
        },
        "outputId": "4eec4a8e-9292-4f85-bf88-b9308ebe72cc"
      },
      "source": [
        "features, df_final = features_from_file('/content/drive/MyDrive/Assignment1/data_assn1/Train/Source/pp-like.sents.trng.xml','like')\n",
        "svm_classifier = SVM_Model(features,df_final)\n",
        "knn_classifier =  KNN_model(features,df_final)"
      ],
      "execution_count": 80,
      "outputs": [
        {
          "output_type": "stream",
          "text": [
            "              precision    recall  f1-score   support\n",
            "\n",
            "        1(1)       0.50      0.15      0.24        13\n",
            "       2(1a)       0.79      0.96      0.87        48\n",
            "       3(1b)       0.00      0.00      0.00         3\n",
            "       5(1d)       0.20      0.50      0.29         2\n",
            "        6(2)       0.00      0.00      0.00         1\n",
            "\n",
            "    accuracy                           0.73        67\n",
            "   macro avg       0.30      0.32      0.28        67\n",
            "weighted avg       0.67      0.73      0.68        67\n",
            "\n",
            "              precision    recall  f1-score   support\n",
            "\n",
            "        1(1)       0.67      0.15      0.25        13\n",
            "       2(1a)       0.79      0.85      0.82        48\n",
            "       3(1b)       0.10      0.33      0.15         3\n",
            "       5(1d)       0.50      0.50      0.50         2\n",
            "        6(2)       0.00      0.00      0.00         1\n",
            "\n",
            "    accuracy                           0.67        67\n",
            "   macro avg       0.41      0.37      0.34        67\n",
            "weighted avg       0.71      0.67      0.66        67\n",
            "\n"
          ],
          "name": "stdout"
        },
        {
          "output_type": "stream",
          "text": [
            "/usr/local/lib/python3.7/dist-packages/sklearn/metrics/_classification.py:1272: UndefinedMetricWarning: Precision and F-score are ill-defined and being set to 0.0 in labels with no predicted samples. Use `zero_division` parameter to control this behavior.\n",
            "  _warn_prf(average, modifier, msg_start, len(result))\n",
            "/usr/local/lib/python3.7/dist-packages/sklearn/metrics/_classification.py:1272: UndefinedMetricWarning: Precision and F-score are ill-defined and being set to 0.0 in labels with no predicted samples. Use `zero_division` parameter to control this behavior.\n",
            "  _warn_prf(average, modifier, msg_start, len(result))\n"
          ],
          "name": "stderr"
        }
      ]
    },
    {
      "cell_type": "code",
      "metadata": {
        "id": "j6nH_FSsQYjj"
      },
      "source": [
        "#SVM is better\n",
        "y_out_test = pre_test('/content/drive/MyDrive/Assignment1/test_out/like.out','like',glove_vectors_emb,svm_classifier)"
      ],
      "execution_count": 81,
      "outputs": []
    },
    {
      "cell_type": "markdown",
      "metadata": {
        "id": "mZEPPxL6ITHg"
      },
      "source": [
        "###  26. of"
      ]
    },
    {
      "cell_type": "code",
      "metadata": {
        "id": "-B_C5m3pQbV3",
        "colab": {
          "base_uri": "https://localhost:8080/"
        },
        "outputId": "28be1f57-8803-4bab-f5a6-0af121a6c480"
      },
      "source": [
        "features, df_final = features_from_file('/content/drive/MyDrive/Assignment1/data_assn1/Train/Source/pp-of.sents.trng.xml','of')\n",
        "svm_classifier = SVM_Model(features,df_final)\n",
        "knn_classifier =  KNN_model(features,df_final)"
      ],
      "execution_count": 82,
      "outputs": [
        {
          "output_type": "stream",
          "text": [
            "/usr/local/lib/python3.7/dist-packages/sklearn/metrics/_classification.py:1272: UndefinedMetricWarning: Precision and F-score are ill-defined and being set to 0.0 in labels with no predicted samples. Use `zero_division` parameter to control this behavior.\n",
            "  _warn_prf(average, modifier, msg_start, len(result))\n"
          ],
          "name": "stderr"
        },
        {
          "output_type": "stream",
          "text": [
            "              precision    recall  f1-score   support\n",
            "\n",
            "      10(5a)       0.00      0.00      0.00         5\n",
            "       11(6)       0.21      0.08      0.11        52\n",
            "11(6) 12(6a)       1.00      0.75      0.86         4\n",
            "      12(6a)       0.31      0.50      0.38       152\n",
            "      13(6b)       0.91      0.36      0.51        28\n",
            "       14(7)       0.00      0.00      0.00        16\n",
            "      15(7a)       1.00      0.50      0.67         6\n",
            "      16(7b)       0.43      0.27      0.33        11\n",
            "       17(8)       0.00      0.00      0.00        10\n",
            "       2(1a)       0.36      0.12      0.18        33\n",
            "       3(1b)       0.30      0.46      0.36       167\n",
            "     3(1b)-1       0.33      0.09      0.15        43\n",
            "        4(2)       0.00      0.00      0.00         2\n",
            "       5(2a)       0.00      0.00      0.00         1\n",
            "        6(3)       0.22      0.23      0.22       120\n",
            "      6(3)-1       0.00      0.00      0.00         3\n",
            "       7(3a)       0.00      0.00      0.00         4\n",
            "        9(5)       0.21      0.13      0.16        94\n",
            "\n",
            "    accuracy                           0.30       751\n",
            "   macro avg       0.29      0.19      0.22       751\n",
            "weighted avg       0.30      0.30      0.27       751\n",
            "\n",
            "              precision    recall  f1-score   support\n",
            "\n",
            "      10(5a)       0.00      0.00      0.00         5\n",
            "       11(6)       0.46      0.58      0.51        52\n",
            "11(6) 12(6a)       0.80      1.00      0.89         4\n",
            "      12(6a)       0.43      0.66      0.52       152\n",
            "      13(6b)       0.39      0.61      0.47        28\n",
            "       14(7)       0.17      0.06      0.09        16\n",
            "      15(7a)       0.33      0.17      0.22         6\n",
            "      16(7b)       0.35      0.73      0.47        11\n",
            "       17(8)       0.50      0.40      0.44        10\n",
            "       2(1a)       0.22      0.48      0.30        33\n",
            "       3(1b)       0.77      0.43      0.55       167\n",
            "     3(1b)-1       0.64      0.58      0.61        43\n",
            "        4(2)       0.00      0.00      0.00         2\n",
            "       5(2a)       1.00      1.00      1.00         1\n",
            "        6(3)       0.49      0.44      0.46       120\n",
            "      6(3)-1       1.00      0.33      0.50         3\n",
            "       7(3a)       0.00      0.00      0.00         4\n",
            "        9(5)       0.64      0.34      0.44        94\n",
            "\n",
            "    accuracy                           0.49       751\n",
            "   macro avg       0.45      0.43      0.42       751\n",
            "weighted avg       0.54      0.49      0.48       751\n",
            "\n"
          ],
          "name": "stdout"
        },
        {
          "output_type": "stream",
          "text": [
            "/usr/local/lib/python3.7/dist-packages/sklearn/metrics/_classification.py:1272: UndefinedMetricWarning: Precision and F-score are ill-defined and being set to 0.0 in labels with no predicted samples. Use `zero_division` parameter to control this behavior.\n",
            "  _warn_prf(average, modifier, msg_start, len(result))\n"
          ],
          "name": "stderr"
        }
      ]
    },
    {
      "cell_type": "code",
      "metadata": {
        "id": "5dl25ymeQbFc"
      },
      "source": [
        "#KNN is better\n",
        "y_out_test = pre_test('/content/drive/MyDrive/Assignment1/test_out/of.out','of',glove_vectors_emb,knn_classifier)"
      ],
      "execution_count": 83,
      "outputs": []
    },
    {
      "cell_type": "markdown",
      "metadata": {
        "id": "j4N19ig9IS-f"
      },
      "source": [
        "### 27. off"
      ]
    },
    {
      "cell_type": "code",
      "metadata": {
        "id": "1UTbF5ZsQcuS",
        "colab": {
          "base_uri": "https://localhost:8080/"
        },
        "outputId": "3083bbe8-fc15-434d-dbe7-08070a5d0903"
      },
      "source": [
        "features, df_final = features_from_file('/content/drive/MyDrive/Assignment1/data_assn1/Train/Source/pp-off.sents.trng.xml','off')\n",
        "svm_classifier = SVM_Model(features,df_final)\n",
        "knn_classifier =  KNN_model(features,df_final)"
      ],
      "execution_count": 84,
      "outputs": [
        {
          "output_type": "stream",
          "text": [
            "              precision    recall  f1-score   support\n",
            "\n",
            "        1(1)       0.33      0.11      0.17         9\n",
            "        2(2)       0.00      0.00      0.00         2\n",
            "       3(2a)       0.00      0.00      0.00         1\n",
            "        4(3)       0.74      0.97      0.84        29\n",
            "\n",
            "    accuracy                           0.71        41\n",
            "   macro avg       0.27      0.27      0.25        41\n",
            "weighted avg       0.59      0.71      0.63        41\n",
            "\n",
            "              precision    recall  f1-score   support\n",
            "\n",
            "        1(1)       0.00      0.00      0.00         9\n",
            "        2(2)       0.00      0.00      0.00         2\n",
            "       3(2a)       0.00      0.00      0.00         1\n",
            "        4(3)       0.72      1.00      0.84        29\n",
            "\n",
            "    accuracy                           0.71        41\n",
            "   macro avg       0.18      0.25      0.21        41\n",
            "weighted avg       0.51      0.71      0.59        41\n",
            "\n"
          ],
          "name": "stdout"
        },
        {
          "output_type": "stream",
          "text": [
            "/usr/local/lib/python3.7/dist-packages/sklearn/metrics/_classification.py:1272: UndefinedMetricWarning: Precision and F-score are ill-defined and being set to 0.0 in labels with no predicted samples. Use `zero_division` parameter to control this behavior.\n",
            "  _warn_prf(average, modifier, msg_start, len(result))\n",
            "/usr/local/lib/python3.7/dist-packages/sklearn/metrics/_classification.py:1272: UndefinedMetricWarning: Precision and F-score are ill-defined and being set to 0.0 in labels with no predicted samples. Use `zero_division` parameter to control this behavior.\n",
            "  _warn_prf(average, modifier, msg_start, len(result))\n"
          ],
          "name": "stderr"
        }
      ]
    },
    {
      "cell_type": "code",
      "metadata": {
        "id": "PZtpjIVQQcaj"
      },
      "source": [
        "#SVM is better\n",
        "y_out_test = pre_test('/content/drive/MyDrive/Assignment1/test_out/off.out','off',glove_vectors_emb,svm_classifier)"
      ],
      "execution_count": 85,
      "outputs": []
    },
    {
      "cell_type": "markdown",
      "metadata": {
        "id": "of5O3uocKJPx"
      },
      "source": [
        "### 28. on"
      ]
    },
    {
      "cell_type": "code",
      "metadata": {
        "id": "QZTAJqEaQeMj",
        "colab": {
          "base_uri": "https://localhost:8080/"
        },
        "outputId": "c8863291-ebed-4769-bd75-472896c16e77"
      },
      "source": [
        "features, df_final = features_from_file('/content/drive/MyDrive/Assignment1/data_assn1/Train/Source/pp-on.sents.trng.xml','on')\n",
        "svm_classifier = SVM_Model(features,df_final)\n",
        "knn_classifier =  KNN_model(features,df_final)"
      ],
      "execution_count": 86,
      "outputs": [
        {
          "output_type": "stream",
          "text": [
            "              precision    recall  f1-score   support\n",
            "\n",
            "        1(1)       0.18      0.51      0.27        35\n",
            "       11(5)       0.00      0.00      0.00        12\n",
            "     11(5)-1       0.56      0.29      0.38        17\n",
            "       12(6)       0.00      0.00      0.00         3\n",
            "      13(6a)       0.00      0.00      0.00         2\n",
            "      15(7a)       0.00      0.00      0.00         4\n",
            "       17(8)       0.00      0.00      0.00        10\n",
            "       2(1a)       0.25      0.09      0.13        11\n",
            "      20(10)       1.00      0.50      0.67         2\n",
            "      23(13)       0.00      0.00      0.00         1\n",
            "       3(1b)       0.00      0.00      0.00         5\n",
            "       4(1c)       0.67      0.18      0.29        11\n",
            "       5(1d)       0.07      0.06      0.07        32\n",
            "        7(2)       0.33      0.18      0.23        17\n",
            "        8(3)       0.32      0.44      0.37        39\n",
            "  8(3) 11(5)       1.00      0.50      0.67         2\n",
            "       9(3a)       0.25      0.07      0.11        15\n",
            "\n",
            "    accuracy                           0.23       218\n",
            "   macro avg       0.27      0.17      0.19       218\n",
            "weighted avg       0.25      0.23      0.21       218\n",
            "\n",
            "              precision    recall  f1-score   support\n",
            "\n",
            "        1(1)       0.22      0.57      0.32        35\n",
            "       11(5)       0.12      0.08      0.10        12\n",
            "     11(5)-1       0.67      0.47      0.55        17\n",
            "       12(6)       0.00      0.00      0.00         3\n",
            "      13(6a)       0.00      0.00      0.00         2\n",
            "       14(7)       0.00      0.00      0.00         0\n",
            "      15(7a)       0.00      0.00      0.00         4\n",
            "       17(8)       0.50      0.10      0.17        10\n",
            "       19(9)       0.00      0.00      0.00         0\n",
            "       2(1a)       0.33      0.18      0.24        11\n",
            "      20(10)       0.00      0.00      0.00         2\n",
            "      23(13)       0.00      0.00      0.00         1\n",
            "       3(1b)       0.00      0.00      0.00         5\n",
            "       4(1c)       0.50      0.18      0.27        11\n",
            "       5(1d)       0.25      0.31      0.28        32\n",
            "        7(2)       0.62      0.29      0.40        17\n",
            "        8(3)       0.86      0.64      0.74        39\n",
            "  8(3) 11(5)       1.00      0.50      0.67         2\n",
            "       9(3a)       0.50      0.20      0.29        15\n",
            "\n",
            "    accuracy                           0.36       218\n",
            "   macro avg       0.29      0.19      0.21       218\n",
            "weighted avg       0.44      0.36      0.36       218\n",
            "\n"
          ],
          "name": "stdout"
        },
        {
          "output_type": "stream",
          "text": [
            "/usr/local/lib/python3.7/dist-packages/sklearn/metrics/_classification.py:1272: UndefinedMetricWarning: Precision and F-score are ill-defined and being set to 0.0 in labels with no predicted samples. Use `zero_division` parameter to control this behavior.\n",
            "  _warn_prf(average, modifier, msg_start, len(result))\n",
            "/usr/local/lib/python3.7/dist-packages/sklearn/metrics/_classification.py:1272: UndefinedMetricWarning: Precision and F-score are ill-defined and being set to 0.0 in labels with no predicted samples. Use `zero_division` parameter to control this behavior.\n",
            "  _warn_prf(average, modifier, msg_start, len(result))\n",
            "/usr/local/lib/python3.7/dist-packages/sklearn/metrics/_classification.py:1272: UndefinedMetricWarning: Recall and F-score are ill-defined and being set to 0.0 in labels with no true samples. Use `zero_division` parameter to control this behavior.\n",
            "  _warn_prf(average, modifier, msg_start, len(result))\n"
          ],
          "name": "stderr"
        }
      ]
    },
    {
      "cell_type": "code",
      "metadata": {
        "id": "lyi_LPdfQd2W"
      },
      "source": [
        "#KNN is better\n",
        "y_out_test = pre_test('/content/drive/MyDrive/Assignment1/test_out/on.out','on',glove_vectors_emb,knn_classifier)"
      ],
      "execution_count": 87,
      "outputs": []
    },
    {
      "cell_type": "markdown",
      "metadata": {
        "id": "vSgz2FbYKI47"
      },
      "source": [
        "### 29. onto"
      ]
    },
    {
      "cell_type": "code",
      "metadata": {
        "id": "QOsVIsX7Qfln",
        "colab": {
          "base_uri": "https://localhost:8080/"
        },
        "outputId": "935c9602-71fe-4c9d-b16f-404ebf375982"
      },
      "source": [
        "features, df_final = features_from_file('/content/drive/MyDrive/Assignment1/data_assn1/Train/Source/pp-onto.sents.trng.xml','onto')\n",
        "svm_classifier = SVM_Model(features,df_final)\n",
        "knn_classifier =  KNN_model(features,df_final)"
      ],
      "execution_count": 88,
      "outputs": [
        {
          "output_type": "stream",
          "text": [
            "              precision    recall  f1-score   support\n",
            "\n",
            "        1(1)       0.90      1.00      0.95        27\n",
            "        3(3)       0.00      0.00      0.00         3\n",
            "\n",
            "    accuracy                           0.90        30\n",
            "   macro avg       0.45      0.50      0.47        30\n",
            "weighted avg       0.81      0.90      0.85        30\n",
            "\n",
            "              precision    recall  f1-score   support\n",
            "\n",
            "        1(1)       0.90      1.00      0.95        27\n",
            "        3(3)       0.00      0.00      0.00         3\n",
            "\n",
            "    accuracy                           0.90        30\n",
            "   macro avg       0.45      0.50      0.47        30\n",
            "weighted avg       0.81      0.90      0.85        30\n",
            "\n"
          ],
          "name": "stdout"
        },
        {
          "output_type": "stream",
          "text": [
            "/usr/local/lib/python3.7/dist-packages/sklearn/metrics/_classification.py:1272: UndefinedMetricWarning: Precision and F-score are ill-defined and being set to 0.0 in labels with no predicted samples. Use `zero_division` parameter to control this behavior.\n",
            "  _warn_prf(average, modifier, msg_start, len(result))\n",
            "/usr/local/lib/python3.7/dist-packages/sklearn/metrics/_classification.py:1272: UndefinedMetricWarning: Precision and F-score are ill-defined and being set to 0.0 in labels with no predicted samples. Use `zero_division` parameter to control this behavior.\n",
            "  _warn_prf(average, modifier, msg_start, len(result))\n"
          ],
          "name": "stderr"
        }
      ]
    },
    {
      "cell_type": "code",
      "metadata": {
        "id": "S63avr09QfNt"
      },
      "source": [
        "#SVM is better\n",
        "y_out_test = pre_test('/content/drive/MyDrive/Assignment1/test_out/onto.out','onto',glove_vectors_emb,svm_classifier)"
      ],
      "execution_count": 89,
      "outputs": []
    },
    {
      "cell_type": "markdown",
      "metadata": {
        "id": "DE0uSKR-KIhH"
      },
      "source": [
        "### 30. over"
      ]
    },
    {
      "cell_type": "code",
      "metadata": {
        "id": "l5A7u0FRQiwE",
        "colab": {
          "base_uri": "https://localhost:8080/"
        },
        "outputId": "b7e9fede-34b6-46f5-8983-ff088a97a115"
      },
      "source": [
        "features, df_final = features_from_file('/content/drive/MyDrive/Assignment1/data_assn1/Train/Source/pp-over.sents.trng.xml','over')\n",
        "svm_classifier = SVM_Model(features,df_final)\n",
        "knn_classifier =  KNN_model(features,df_final)"
      ],
      "execution_count": 90,
      "outputs": [
        {
          "output_type": "stream",
          "text": [
            "              precision    recall  f1-score   support\n",
            "\n",
            "        1(1)       0.00      0.00      0.00         1\n",
            "       11(4)       0.38      0.50      0.43         6\n",
            "      13(4b)       0.00      0.00      0.00         4\n",
            "     15(6)-1       0.00      0.00      0.00         1\n",
            "       16(7)       0.46      0.55      0.50        22\n",
            "       2(1a)       0.25      0.30      0.27        10\n",
            "       3(1b)       1.00      1.00      1.00         1\n",
            "        4(2)       0.00      0.00      0.00         2\n",
            "       6(2b)       0.00      0.00      0.00         3\n",
            "\n",
            "    accuracy                           0.38        50\n",
            "   macro avg       0.23      0.26      0.24        50\n",
            "weighted avg       0.32      0.38      0.35        50\n",
            "\n",
            "              precision    recall  f1-score   support\n",
            "\n",
            "        1(1)       0.00      0.00      0.00         1\n",
            "       11(4)       0.60      0.50      0.55         6\n",
            "      13(4b)       0.00      0.00      0.00         4\n",
            "     15(6)-1       0.00      0.00      0.00         1\n",
            "       16(7)       0.71      0.68      0.70        22\n",
            "       2(1a)       0.53      1.00      0.69        10\n",
            "       3(1b)       0.00      0.00      0.00         1\n",
            "        4(2)       0.00      0.00      0.00         2\n",
            "       6(2b)       0.25      0.33      0.29         3\n",
            "\n",
            "    accuracy                           0.58        50\n",
            "   macro avg       0.23      0.28      0.25        50\n",
            "weighted avg       0.51      0.58      0.53        50\n",
            "\n"
          ],
          "name": "stdout"
        },
        {
          "output_type": "stream",
          "text": [
            "/usr/local/lib/python3.7/dist-packages/sklearn/metrics/_classification.py:1272: UndefinedMetricWarning: Precision and F-score are ill-defined and being set to 0.0 in labels with no predicted samples. Use `zero_division` parameter to control this behavior.\n",
            "  _warn_prf(average, modifier, msg_start, len(result))\n",
            "/usr/local/lib/python3.7/dist-packages/sklearn/metrics/_classification.py:1272: UndefinedMetricWarning: Precision and F-score are ill-defined and being set to 0.0 in labels with no predicted samples. Use `zero_division` parameter to control this behavior.\n",
            "  _warn_prf(average, modifier, msg_start, len(result))\n"
          ],
          "name": "stderr"
        }
      ]
    },
    {
      "cell_type": "code",
      "metadata": {
        "id": "8y9t7ywbQiTA"
      },
      "source": [
        "#KNN is better\n",
        "y_out_test = pre_test('/content/drive/MyDrive/Assignment1/test_out/over.out','over',glove_vectors_emb,knn_classifier)"
      ],
      "execution_count": 91,
      "outputs": []
    },
    {
      "cell_type": "markdown",
      "metadata": {
        "id": "933AomJIKIOh"
      },
      "source": [
        "### 31. round"
      ]
    },
    {
      "cell_type": "code",
      "metadata": {
        "id": "cHbYS5zxQkb5",
        "colab": {
          "base_uri": "https://localhost:8080/"
        },
        "outputId": "20d20464-33c9-4d09-ba9e-699672bafcf8"
      },
      "source": [
        "features, df_final = features_from_file('/content/drive/MyDrive/Assignment1/data_assn1/Train/Source/pp-round.sents.trng.xml','round')\n",
        "svm_classifier = SVM_Model(features,df_final)\n",
        "knn_classifier =  KNN_model(features,df_final)"
      ],
      "execution_count": 92,
      "outputs": [
        {
          "output_type": "stream",
          "text": [
            "              precision    recall  f1-score   support\n",
            "\n",
            "        1(1)       1.00      0.20      0.33         5\n",
            "        3(2)       0.38      0.56      0.45         9\n",
            "       4(2a)       0.00      0.00      0.00         1\n",
            "        5(3)       1.00      0.25      0.40         4\n",
            "       6(3a)       0.18      0.33      0.23         9\n",
            "        8(4)       0.50      0.39      0.44        18\n",
            "\n",
            "    accuracy                           0.37        46\n",
            "   macro avg       0.51      0.29      0.31        46\n",
            "weighted avg       0.50      0.37      0.38        46\n",
            "\n",
            "              precision    recall  f1-score   support\n",
            "\n",
            "        1(1)       1.00      0.20      0.33         5\n",
            "        3(2)       0.64      0.78      0.70         9\n",
            "       4(2a)       0.20      1.00      0.33         1\n",
            "        5(3)       0.40      0.50      0.44         4\n",
            "       6(3a)       0.44      0.44      0.44         9\n",
            "        8(4)       0.80      0.67      0.73        18\n",
            "\n",
            "    accuracy                           0.59        46\n",
            "   macro avg       0.58      0.60      0.50        46\n",
            "weighted avg       0.67      0.59      0.59        46\n",
            "\n"
          ],
          "name": "stdout"
        },
        {
          "output_type": "stream",
          "text": [
            "/usr/local/lib/python3.7/dist-packages/sklearn/metrics/_classification.py:1272: UndefinedMetricWarning: Precision and F-score are ill-defined and being set to 0.0 in labels with no predicted samples. Use `zero_division` parameter to control this behavior.\n",
            "  _warn_prf(average, modifier, msg_start, len(result))\n"
          ],
          "name": "stderr"
        }
      ]
    },
    {
      "cell_type": "code",
      "metadata": {
        "id": "XZAjD1gZQkD9"
      },
      "source": [
        "#KNN is better\n",
        "y_out_test = pre_test('/content/drive/MyDrive/Assignment1/test_out/round.out','round',glove_vectors_emb,knn_classifier)"
      ],
      "execution_count": 93,
      "outputs": []
    },
    {
      "cell_type": "markdown",
      "metadata": {
        "id": "-Gqt0WUvKH5p"
      },
      "source": [
        "### 32. through"
      ]
    },
    {
      "cell_type": "code",
      "metadata": {
        "id": "ZAus9MgcQlzh",
        "colab": {
          "base_uri": "https://localhost:8080/"
        },
        "outputId": "f4168b02-e3a1-4fc5-c124-08d389ff64aa"
      },
      "source": [
        "features, df_final = features_from_file('/content/drive/MyDrive/Assignment1/data_assn1/Train/Source/pp-through.sents.trng.xml','through')\n",
        "svm_classifier = SVM_Model(features,df_final)\n",
        "knn_classifier =  KNN_model(features,df_final)"
      ],
      "execution_count": 94,
      "outputs": [
        {
          "output_type": "stream",
          "text": [
            "              precision    recall  f1-score   support\n",
            "\n",
            "        1(1)       0.31      0.29      0.30        17\n",
            "  1(1) 3(1b)       0.60      0.46      0.52        26\n",
            "       10(3)       0.50      0.60      0.55         5\n",
            "       12(5)       0.00      0.00      0.00         1\n",
            "     12(5)-1       0.00      0.00      0.00         1\n",
            "      13(5a)       0.00      0.00      0.00         3\n",
            "       2(1a)       0.00      0.00      0.00         6\n",
            "       3(1b)       0.25      0.50      0.33        28\n",
            " 3(1b) 10(3)       0.00      0.00      0.00         2\n",
            " 3(1b) 5(1d)       1.00      0.50      0.67         2\n",
            "       4(1c)       0.43      0.21      0.29        14\n",
            "     5(1d)-1       0.50      0.33      0.40         3\n",
            "       6(1e)       0.00      0.00      0.00         1\n",
            "       8(2a)       0.00      0.00      0.00         1\n",
            "       9(2b)       0.00      0.00      0.00         1\n",
            "\n",
            "    accuracy                           0.35       111\n",
            "   macro avg       0.24      0.19      0.20       111\n",
            "weighted avg       0.36      0.35      0.34       111\n",
            "\n",
            "               precision    recall  f1-score   support\n",
            "\n",
            "         1(1)       0.21      0.47      0.29        17\n",
            "   1(1) 3(1b)       0.67      0.54      0.60        26\n",
            "        10(3)       0.75      0.60      0.67         5\n",
            "        12(5)       0.00      0.00      0.00         1\n",
            "      12(5)-1       0.00      0.00      0.00         1\n",
            "       13(5a)       0.00      0.00      0.00         3\n",
            "        2(1a)       0.00      0.00      0.00         6\n",
            "        3(1b)       0.46      0.43      0.44        28\n",
            "  3(1b) 10(3)       1.00      0.50      0.67         2\n",
            "3(1b) 10(3)-1       0.00      0.00      0.00         0\n",
            "  3(1b) 5(1d)       1.00      0.50      0.67         2\n",
            "        4(1c)       0.57      0.57      0.57        14\n",
            "      5(1d)-1       0.67      0.67      0.67         3\n",
            "        6(1e)       0.00      0.00      0.00         1\n",
            "        8(2a)       0.00      0.00      0.00         1\n",
            "        9(2b)       0.00      0.00      0.00         1\n",
            "\n",
            "     accuracy                           0.44       111\n",
            "    macro avg       0.33      0.27      0.29       111\n",
            " weighted avg       0.46      0.44      0.44       111\n",
            "\n"
          ],
          "name": "stdout"
        },
        {
          "output_type": "stream",
          "text": [
            "/usr/local/lib/python3.7/dist-packages/sklearn/metrics/_classification.py:1272: UndefinedMetricWarning: Precision and F-score are ill-defined and being set to 0.0 in labels with no predicted samples. Use `zero_division` parameter to control this behavior.\n",
            "  _warn_prf(average, modifier, msg_start, len(result))\n",
            "/usr/local/lib/python3.7/dist-packages/sklearn/metrics/_classification.py:1272: UndefinedMetricWarning: Precision and F-score are ill-defined and being set to 0.0 in labels with no predicted samples. Use `zero_division` parameter to control this behavior.\n",
            "  _warn_prf(average, modifier, msg_start, len(result))\n",
            "/usr/local/lib/python3.7/dist-packages/sklearn/metrics/_classification.py:1272: UndefinedMetricWarning: Recall and F-score are ill-defined and being set to 0.0 in labels with no true samples. Use `zero_division` parameter to control this behavior.\n",
            "  _warn_prf(average, modifier, msg_start, len(result))\n"
          ],
          "name": "stderr"
        }
      ]
    },
    {
      "cell_type": "code",
      "metadata": {
        "id": "9Zz09FstQleG"
      },
      "source": [
        "#KNN is better\n",
        "y_out_test = pre_test('/content/drive/MyDrive/Assignment1/test_out/through.out','through',glove_vectors_emb,knn_classifier)"
      ],
      "execution_count": 95,
      "outputs": []
    },
    {
      "cell_type": "markdown",
      "metadata": {
        "id": "WKutPWRhKG6A"
      },
      "source": [
        "### 33. to "
      ]
    },
    {
      "cell_type": "code",
      "metadata": {
        "id": "aEUjl_UoQnSE",
        "colab": {
          "base_uri": "https://localhost:8080/"
        },
        "outputId": "484fd880-4c9e-4d2d-9a85-f771264d30de"
      },
      "source": [
        "features, df_final = features_from_file('/content/drive/MyDrive/Assignment1/data_assn1/Train/Source/pp-to.sents.trng.xml','to')\n",
        "svm_classifier = SVM_Model(features,df_final)\n",
        "knn_classifier =  KNN_model(features,df_final)"
      ],
      "execution_count": 96,
      "outputs": [
        {
          "output_type": "stream",
          "text": [
            "/usr/local/lib/python3.7/dist-packages/sklearn/metrics/_classification.py:1272: UndefinedMetricWarning: Precision and F-score are ill-defined and being set to 0.0 in labels with no predicted samples. Use `zero_division` parameter to control this behavior.\n",
            "  _warn_prf(average, modifier, msg_start, len(result))\n",
            "/usr/local/lib/python3.7/dist-packages/sklearn/metrics/_classification.py:1272: UndefinedMetricWarning: Precision and F-score are ill-defined and being set to 0.0 in labels with no predicted samples. Use `zero_division` parameter to control this behavior.\n",
            "  _warn_prf(average, modifier, msg_start, len(result))\n"
          ],
          "name": "stderr"
        },
        {
          "output_type": "stream",
          "text": [
            "              precision    recall  f1-score   support\n",
            "\n",
            "        1(1)       0.43      0.58      0.49       100\n",
            "      10(4a)       1.00      0.11      0.20         9\n",
            "       13(5)       0.25      0.06      0.10        17\n",
            "       14(6)       0.36      0.25      0.30        16\n",
            "       2(1a)       0.00      0.00      0.00         1\n",
            "        5(2)       0.00      0.00      0.00         1\n",
            "       6(2a)       0.57      0.13      0.21        31\n",
            "        8(3)       0.35      0.50      0.41        88\n",
            "      8(3)-1       0.88      0.27      0.41        26\n",
            "        9(4)       1.00      0.57      0.73         7\n",
            "\n",
            "    accuracy                           0.42       296\n",
            "   macro avg       0.48      0.25      0.28       296\n",
            "weighted avg       0.47      0.42      0.39       296\n",
            "\n",
            "              precision    recall  f1-score   support\n",
            "\n",
            "        1(1)       0.57      0.86      0.69       100\n",
            "      10(4a)       1.00      0.22      0.36         9\n",
            "       13(5)       0.67      0.59      0.62        17\n",
            "       14(6)       0.56      0.31      0.40        16\n",
            "       2(1a)       0.00      0.00      0.00         1\n",
            "        5(2)       0.00      0.00      0.00         1\n",
            "       6(2a)       0.59      0.42      0.49        31\n",
            "        8(3)       0.76      0.62      0.69        88\n",
            "      8(3)-1       0.70      0.62      0.65        26\n",
            "        9(4)       1.00      0.14      0.25         7\n",
            "\n",
            "    accuracy                           0.64       296\n",
            "   macro avg       0.58      0.38      0.42       296\n",
            "weighted avg       0.66      0.64      0.62       296\n",
            "\n"
          ],
          "name": "stdout"
        }
      ]
    },
    {
      "cell_type": "code",
      "metadata": {
        "id": "OdhshL6cQm4r"
      },
      "source": [
        "#SVM is better\n",
        "y_out_test = pre_test('/content/drive/MyDrive/Assignment1/test_out/to.out','to',glove_vectors_emb,svm_classifier)"
      ],
      "execution_count": 97,
      "outputs": []
    },
    {
      "cell_type": "markdown",
      "metadata": {
        "id": "p8c1i8ELKgOP"
      },
      "source": [
        "### 34. towards"
      ]
    },
    {
      "cell_type": "code",
      "metadata": {
        "id": "fFssu_WPQqOh",
        "colab": {
          "base_uri": "https://localhost:8080/"
        },
        "outputId": "6ab00c03-2372-4fed-d941-bada95e3b39c"
      },
      "source": [
        "features, df_final = features_from_file('/content/drive/MyDrive/Assignment1/data_assn1/Train/Source/pp-towards.sents.trng.xml','towards')\n",
        "svm_classifier = SVM_Model(features,df_final)\n",
        "knn_classifier =  KNN_model(features,df_final)"
      ],
      "execution_count": 98,
      "outputs": [
        {
          "output_type": "stream",
          "text": [
            "              precision    recall  f1-score   support\n",
            "\n",
            "        1(1)       0.94      1.00      0.97        46\n",
            "        4(2)       0.00      0.00      0.00         2\n",
            "      4(2)-1       0.80      0.67      0.73         6\n",
            "\n",
            "    accuracy                           0.93        54\n",
            "   macro avg       0.58      0.56      0.57        54\n",
            "weighted avg       0.89      0.93      0.91        54\n",
            "\n",
            "              precision    recall  f1-score   support\n",
            "\n",
            "        1(1)       0.94      1.00      0.97        46\n",
            "        4(2)       1.00      0.50      0.67         2\n",
            "      4(2)-1       1.00      0.67      0.80         6\n",
            "\n",
            "    accuracy                           0.94        54\n",
            "   macro avg       0.98      0.72      0.81        54\n",
            "weighted avg       0.95      0.94      0.94        54\n",
            "\n"
          ],
          "name": "stdout"
        },
        {
          "output_type": "stream",
          "text": [
            "/usr/local/lib/python3.7/dist-packages/sklearn/metrics/_classification.py:1272: UndefinedMetricWarning: Precision and F-score are ill-defined and being set to 0.0 in labels with no predicted samples. Use `zero_division` parameter to control this behavior.\n",
            "  _warn_prf(average, modifier, msg_start, len(result))\n"
          ],
          "name": "stderr"
        }
      ]
    },
    {
      "cell_type": "code",
      "metadata": {
        "id": "FWB4OKMyQpsM"
      },
      "source": [
        "#KNN is better\n",
        "y_out_test = pre_test('/content/drive/MyDrive/Assignment1/test_out/towards.out','towards',glove_vectors_emb,knn_classifier)"
      ],
      "execution_count": 99,
      "outputs": []
    },
    {
      "cell_type": "markdown",
      "metadata": {
        "id": "o2AZcKguIRoM"
      },
      "source": [
        "\n",
        "### 35. with"
      ]
    },
    {
      "cell_type": "code",
      "metadata": {
        "id": "c7WcNxeeGmYE",
        "colab": {
          "base_uri": "https://localhost:8080/"
        },
        "outputId": "aeb74409-84b5-4c35-9770-59e38cca9958"
      },
      "source": [
        "features, df_final = features_from_file('/content/drive/MyDrive/Assignment1/data_assn1/Train/Source/pp-with.sents.trng.xml','with')\n",
        "svm_classifier = SVM_Model(features,df_final)\n",
        "knn_classifier =  KNN_model(features,df_final)"
      ],
      "execution_count": 100,
      "outputs": [
        {
          "output_type": "stream",
          "text": [
            "/usr/local/lib/python3.7/dist-packages/sklearn/metrics/_classification.py:1272: UndefinedMetricWarning: Precision and F-score are ill-defined and being set to 0.0 in labels with no predicted samples. Use `zero_division` parameter to control this behavior.\n",
            "  _warn_prf(average, modifier, msg_start, len(result))\n"
          ],
          "name": "stderr"
        },
        {
          "output_type": "stream",
          "text": [
            "              precision    recall  f1-score   support\n",
            "\n",
            "        1(1)       0.28      0.36      0.31        45\n",
            "      11(7b)       0.57      0.24      0.33        17\n",
            " 11(7b) 7(5)       1.00      0.33      0.50         3\n",
            "      12(7c)       0.00      0.00      0.00         1\n",
            "       13(8)       1.00      0.33      0.50         3\n",
            "     15(9)-1       1.00      0.33      0.50         3\n",
            "        2(2)       0.46      0.38      0.41        16\n",
            "  2(2) 3(2a)       0.00      0.00      0.00         2\n",
            "       3(2a)       0.50      0.50      0.50         2\n",
            "        4(3)       0.19      0.18      0.19        50\n",
            "   4(3) 2(2)       0.00      0.00      0.00         1\n",
            "      4(3)-1       0.00      0.00      0.00         3\n",
            "       5(3a)       0.39      0.55      0.46        74\n",
            "        6(4)       0.29      0.08      0.13        24\n",
            "        7(5)       0.33      0.18      0.24        11\n",
            "        9(7)       0.29      0.33      0.31        42\n",
            "\n",
            "    accuracy                           0.33       297\n",
            "   macro avg       0.39      0.24      0.27       297\n",
            "weighted avg       0.34      0.33      0.32       297\n",
            "\n",
            "              precision    recall  f1-score   support\n",
            "\n",
            "        1(1)       0.42      0.64      0.51        45\n",
            "      11(7b)       0.44      0.41      0.42        17\n",
            " 11(7b) 7(5)       0.33      0.67      0.44         3\n",
            "      12(7c)       0.00      0.00      0.00         1\n",
            "       13(8)       0.00      0.00      0.00         3\n",
            "     15(9)-1       1.00      0.33      0.50         3\n",
            "        2(2)       0.41      0.44      0.42        16\n",
            "  2(2) 3(2a)       0.00      0.00      0.00         2\n",
            "       3(2a)       0.50      0.50      0.50         2\n",
            "        4(3)       0.49      0.34      0.40        50\n",
            "   4(3) 2(2)       0.00      0.00      0.00         1\n",
            "  4(3) 5(3a)       0.00      0.00      0.00         0\n",
            "      4(3)-1       0.29      0.67      0.40         3\n",
            "       5(3a)       0.77      0.49      0.60        74\n",
            "        6(4)       0.63      0.50      0.56        24\n",
            "        7(5)       0.00      0.00      0.00        11\n",
            "        9(7)       0.38      0.67      0.49        42\n",
            "\n",
            "    accuracy                           0.48       297\n",
            "   macro avg       0.33      0.33      0.31       297\n",
            "weighted avg       0.51      0.48      0.47       297\n",
            "\n"
          ],
          "name": "stdout"
        },
        {
          "output_type": "stream",
          "text": [
            "/usr/local/lib/python3.7/dist-packages/sklearn/metrics/_classification.py:1272: UndefinedMetricWarning: Precision and F-score are ill-defined and being set to 0.0 in labels with no predicted samples. Use `zero_division` parameter to control this behavior.\n",
            "  _warn_prf(average, modifier, msg_start, len(result))\n",
            "/usr/local/lib/python3.7/dist-packages/sklearn/metrics/_classification.py:1272: UndefinedMetricWarning: Recall and F-score are ill-defined and being set to 0.0 in labels with no true samples. Use `zero_division` parameter to control this behavior.\n",
            "  _warn_prf(average, modifier, msg_start, len(result))\n"
          ],
          "name": "stderr"
        }
      ]
    },
    {
      "cell_type": "code",
      "metadata": {
        "id": "-34k7oYgQruY"
      },
      "source": [
        "#KNN is better\n",
        "y_out_test = pre_test('/content/drive/MyDrive/Assignment1/test_out/with.out','with',glove_vectors_emb,knn_classifier)"
      ],
      "execution_count": 101,
      "outputs": []
    },
    {
      "cell_type": "code",
      "metadata": {
        "id": "TO8EE0ZXQsTN"
      },
      "source": [
        "\n"
      ],
      "execution_count": 71,
      "outputs": []
    },
    {
      "cell_type": "code",
      "metadata": {
        "id": "O-htLCciZ2UG"
      },
      "source": [
        ""
      ],
      "execution_count": 16,
      "outputs": []
    },
    {
      "cell_type": "code",
      "metadata": {
        "id": "kKfBJ_jcc2Dt"
      },
      "source": [
        ""
      ],
      "execution_count": null,
      "outputs": []
    }
  ]
}