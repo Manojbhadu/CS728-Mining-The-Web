{
  "nbformat": 4,
  "nbformat_minor": 0,
  "metadata": {
    "colab": {
      "name": "CS728_assign3.ipynb",
      "provenance": [],
      "collapsed_sections": []
    },
    "kernelspec": {
      "name": "python3",
      "display_name": "Python 3"
    },
    "language_info": {
      "name": "python"
    },
    "accelerator": "GPU",
    "widgets": {
      "application/vnd.jupyter.widget-state+json": {
        "99328106c3574751801ef84f42ba1820": {
          "model_module": "@jupyter-widgets/controls",
          "model_name": "HBoxModel",
          "state": {
            "_view_name": "HBoxView",
            "_dom_classes": [],
            "_model_name": "HBoxModel",
            "_view_module": "@jupyter-widgets/controls",
            "_model_module_version": "1.5.0",
            "_view_count": null,
            "_view_module_version": "1.5.0",
            "box_style": "",
            "layout": "IPY_MODEL_9985ba768c7b4772a0f4740a579f1872",
            "_model_module": "@jupyter-widgets/controls",
            "children": [
              "IPY_MODEL_6f365b1e63bc42f492a48774ed9ca24c",
              "IPY_MODEL_cfc2c47d3f724677bc820a6be70f6d0e"
            ]
          }
        },
        "9985ba768c7b4772a0f4740a579f1872": {
          "model_module": "@jupyter-widgets/base",
          "model_name": "LayoutModel",
          "state": {
            "_view_name": "LayoutView",
            "grid_template_rows": null,
            "right": null,
            "justify_content": null,
            "_view_module": "@jupyter-widgets/base",
            "overflow": null,
            "_model_module_version": "1.2.0",
            "_view_count": null,
            "flex_flow": null,
            "width": null,
            "min_width": null,
            "border": null,
            "align_items": null,
            "bottom": null,
            "_model_module": "@jupyter-widgets/base",
            "top": null,
            "grid_column": null,
            "overflow_y": null,
            "overflow_x": null,
            "grid_auto_flow": null,
            "grid_area": null,
            "grid_template_columns": null,
            "flex": null,
            "_model_name": "LayoutModel",
            "justify_items": null,
            "grid_row": null,
            "max_height": null,
            "align_content": null,
            "visibility": null,
            "align_self": null,
            "height": null,
            "min_height": null,
            "padding": null,
            "grid_auto_rows": null,
            "grid_gap": null,
            "max_width": null,
            "order": null,
            "_view_module_version": "1.2.0",
            "grid_template_areas": null,
            "object_position": null,
            "object_fit": null,
            "grid_auto_columns": null,
            "margin": null,
            "display": null,
            "left": null
          }
        },
        "6f365b1e63bc42f492a48774ed9ca24c": {
          "model_module": "@jupyter-widgets/controls",
          "model_name": "FloatProgressModel",
          "state": {
            "_view_name": "ProgressView",
            "style": "IPY_MODEL_b26f4d1eb2e84453ba08d5265bfbe3b1",
            "_dom_classes": [],
            "description": "Downloading: 100%",
            "_model_name": "FloatProgressModel",
            "bar_style": "success",
            "max": 461,
            "_view_module": "@jupyter-widgets/controls",
            "_model_module_version": "1.5.0",
            "value": 461,
            "_view_count": null,
            "_view_module_version": "1.5.0",
            "orientation": "horizontal",
            "min": 0,
            "description_tooltip": null,
            "_model_module": "@jupyter-widgets/controls",
            "layout": "IPY_MODEL_41ff0e4ac897464aa21c98f0e1b02dc6"
          }
        },
        "cfc2c47d3f724677bc820a6be70f6d0e": {
          "model_module": "@jupyter-widgets/controls",
          "model_name": "HTMLModel",
          "state": {
            "_view_name": "HTMLView",
            "style": "IPY_MODEL_054ea102b23544bd943a86ee2adc6b67",
            "_dom_classes": [],
            "description": "",
            "_model_name": "HTMLModel",
            "placeholder": "​",
            "_view_module": "@jupyter-widgets/controls",
            "_model_module_version": "1.5.0",
            "value": " 461/461 [00:02&lt;00:00, 208B/s]",
            "_view_count": null,
            "_view_module_version": "1.5.0",
            "description_tooltip": null,
            "_model_module": "@jupyter-widgets/controls",
            "layout": "IPY_MODEL_9d164887eba9439e95059eeca1ecc796"
          }
        },
        "b26f4d1eb2e84453ba08d5265bfbe3b1": {
          "model_module": "@jupyter-widgets/controls",
          "model_name": "ProgressStyleModel",
          "state": {
            "_view_name": "StyleView",
            "_model_name": "ProgressStyleModel",
            "description_width": "initial",
            "_view_module": "@jupyter-widgets/base",
            "_model_module_version": "1.5.0",
            "_view_count": null,
            "_view_module_version": "1.2.0",
            "bar_color": null,
            "_model_module": "@jupyter-widgets/controls"
          }
        },
        "41ff0e4ac897464aa21c98f0e1b02dc6": {
          "model_module": "@jupyter-widgets/base",
          "model_name": "LayoutModel",
          "state": {
            "_view_name": "LayoutView",
            "grid_template_rows": null,
            "right": null,
            "justify_content": null,
            "_view_module": "@jupyter-widgets/base",
            "overflow": null,
            "_model_module_version": "1.2.0",
            "_view_count": null,
            "flex_flow": null,
            "width": null,
            "min_width": null,
            "border": null,
            "align_items": null,
            "bottom": null,
            "_model_module": "@jupyter-widgets/base",
            "top": null,
            "grid_column": null,
            "overflow_y": null,
            "overflow_x": null,
            "grid_auto_flow": null,
            "grid_area": null,
            "grid_template_columns": null,
            "flex": null,
            "_model_name": "LayoutModel",
            "justify_items": null,
            "grid_row": null,
            "max_height": null,
            "align_content": null,
            "visibility": null,
            "align_self": null,
            "height": null,
            "min_height": null,
            "padding": null,
            "grid_auto_rows": null,
            "grid_gap": null,
            "max_width": null,
            "order": null,
            "_view_module_version": "1.2.0",
            "grid_template_areas": null,
            "object_position": null,
            "object_fit": null,
            "grid_auto_columns": null,
            "margin": null,
            "display": null,
            "left": null
          }
        },
        "054ea102b23544bd943a86ee2adc6b67": {
          "model_module": "@jupyter-widgets/controls",
          "model_name": "DescriptionStyleModel",
          "state": {
            "_view_name": "StyleView",
            "_model_name": "DescriptionStyleModel",
            "description_width": "",
            "_view_module": "@jupyter-widgets/base",
            "_model_module_version": "1.5.0",
            "_view_count": null,
            "_view_module_version": "1.2.0",
            "_model_module": "@jupyter-widgets/controls"
          }
        },
        "9d164887eba9439e95059eeca1ecc796": {
          "model_module": "@jupyter-widgets/base",
          "model_name": "LayoutModel",
          "state": {
            "_view_name": "LayoutView",
            "grid_template_rows": null,
            "right": null,
            "justify_content": null,
            "_view_module": "@jupyter-widgets/base",
            "overflow": null,
            "_model_module_version": "1.2.0",
            "_view_count": null,
            "flex_flow": null,
            "width": null,
            "min_width": null,
            "border": null,
            "align_items": null,
            "bottom": null,
            "_model_module": "@jupyter-widgets/base",
            "top": null,
            "grid_column": null,
            "overflow_y": null,
            "overflow_x": null,
            "grid_auto_flow": null,
            "grid_area": null,
            "grid_template_columns": null,
            "flex": null,
            "_model_name": "LayoutModel",
            "justify_items": null,
            "grid_row": null,
            "max_height": null,
            "align_content": null,
            "visibility": null,
            "align_self": null,
            "height": null,
            "min_height": null,
            "padding": null,
            "grid_auto_rows": null,
            "grid_gap": null,
            "max_width": null,
            "order": null,
            "_view_module_version": "1.2.0",
            "grid_template_areas": null,
            "object_position": null,
            "object_fit": null,
            "grid_auto_columns": null,
            "margin": null,
            "display": null,
            "left": null
          }
        },
        "b23374e7fb1a4816859d3cd8fec5bdab": {
          "model_module": "@jupyter-widgets/controls",
          "model_name": "HBoxModel",
          "state": {
            "_view_name": "HBoxView",
            "_dom_classes": [],
            "_model_name": "HBoxModel",
            "_view_module": "@jupyter-widgets/controls",
            "_model_module_version": "1.5.0",
            "_view_count": null,
            "_view_module_version": "1.5.0",
            "box_style": "",
            "layout": "IPY_MODEL_51864d5ade34447b8bd79d60b88c44f1",
            "_model_module": "@jupyter-widgets/controls",
            "children": [
              "IPY_MODEL_fb06cdf9214042e5b23dba03649e0de4",
              "IPY_MODEL_ede4f72967254661a19e5bd3c0025250"
            ]
          }
        },
        "51864d5ade34447b8bd79d60b88c44f1": {
          "model_module": "@jupyter-widgets/base",
          "model_name": "LayoutModel",
          "state": {
            "_view_name": "LayoutView",
            "grid_template_rows": null,
            "right": null,
            "justify_content": null,
            "_view_module": "@jupyter-widgets/base",
            "overflow": null,
            "_model_module_version": "1.2.0",
            "_view_count": null,
            "flex_flow": null,
            "width": null,
            "min_width": null,
            "border": null,
            "align_items": null,
            "bottom": null,
            "_model_module": "@jupyter-widgets/base",
            "top": null,
            "grid_column": null,
            "overflow_y": null,
            "overflow_x": null,
            "grid_auto_flow": null,
            "grid_area": null,
            "grid_template_columns": null,
            "flex": null,
            "_model_name": "LayoutModel",
            "justify_items": null,
            "grid_row": null,
            "max_height": null,
            "align_content": null,
            "visibility": null,
            "align_self": null,
            "height": null,
            "min_height": null,
            "padding": null,
            "grid_auto_rows": null,
            "grid_gap": null,
            "max_width": null,
            "order": null,
            "_view_module_version": "1.2.0",
            "grid_template_areas": null,
            "object_position": null,
            "object_fit": null,
            "grid_auto_columns": null,
            "margin": null,
            "display": null,
            "left": null
          }
        },
        "fb06cdf9214042e5b23dba03649e0de4": {
          "model_module": "@jupyter-widgets/controls",
          "model_name": "FloatProgressModel",
          "state": {
            "_view_name": "ProgressView",
            "style": "IPY_MODEL_a7a9eaee83044c0f8a22514100f01086",
            "_dom_classes": [],
            "description": "Downloading: 100%",
            "_model_name": "FloatProgressModel",
            "bar_style": "success",
            "max": 231508,
            "_view_module": "@jupyter-widgets/controls",
            "_model_module_version": "1.5.0",
            "value": 231508,
            "_view_count": null,
            "_view_module_version": "1.5.0",
            "orientation": "horizontal",
            "min": 0,
            "description_tooltip": null,
            "_model_module": "@jupyter-widgets/controls",
            "layout": "IPY_MODEL_d767b3023055486eafb4e2bf31c77b4f"
          }
        },
        "ede4f72967254661a19e5bd3c0025250": {
          "model_module": "@jupyter-widgets/controls",
          "model_name": "HTMLModel",
          "state": {
            "_view_name": "HTMLView",
            "style": "IPY_MODEL_b74d671829d546a580ad3463b2c74b97",
            "_dom_classes": [],
            "description": "",
            "_model_name": "HTMLModel",
            "placeholder": "​",
            "_view_module": "@jupyter-widgets/controls",
            "_model_module_version": "1.5.0",
            "value": " 232k/232k [00:01&lt;00:00, 132kB/s]",
            "_view_count": null,
            "_view_module_version": "1.5.0",
            "description_tooltip": null,
            "_model_module": "@jupyter-widgets/controls",
            "layout": "IPY_MODEL_6223e2fbc79d4c5d8c9943762ba56459"
          }
        },
        "a7a9eaee83044c0f8a22514100f01086": {
          "model_module": "@jupyter-widgets/controls",
          "model_name": "ProgressStyleModel",
          "state": {
            "_view_name": "StyleView",
            "_model_name": "ProgressStyleModel",
            "description_width": "initial",
            "_view_module": "@jupyter-widgets/base",
            "_model_module_version": "1.5.0",
            "_view_count": null,
            "_view_module_version": "1.2.0",
            "bar_color": null,
            "_model_module": "@jupyter-widgets/controls"
          }
        },
        "d767b3023055486eafb4e2bf31c77b4f": {
          "model_module": "@jupyter-widgets/base",
          "model_name": "LayoutModel",
          "state": {
            "_view_name": "LayoutView",
            "grid_template_rows": null,
            "right": null,
            "justify_content": null,
            "_view_module": "@jupyter-widgets/base",
            "overflow": null,
            "_model_module_version": "1.2.0",
            "_view_count": null,
            "flex_flow": null,
            "width": null,
            "min_width": null,
            "border": null,
            "align_items": null,
            "bottom": null,
            "_model_module": "@jupyter-widgets/base",
            "top": null,
            "grid_column": null,
            "overflow_y": null,
            "overflow_x": null,
            "grid_auto_flow": null,
            "grid_area": null,
            "grid_template_columns": null,
            "flex": null,
            "_model_name": "LayoutModel",
            "justify_items": null,
            "grid_row": null,
            "max_height": null,
            "align_content": null,
            "visibility": null,
            "align_self": null,
            "height": null,
            "min_height": null,
            "padding": null,
            "grid_auto_rows": null,
            "grid_gap": null,
            "max_width": null,
            "order": null,
            "_view_module_version": "1.2.0",
            "grid_template_areas": null,
            "object_position": null,
            "object_fit": null,
            "grid_auto_columns": null,
            "margin": null,
            "display": null,
            "left": null
          }
        },
        "b74d671829d546a580ad3463b2c74b97": {
          "model_module": "@jupyter-widgets/controls",
          "model_name": "DescriptionStyleModel",
          "state": {
            "_view_name": "StyleView",
            "_model_name": "DescriptionStyleModel",
            "description_width": "",
            "_view_module": "@jupyter-widgets/base",
            "_model_module_version": "1.5.0",
            "_view_count": null,
            "_view_module_version": "1.2.0",
            "_model_module": "@jupyter-widgets/controls"
          }
        },
        "6223e2fbc79d4c5d8c9943762ba56459": {
          "model_module": "@jupyter-widgets/base",
          "model_name": "LayoutModel",
          "state": {
            "_view_name": "LayoutView",
            "grid_template_rows": null,
            "right": null,
            "justify_content": null,
            "_view_module": "@jupyter-widgets/base",
            "overflow": null,
            "_model_module_version": "1.2.0",
            "_view_count": null,
            "flex_flow": null,
            "width": null,
            "min_width": null,
            "border": null,
            "align_items": null,
            "bottom": null,
            "_model_module": "@jupyter-widgets/base",
            "top": null,
            "grid_column": null,
            "overflow_y": null,
            "overflow_x": null,
            "grid_auto_flow": null,
            "grid_area": null,
            "grid_template_columns": null,
            "flex": null,
            "_model_name": "LayoutModel",
            "justify_items": null,
            "grid_row": null,
            "max_height": null,
            "align_content": null,
            "visibility": null,
            "align_self": null,
            "height": null,
            "min_height": null,
            "padding": null,
            "grid_auto_rows": null,
            "grid_gap": null,
            "max_width": null,
            "order": null,
            "_view_module_version": "1.2.0",
            "grid_template_areas": null,
            "object_position": null,
            "object_fit": null,
            "grid_auto_columns": null,
            "margin": null,
            "display": null,
            "left": null
          }
        },
        "90d7af20950f4e01bfb62683c6c260a5": {
          "model_module": "@jupyter-widgets/controls",
          "model_name": "HBoxModel",
          "state": {
            "_view_name": "HBoxView",
            "_dom_classes": [],
            "_model_name": "HBoxModel",
            "_view_module": "@jupyter-widgets/controls",
            "_model_module_version": "1.5.0",
            "_view_count": null,
            "_view_module_version": "1.5.0",
            "box_style": "",
            "layout": "IPY_MODEL_91be61d403b344de9374d0bc291143d6",
            "_model_module": "@jupyter-widgets/controls",
            "children": [
              "IPY_MODEL_82a4db75da3b48d3a61582f6f6b3599a",
              "IPY_MODEL_58405420afcd4d4098c20fd6223e454a"
            ]
          }
        },
        "91be61d403b344de9374d0bc291143d6": {
          "model_module": "@jupyter-widgets/base",
          "model_name": "LayoutModel",
          "state": {
            "_view_name": "LayoutView",
            "grid_template_rows": null,
            "right": null,
            "justify_content": null,
            "_view_module": "@jupyter-widgets/base",
            "overflow": null,
            "_model_module_version": "1.2.0",
            "_view_count": null,
            "flex_flow": null,
            "width": null,
            "min_width": null,
            "border": null,
            "align_items": null,
            "bottom": null,
            "_model_module": "@jupyter-widgets/base",
            "top": null,
            "grid_column": null,
            "overflow_y": null,
            "overflow_x": null,
            "grid_auto_flow": null,
            "grid_area": null,
            "grid_template_columns": null,
            "flex": null,
            "_model_name": "LayoutModel",
            "justify_items": null,
            "grid_row": null,
            "max_height": null,
            "align_content": null,
            "visibility": null,
            "align_self": null,
            "height": null,
            "min_height": null,
            "padding": null,
            "grid_auto_rows": null,
            "grid_gap": null,
            "max_width": null,
            "order": null,
            "_view_module_version": "1.2.0",
            "grid_template_areas": null,
            "object_position": null,
            "object_fit": null,
            "grid_auto_columns": null,
            "margin": null,
            "display": null,
            "left": null
          }
        },
        "82a4db75da3b48d3a61582f6f6b3599a": {
          "model_module": "@jupyter-widgets/controls",
          "model_name": "FloatProgressModel",
          "state": {
            "_view_name": "ProgressView",
            "style": "IPY_MODEL_6033bc3713c04bd0b4e8134c3dbb60b0",
            "_dom_classes": [],
            "description": "Downloading: 100%",
            "_model_name": "FloatProgressModel",
            "bar_style": "success",
            "max": 2,
            "_view_module": "@jupyter-widgets/controls",
            "_model_module_version": "1.5.0",
            "value": 2,
            "_view_count": null,
            "_view_module_version": "1.5.0",
            "orientation": "horizontal",
            "min": 0,
            "description_tooltip": null,
            "_model_module": "@jupyter-widgets/controls",
            "layout": "IPY_MODEL_3423381ae2f94e54b7f6708e2b5a4b90"
          }
        },
        "58405420afcd4d4098c20fd6223e454a": {
          "model_module": "@jupyter-widgets/controls",
          "model_name": "HTMLModel",
          "state": {
            "_view_name": "HTMLView",
            "style": "IPY_MODEL_bee813b0ae9b44c99e4dd64b5b157e3d",
            "_dom_classes": [],
            "description": "",
            "_model_name": "HTMLModel",
            "placeholder": "​",
            "_view_module": "@jupyter-widgets/controls",
            "_model_module_version": "1.5.0",
            "value": " 2.00/2.00 [00:00&lt;00:00, 4.34B/s]",
            "_view_count": null,
            "_view_module_version": "1.5.0",
            "description_tooltip": null,
            "_model_module": "@jupyter-widgets/controls",
            "layout": "IPY_MODEL_7c0778b3ef6f42dba09bff286449224f"
          }
        },
        "6033bc3713c04bd0b4e8134c3dbb60b0": {
          "model_module": "@jupyter-widgets/controls",
          "model_name": "ProgressStyleModel",
          "state": {
            "_view_name": "StyleView",
            "_model_name": "ProgressStyleModel",
            "description_width": "initial",
            "_view_module": "@jupyter-widgets/base",
            "_model_module_version": "1.5.0",
            "_view_count": null,
            "_view_module_version": "1.2.0",
            "bar_color": null,
            "_model_module": "@jupyter-widgets/controls"
          }
        },
        "3423381ae2f94e54b7f6708e2b5a4b90": {
          "model_module": "@jupyter-widgets/base",
          "model_name": "LayoutModel",
          "state": {
            "_view_name": "LayoutView",
            "grid_template_rows": null,
            "right": null,
            "justify_content": null,
            "_view_module": "@jupyter-widgets/base",
            "overflow": null,
            "_model_module_version": "1.2.0",
            "_view_count": null,
            "flex_flow": null,
            "width": null,
            "min_width": null,
            "border": null,
            "align_items": null,
            "bottom": null,
            "_model_module": "@jupyter-widgets/base",
            "top": null,
            "grid_column": null,
            "overflow_y": null,
            "overflow_x": null,
            "grid_auto_flow": null,
            "grid_area": null,
            "grid_template_columns": null,
            "flex": null,
            "_model_name": "LayoutModel",
            "justify_items": null,
            "grid_row": null,
            "max_height": null,
            "align_content": null,
            "visibility": null,
            "align_self": null,
            "height": null,
            "min_height": null,
            "padding": null,
            "grid_auto_rows": null,
            "grid_gap": null,
            "max_width": null,
            "order": null,
            "_view_module_version": "1.2.0",
            "grid_template_areas": null,
            "object_position": null,
            "object_fit": null,
            "grid_auto_columns": null,
            "margin": null,
            "display": null,
            "left": null
          }
        },
        "bee813b0ae9b44c99e4dd64b5b157e3d": {
          "model_module": "@jupyter-widgets/controls",
          "model_name": "DescriptionStyleModel",
          "state": {
            "_view_name": "StyleView",
            "_model_name": "DescriptionStyleModel",
            "description_width": "",
            "_view_module": "@jupyter-widgets/base",
            "_model_module_version": "1.5.0",
            "_view_count": null,
            "_view_module_version": "1.2.0",
            "_model_module": "@jupyter-widgets/controls"
          }
        },
        "7c0778b3ef6f42dba09bff286449224f": {
          "model_module": "@jupyter-widgets/base",
          "model_name": "LayoutModel",
          "state": {
            "_view_name": "LayoutView",
            "grid_template_rows": null,
            "right": null,
            "justify_content": null,
            "_view_module": "@jupyter-widgets/base",
            "overflow": null,
            "_model_module_version": "1.2.0",
            "_view_count": null,
            "flex_flow": null,
            "width": null,
            "min_width": null,
            "border": null,
            "align_items": null,
            "bottom": null,
            "_model_module": "@jupyter-widgets/base",
            "top": null,
            "grid_column": null,
            "overflow_y": null,
            "overflow_x": null,
            "grid_auto_flow": null,
            "grid_area": null,
            "grid_template_columns": null,
            "flex": null,
            "_model_name": "LayoutModel",
            "justify_items": null,
            "grid_row": null,
            "max_height": null,
            "align_content": null,
            "visibility": null,
            "align_self": null,
            "height": null,
            "min_height": null,
            "padding": null,
            "grid_auto_rows": null,
            "grid_gap": null,
            "max_width": null,
            "order": null,
            "_view_module_version": "1.2.0",
            "grid_template_areas": null,
            "object_position": null,
            "object_fit": null,
            "grid_auto_columns": null,
            "margin": null,
            "display": null,
            "left": null
          }
        },
        "69bbd848423842119ec8991f376e96b7": {
          "model_module": "@jupyter-widgets/controls",
          "model_name": "HBoxModel",
          "state": {
            "_view_name": "HBoxView",
            "_dom_classes": [],
            "_model_name": "HBoxModel",
            "_view_module": "@jupyter-widgets/controls",
            "_model_module_version": "1.5.0",
            "_view_count": null,
            "_view_module_version": "1.5.0",
            "box_style": "",
            "layout": "IPY_MODEL_c80334a319bb4b0bbb8c75bfd4b2cf2b",
            "_model_module": "@jupyter-widgets/controls",
            "children": [
              "IPY_MODEL_31f8f166051e408ba291eac5fbdcc2ff",
              "IPY_MODEL_c3cf06565ee040ab8974e8c00cbf71cb"
            ]
          }
        },
        "c80334a319bb4b0bbb8c75bfd4b2cf2b": {
          "model_module": "@jupyter-widgets/base",
          "model_name": "LayoutModel",
          "state": {
            "_view_name": "LayoutView",
            "grid_template_rows": null,
            "right": null,
            "justify_content": null,
            "_view_module": "@jupyter-widgets/base",
            "overflow": null,
            "_model_module_version": "1.2.0",
            "_view_count": null,
            "flex_flow": null,
            "width": null,
            "min_width": null,
            "border": null,
            "align_items": null,
            "bottom": null,
            "_model_module": "@jupyter-widgets/base",
            "top": null,
            "grid_column": null,
            "overflow_y": null,
            "overflow_x": null,
            "grid_auto_flow": null,
            "grid_area": null,
            "grid_template_columns": null,
            "flex": null,
            "_model_name": "LayoutModel",
            "justify_items": null,
            "grid_row": null,
            "max_height": null,
            "align_content": null,
            "visibility": null,
            "align_self": null,
            "height": null,
            "min_height": null,
            "padding": null,
            "grid_auto_rows": null,
            "grid_gap": null,
            "max_width": null,
            "order": null,
            "_view_module_version": "1.2.0",
            "grid_template_areas": null,
            "object_position": null,
            "object_fit": null,
            "grid_auto_columns": null,
            "margin": null,
            "display": null,
            "left": null
          }
        },
        "31f8f166051e408ba291eac5fbdcc2ff": {
          "model_module": "@jupyter-widgets/controls",
          "model_name": "FloatProgressModel",
          "state": {
            "_view_name": "ProgressView",
            "style": "IPY_MODEL_4b5d1d2b0bbd4050884128b8e0881cd4",
            "_dom_classes": [],
            "description": "Downloading: 100%",
            "_model_name": "FloatProgressModel",
            "bar_style": "success",
            "max": 112,
            "_view_module": "@jupyter-widgets/controls",
            "_model_module_version": "1.5.0",
            "value": 112,
            "_view_count": null,
            "_view_module_version": "1.5.0",
            "orientation": "horizontal",
            "min": 0,
            "description_tooltip": null,
            "_model_module": "@jupyter-widgets/controls",
            "layout": "IPY_MODEL_92c39fd4f3f4455b966b910a9c04ee68"
          }
        },
        "c3cf06565ee040ab8974e8c00cbf71cb": {
          "model_module": "@jupyter-widgets/controls",
          "model_name": "HTMLModel",
          "state": {
            "_view_name": "HTMLView",
            "style": "IPY_MODEL_ad3d83f8afec4bf2a70d609ebb182527",
            "_dom_classes": [],
            "description": "",
            "_model_name": "HTMLModel",
            "placeholder": "​",
            "_view_module": "@jupyter-widgets/controls",
            "_model_module_version": "1.5.0",
            "value": " 112/112 [00:00&lt;00:00, 410B/s]",
            "_view_count": null,
            "_view_module_version": "1.5.0",
            "description_tooltip": null,
            "_model_module": "@jupyter-widgets/controls",
            "layout": "IPY_MODEL_130c502ed67344dcbf00c6051e339799"
          }
        },
        "4b5d1d2b0bbd4050884128b8e0881cd4": {
          "model_module": "@jupyter-widgets/controls",
          "model_name": "ProgressStyleModel",
          "state": {
            "_view_name": "StyleView",
            "_model_name": "ProgressStyleModel",
            "description_width": "initial",
            "_view_module": "@jupyter-widgets/base",
            "_model_module_version": "1.5.0",
            "_view_count": null,
            "_view_module_version": "1.2.0",
            "bar_color": null,
            "_model_module": "@jupyter-widgets/controls"
          }
        },
        "92c39fd4f3f4455b966b910a9c04ee68": {
          "model_module": "@jupyter-widgets/base",
          "model_name": "LayoutModel",
          "state": {
            "_view_name": "LayoutView",
            "grid_template_rows": null,
            "right": null,
            "justify_content": null,
            "_view_module": "@jupyter-widgets/base",
            "overflow": null,
            "_model_module_version": "1.2.0",
            "_view_count": null,
            "flex_flow": null,
            "width": null,
            "min_width": null,
            "border": null,
            "align_items": null,
            "bottom": null,
            "_model_module": "@jupyter-widgets/base",
            "top": null,
            "grid_column": null,
            "overflow_y": null,
            "overflow_x": null,
            "grid_auto_flow": null,
            "grid_area": null,
            "grid_template_columns": null,
            "flex": null,
            "_model_name": "LayoutModel",
            "justify_items": null,
            "grid_row": null,
            "max_height": null,
            "align_content": null,
            "visibility": null,
            "align_self": null,
            "height": null,
            "min_height": null,
            "padding": null,
            "grid_auto_rows": null,
            "grid_gap": null,
            "max_width": null,
            "order": null,
            "_view_module_version": "1.2.0",
            "grid_template_areas": null,
            "object_position": null,
            "object_fit": null,
            "grid_auto_columns": null,
            "margin": null,
            "display": null,
            "left": null
          }
        },
        "ad3d83f8afec4bf2a70d609ebb182527": {
          "model_module": "@jupyter-widgets/controls",
          "model_name": "DescriptionStyleModel",
          "state": {
            "_view_name": "StyleView",
            "_model_name": "DescriptionStyleModel",
            "description_width": "",
            "_view_module": "@jupyter-widgets/base",
            "_model_module_version": "1.5.0",
            "_view_count": null,
            "_view_module_version": "1.2.0",
            "_model_module": "@jupyter-widgets/controls"
          }
        },
        "130c502ed67344dcbf00c6051e339799": {
          "model_module": "@jupyter-widgets/base",
          "model_name": "LayoutModel",
          "state": {
            "_view_name": "LayoutView",
            "grid_template_rows": null,
            "right": null,
            "justify_content": null,
            "_view_module": "@jupyter-widgets/base",
            "overflow": null,
            "_model_module_version": "1.2.0",
            "_view_count": null,
            "flex_flow": null,
            "width": null,
            "min_width": null,
            "border": null,
            "align_items": null,
            "bottom": null,
            "_model_module": "@jupyter-widgets/base",
            "top": null,
            "grid_column": null,
            "overflow_y": null,
            "overflow_x": null,
            "grid_auto_flow": null,
            "grid_area": null,
            "grid_template_columns": null,
            "flex": null,
            "_model_name": "LayoutModel",
            "justify_items": null,
            "grid_row": null,
            "max_height": null,
            "align_content": null,
            "visibility": null,
            "align_self": null,
            "height": null,
            "min_height": null,
            "padding": null,
            "grid_auto_rows": null,
            "grid_gap": null,
            "max_width": null,
            "order": null,
            "_view_module_version": "1.2.0",
            "grid_template_areas": null,
            "object_position": null,
            "object_fit": null,
            "grid_auto_columns": null,
            "margin": null,
            "display": null,
            "left": null
          }
        },
        "c7ed4eb9f02448869792ec07b21cb314": {
          "model_module": "@jupyter-widgets/controls",
          "model_name": "HBoxModel",
          "state": {
            "_view_name": "HBoxView",
            "_dom_classes": [],
            "_model_name": "HBoxModel",
            "_view_module": "@jupyter-widgets/controls",
            "_model_module_version": "1.5.0",
            "_view_count": null,
            "_view_module_version": "1.5.0",
            "box_style": "",
            "layout": "IPY_MODEL_71a3bb03337a443792f9031d5e649cc1",
            "_model_module": "@jupyter-widgets/controls",
            "children": [
              "IPY_MODEL_f5bbbd6fd04b4af8a217fd84ee97cb52",
              "IPY_MODEL_5a9501e66558460cbb0af1ea80979071"
            ]
          }
        },
        "71a3bb03337a443792f9031d5e649cc1": {
          "model_module": "@jupyter-widgets/base",
          "model_name": "LayoutModel",
          "state": {
            "_view_name": "LayoutView",
            "grid_template_rows": null,
            "right": null,
            "justify_content": null,
            "_view_module": "@jupyter-widgets/base",
            "overflow": null,
            "_model_module_version": "1.2.0",
            "_view_count": null,
            "flex_flow": null,
            "width": null,
            "min_width": null,
            "border": null,
            "align_items": null,
            "bottom": null,
            "_model_module": "@jupyter-widgets/base",
            "top": null,
            "grid_column": null,
            "overflow_y": null,
            "overflow_x": null,
            "grid_auto_flow": null,
            "grid_area": null,
            "grid_template_columns": null,
            "flex": null,
            "_model_name": "LayoutModel",
            "justify_items": null,
            "grid_row": null,
            "max_height": null,
            "align_content": null,
            "visibility": null,
            "align_self": null,
            "height": null,
            "min_height": null,
            "padding": null,
            "grid_auto_rows": null,
            "grid_gap": null,
            "max_width": null,
            "order": null,
            "_view_module_version": "1.2.0",
            "grid_template_areas": null,
            "object_position": null,
            "object_fit": null,
            "grid_auto_columns": null,
            "margin": null,
            "display": null,
            "left": null
          }
        },
        "f5bbbd6fd04b4af8a217fd84ee97cb52": {
          "model_module": "@jupyter-widgets/controls",
          "model_name": "FloatProgressModel",
          "state": {
            "_view_name": "ProgressView",
            "style": "IPY_MODEL_fade4baa2f3b44e5ae37e24ec14cea9e",
            "_dom_classes": [],
            "description": "Downloading: 100%",
            "_model_name": "FloatProgressModel",
            "bar_style": "success",
            "max": 438006864,
            "_view_module": "@jupyter-widgets/controls",
            "_model_module_version": "1.5.0",
            "value": 438006864,
            "_view_count": null,
            "_view_module_version": "1.5.0",
            "orientation": "horizontal",
            "min": 0,
            "description_tooltip": null,
            "_model_module": "@jupyter-widgets/controls",
            "layout": "IPY_MODEL_f7ae158ffd224db7a10cf9ea49e756bf"
          }
        },
        "5a9501e66558460cbb0af1ea80979071": {
          "model_module": "@jupyter-widgets/controls",
          "model_name": "HTMLModel",
          "state": {
            "_view_name": "HTMLView",
            "style": "IPY_MODEL_f3b88db921c74b6c9b3d48987b6b8289",
            "_dom_classes": [],
            "description": "",
            "_model_name": "HTMLModel",
            "placeholder": "​",
            "_view_module": "@jupyter-widgets/controls",
            "_model_module_version": "1.5.0",
            "value": " 438M/438M [00:09&lt;00:00, 44.1MB/s]",
            "_view_count": null,
            "_view_module_version": "1.5.0",
            "description_tooltip": null,
            "_model_module": "@jupyter-widgets/controls",
            "layout": "IPY_MODEL_8b16ca81f86f45b880f0c16f53044e91"
          }
        },
        "fade4baa2f3b44e5ae37e24ec14cea9e": {
          "model_module": "@jupyter-widgets/controls",
          "model_name": "ProgressStyleModel",
          "state": {
            "_view_name": "StyleView",
            "_model_name": "ProgressStyleModel",
            "description_width": "initial",
            "_view_module": "@jupyter-widgets/base",
            "_model_module_version": "1.5.0",
            "_view_count": null,
            "_view_module_version": "1.2.0",
            "bar_color": null,
            "_model_module": "@jupyter-widgets/controls"
          }
        },
        "f7ae158ffd224db7a10cf9ea49e756bf": {
          "model_module": "@jupyter-widgets/base",
          "model_name": "LayoutModel",
          "state": {
            "_view_name": "LayoutView",
            "grid_template_rows": null,
            "right": null,
            "justify_content": null,
            "_view_module": "@jupyter-widgets/base",
            "overflow": null,
            "_model_module_version": "1.2.0",
            "_view_count": null,
            "flex_flow": null,
            "width": null,
            "min_width": null,
            "border": null,
            "align_items": null,
            "bottom": null,
            "_model_module": "@jupyter-widgets/base",
            "top": null,
            "grid_column": null,
            "overflow_y": null,
            "overflow_x": null,
            "grid_auto_flow": null,
            "grid_area": null,
            "grid_template_columns": null,
            "flex": null,
            "_model_name": "LayoutModel",
            "justify_items": null,
            "grid_row": null,
            "max_height": null,
            "align_content": null,
            "visibility": null,
            "align_self": null,
            "height": null,
            "min_height": null,
            "padding": null,
            "grid_auto_rows": null,
            "grid_gap": null,
            "max_width": null,
            "order": null,
            "_view_module_version": "1.2.0",
            "grid_template_areas": null,
            "object_position": null,
            "object_fit": null,
            "grid_auto_columns": null,
            "margin": null,
            "display": null,
            "left": null
          }
        },
        "f3b88db921c74b6c9b3d48987b6b8289": {
          "model_module": "@jupyter-widgets/controls",
          "model_name": "DescriptionStyleModel",
          "state": {
            "_view_name": "StyleView",
            "_model_name": "DescriptionStyleModel",
            "description_width": "",
            "_view_module": "@jupyter-widgets/base",
            "_model_module_version": "1.5.0",
            "_view_count": null,
            "_view_module_version": "1.2.0",
            "_model_module": "@jupyter-widgets/controls"
          }
        },
        "8b16ca81f86f45b880f0c16f53044e91": {
          "model_module": "@jupyter-widgets/base",
          "model_name": "LayoutModel",
          "state": {
            "_view_name": "LayoutView",
            "grid_template_rows": null,
            "right": null,
            "justify_content": null,
            "_view_module": "@jupyter-widgets/base",
            "overflow": null,
            "_model_module_version": "1.2.0",
            "_view_count": null,
            "flex_flow": null,
            "width": null,
            "min_width": null,
            "border": null,
            "align_items": null,
            "bottom": null,
            "_model_module": "@jupyter-widgets/base",
            "top": null,
            "grid_column": null,
            "overflow_y": null,
            "overflow_x": null,
            "grid_auto_flow": null,
            "grid_area": null,
            "grid_template_columns": null,
            "flex": null,
            "_model_name": "LayoutModel",
            "justify_items": null,
            "grid_row": null,
            "max_height": null,
            "align_content": null,
            "visibility": null,
            "align_self": null,
            "height": null,
            "min_height": null,
            "padding": null,
            "grid_auto_rows": null,
            "grid_gap": null,
            "max_width": null,
            "order": null,
            "_view_module_version": "1.2.0",
            "grid_template_areas": null,
            "object_position": null,
            "object_fit": null,
            "grid_auto_columns": null,
            "margin": null,
            "display": null,
            "left": null
          }
        }
      }
    }
  },
  "cells": [
    {
      "cell_type": "code",
      "metadata": {
        "colab": {
          "base_uri": "https://localhost:8080/"
        },
        "id": "DFh-ZPTyTo3R",
        "outputId": "e5ed5e8f-e7c0-481b-af8e-0f00698144f6"
      },
      "source": [
        "from google.colab import drive\n",
        "drive.mount('/content/drive')"
      ],
      "execution_count": 2,
      "outputs": [
        {
          "output_type": "stream",
          "text": [
            "Mounted at /content/drive\n"
          ],
          "name": "stdout"
        }
      ]
    },
    {
      "cell_type": "code",
      "metadata": {
        "id": "eR0PILK2wDsD"
      },
      "source": [
        "import pandas as pd\n",
        "import numpy as np"
      ],
      "execution_count": 3,
      "outputs": []
    },
    {
      "cell_type": "code",
      "metadata": {
        "id": "9nTZIPUVT9--"
      },
      "source": [
        "train_data = pd.read_json('/content/drive/MyDrive/CS728_Assign3/train_type.json')"
      ],
      "execution_count": 35,
      "outputs": []
    },
    {
      "cell_type": "code",
      "metadata": {
        "id": "xfB8lXOfULRO",
        "colab": {
          "base_uri": "https://localhost:8080/",
          "height": 204
        },
        "outputId": "e9a19c49-699b-417f-eabc-acd27fdfc173"
      },
      "source": [
        "train_data.head()"
      ],
      "execution_count": 36,
      "outputs": [
        {
          "output_type": "execute_result",
          "data": {
            "text/html": [
              "<div>\n",
              "<style scoped>\n",
              "    .dataframe tbody tr th:only-of-type {\n",
              "        vertical-align: middle;\n",
              "    }\n",
              "\n",
              "    .dataframe tbody tr th {\n",
              "        vertical-align: top;\n",
              "    }\n",
              "\n",
              "    .dataframe thead th {\n",
              "        text-align: right;\n",
              "    }\n",
              "</style>\n",
              "<table border=\"1\" class=\"dataframe\">\n",
              "  <thead>\n",
              "    <tr style=\"text-align: right;\">\n",
              "      <th></th>\n",
              "      <th>text</th>\n",
              "      <th>types</th>\n",
              "    </tr>\n",
              "  </thead>\n",
              "  <tbody>\n",
              "    <tr>\n",
              "      <th>0</th>\n",
              "      <td>what character did natalie portman play in sta...</td>\n",
              "      <td>[FictionalCharacter, Agent]</td>\n",
              "    </tr>\n",
              "    <tr>\n",
              "      <th>1</th>\n",
              "      <td>what country is the grand bahama island in</td>\n",
              "      <td>[Country, PopulatedPlace, Place]</td>\n",
              "    </tr>\n",
              "    <tr>\n",
              "      <th>2</th>\n",
              "      <td>what kind of money to take to bahamas</td>\n",
              "      <td>[Currency]</td>\n",
              "    </tr>\n",
              "    <tr>\n",
              "      <th>3</th>\n",
              "      <td>who does joakim noah play for</td>\n",
              "      <td>[BasketballTeam, SportsTeam, Organisation, Agent]</td>\n",
              "    </tr>\n",
              "    <tr>\n",
              "      <th>4</th>\n",
              "      <td>where are the nfl redskins from</td>\n",
              "      <td>[City, Settlement, PopulatedPlace, Place]</td>\n",
              "    </tr>\n",
              "  </tbody>\n",
              "</table>\n",
              "</div>"
            ],
            "text/plain": [
              "                                                text                                              types\n",
              "0  what character did natalie portman play in sta...                        [FictionalCharacter, Agent]\n",
              "1         what country is the grand bahama island in                   [Country, PopulatedPlace, Place]\n",
              "2              what kind of money to take to bahamas                                         [Currency]\n",
              "3                      who does joakim noah play for  [BasketballTeam, SportsTeam, Organisation, Agent]\n",
              "4                    where are the nfl redskins from          [City, Settlement, PopulatedPlace, Place]"
            ]
          },
          "metadata": {
            "tags": []
          },
          "execution_count": 36
        }
      ]
    },
    {
      "cell_type": "code",
      "metadata": {
        "id": "GuqFlBWwxmRB"
      },
      "source": [
        "df2 = pd.DataFrame(train_data.types.tolist())"
      ],
      "execution_count": 51,
      "outputs": []
    },
    {
      "cell_type": "code",
      "metadata": {
        "colab": {
          "base_uri": "https://localhost:8080/"
        },
        "id": "G8RvL1gx0LCl",
        "outputId": "d3bd4fc3-9bca-4fde-a980-c60e48a733c8"
      },
      "source": [
        "!pip install transformers"
      ],
      "execution_count": 7,
      "outputs": [
        {
          "output_type": "stream",
          "text": [
            "Collecting transformers\n",
            "\u001b[?25l  Downloading https://files.pythonhosted.org/packages/d8/b2/57495b5309f09fa501866e225c84532d1fd89536ea62406b2181933fb418/transformers-4.5.1-py3-none-any.whl (2.1MB)\n",
            "\r\u001b[K     |▏                               | 10kB 23.9MB/s eta 0:00:01\r\u001b[K     |▎                               | 20kB 16.6MB/s eta 0:00:01\r\u001b[K     |▌                               | 30kB 14.4MB/s eta 0:00:01\r\u001b[K     |▋                               | 40kB 12.9MB/s eta 0:00:01\r\u001b[K     |▉                               | 51kB 8.6MB/s eta 0:00:01\r\u001b[K     |█                               | 61kB 8.1MB/s eta 0:00:01\r\u001b[K     |█▏                              | 71kB 9.1MB/s eta 0:00:01\r\u001b[K     |█▎                              | 81kB 10.1MB/s eta 0:00:01\r\u001b[K     |█▍                              | 92kB 9.3MB/s eta 0:00:01\r\u001b[K     |█▋                              | 102kB 8.3MB/s eta 0:00:01\r\u001b[K     |█▊                              | 112kB 8.3MB/s eta 0:00:01\r\u001b[K     |██                              | 122kB 8.3MB/s eta 0:00:01\r\u001b[K     |██                              | 133kB 8.3MB/s eta 0:00:01\r\u001b[K     |██▎                             | 143kB 8.3MB/s eta 0:00:01\r\u001b[K     |██▍                             | 153kB 8.3MB/s eta 0:00:01\r\u001b[K     |██▌                             | 163kB 8.3MB/s eta 0:00:01\r\u001b[K     |██▊                             | 174kB 8.3MB/s eta 0:00:01\r\u001b[K     |██▉                             | 184kB 8.3MB/s eta 0:00:01\r\u001b[K     |███                             | 194kB 8.3MB/s eta 0:00:01\r\u001b[K     |███▏                            | 204kB 8.3MB/s eta 0:00:01\r\u001b[K     |███▍                            | 215kB 8.3MB/s eta 0:00:01\r\u001b[K     |███▌                            | 225kB 8.3MB/s eta 0:00:01\r\u001b[K     |███▋                            | 235kB 8.3MB/s eta 0:00:01\r\u001b[K     |███▉                            | 245kB 8.3MB/s eta 0:00:01\r\u001b[K     |████                            | 256kB 8.3MB/s eta 0:00:01\r\u001b[K     |████▏                           | 266kB 8.3MB/s eta 0:00:01\r\u001b[K     |████▎                           | 276kB 8.3MB/s eta 0:00:01\r\u001b[K     |████▌                           | 286kB 8.3MB/s eta 0:00:01\r\u001b[K     |████▋                           | 296kB 8.3MB/s eta 0:00:01\r\u001b[K     |████▊                           | 307kB 8.3MB/s eta 0:00:01\r\u001b[K     |█████                           | 317kB 8.3MB/s eta 0:00:01\r\u001b[K     |█████                           | 327kB 8.3MB/s eta 0:00:01\r\u001b[K     |█████▎                          | 337kB 8.3MB/s eta 0:00:01\r\u001b[K     |█████▍                          | 348kB 8.3MB/s eta 0:00:01\r\u001b[K     |█████▋                          | 358kB 8.3MB/s eta 0:00:01\r\u001b[K     |█████▊                          | 368kB 8.3MB/s eta 0:00:01\r\u001b[K     |█████▉                          | 378kB 8.3MB/s eta 0:00:01\r\u001b[K     |██████                          | 389kB 8.3MB/s eta 0:00:01\r\u001b[K     |██████▏                         | 399kB 8.3MB/s eta 0:00:01\r\u001b[K     |██████▍                         | 409kB 8.3MB/s eta 0:00:01\r\u001b[K     |██████▌                         | 419kB 8.3MB/s eta 0:00:01\r\u001b[K     |██████▊                         | 430kB 8.3MB/s eta 0:00:01\r\u001b[K     |██████▉                         | 440kB 8.3MB/s eta 0:00:01\r\u001b[K     |███████                         | 450kB 8.3MB/s eta 0:00:01\r\u001b[K     |███████▏                        | 460kB 8.3MB/s eta 0:00:01\r\u001b[K     |███████▎                        | 471kB 8.3MB/s eta 0:00:01\r\u001b[K     |███████▌                        | 481kB 8.3MB/s eta 0:00:01\r\u001b[K     |███████▋                        | 491kB 8.3MB/s eta 0:00:01\r\u001b[K     |███████▉                        | 501kB 8.3MB/s eta 0:00:01\r\u001b[K     |████████                        | 512kB 8.3MB/s eta 0:00:01\r\u001b[K     |████████                        | 522kB 8.3MB/s eta 0:00:01\r\u001b[K     |████████▎                       | 532kB 8.3MB/s eta 0:00:01\r\u001b[K     |████████▍                       | 542kB 8.3MB/s eta 0:00:01\r\u001b[K     |████████▋                       | 552kB 8.3MB/s eta 0:00:01\r\u001b[K     |████████▊                       | 563kB 8.3MB/s eta 0:00:01\r\u001b[K     |█████████                       | 573kB 8.3MB/s eta 0:00:01\r\u001b[K     |█████████                       | 583kB 8.3MB/s eta 0:00:01\r\u001b[K     |█████████▎                      | 593kB 8.3MB/s eta 0:00:01\r\u001b[K     |█████████▍                      | 604kB 8.3MB/s eta 0:00:01\r\u001b[K     |█████████▌                      | 614kB 8.3MB/s eta 0:00:01\r\u001b[K     |█████████▊                      | 624kB 8.3MB/s eta 0:00:01\r\u001b[K     |█████████▉                      | 634kB 8.3MB/s eta 0:00:01\r\u001b[K     |██████████                      | 645kB 8.3MB/s eta 0:00:01\r\u001b[K     |██████████▏                     | 655kB 8.3MB/s eta 0:00:01\r\u001b[K     |██████████▍                     | 665kB 8.3MB/s eta 0:00:01\r\u001b[K     |██████████▌                     | 675kB 8.3MB/s eta 0:00:01\r\u001b[K     |██████████▋                     | 686kB 8.3MB/s eta 0:00:01\r\u001b[K     |██████████▉                     | 696kB 8.3MB/s eta 0:00:01\r\u001b[K     |███████████                     | 706kB 8.3MB/s eta 0:00:01\r\u001b[K     |███████████▏                    | 716kB 8.3MB/s eta 0:00:01\r\u001b[K     |███████████▎                    | 727kB 8.3MB/s eta 0:00:01\r\u001b[K     |███████████▌                    | 737kB 8.3MB/s eta 0:00:01\r\u001b[K     |███████████▋                    | 747kB 8.3MB/s eta 0:00:01\r\u001b[K     |███████████▊                    | 757kB 8.3MB/s eta 0:00:01\r\u001b[K     |████████████                    | 768kB 8.3MB/s eta 0:00:01\r\u001b[K     |████████████                    | 778kB 8.3MB/s eta 0:00:01\r\u001b[K     |████████████▎                   | 788kB 8.3MB/s eta 0:00:01\r\u001b[K     |████████████▍                   | 798kB 8.3MB/s eta 0:00:01\r\u001b[K     |████████████▋                   | 808kB 8.3MB/s eta 0:00:01\r\u001b[K     |████████████▊                   | 819kB 8.3MB/s eta 0:00:01\r\u001b[K     |████████████▉                   | 829kB 8.3MB/s eta 0:00:01\r\u001b[K     |█████████████                   | 839kB 8.3MB/s eta 0:00:01\r\u001b[K     |█████████████▏                  | 849kB 8.3MB/s eta 0:00:01\r\u001b[K     |█████████████▍                  | 860kB 8.3MB/s eta 0:00:01\r\u001b[K     |█████████████▌                  | 870kB 8.3MB/s eta 0:00:01\r\u001b[K     |█████████████▊                  | 880kB 8.3MB/s eta 0:00:01\r\u001b[K     |█████████████▉                  | 890kB 8.3MB/s eta 0:00:01\r\u001b[K     |██████████████                  | 901kB 8.3MB/s eta 0:00:01\r\u001b[K     |██████████████▏                 | 911kB 8.3MB/s eta 0:00:01\r\u001b[K     |██████████████▎                 | 921kB 8.3MB/s eta 0:00:01\r\u001b[K     |██████████████▌                 | 931kB 8.3MB/s eta 0:00:01\r\u001b[K     |██████████████▋                 | 942kB 8.3MB/s eta 0:00:01\r\u001b[K     |██████████████▉                 | 952kB 8.3MB/s eta 0:00:01\r\u001b[K     |███████████████                 | 962kB 8.3MB/s eta 0:00:01\r\u001b[K     |███████████████                 | 972kB 8.3MB/s eta 0:00:01\r\u001b[K     |███████████████▎                | 983kB 8.3MB/s eta 0:00:01\r\u001b[K     |███████████████▍                | 993kB 8.3MB/s eta 0:00:01\r\u001b[K     |███████████████▋                | 1.0MB 8.3MB/s eta 0:00:01\r\u001b[K     |███████████████▊                | 1.0MB 8.3MB/s eta 0:00:01\r\u001b[K     |████████████████                | 1.0MB 8.3MB/s eta 0:00:01\r\u001b[K     |████████████████                | 1.0MB 8.3MB/s eta 0:00:01\r\u001b[K     |████████████████▏               | 1.0MB 8.3MB/s eta 0:00:01\r\u001b[K     |████████████████▍               | 1.1MB 8.3MB/s eta 0:00:01\r\u001b[K     |████████████████▌               | 1.1MB 8.3MB/s eta 0:00:01\r\u001b[K     |████████████████▊               | 1.1MB 8.3MB/s eta 0:00:01\r\u001b[K     |████████████████▉               | 1.1MB 8.3MB/s eta 0:00:01\r\u001b[K     |█████████████████               | 1.1MB 8.3MB/s eta 0:00:01\r\u001b[K     |█████████████████▏              | 1.1MB 8.3MB/s eta 0:00:01\r\u001b[K     |█████████████████▍              | 1.1MB 8.3MB/s eta 0:00:01\r\u001b[K     |█████████████████▌              | 1.1MB 8.3MB/s eta 0:00:01\r\u001b[K     |█████████████████▋              | 1.1MB 8.3MB/s eta 0:00:01\r\u001b[K     |█████████████████▉              | 1.1MB 8.3MB/s eta 0:00:01\r\u001b[K     |██████████████████              | 1.2MB 8.3MB/s eta 0:00:01\r\u001b[K     |██████████████████▏             | 1.2MB 8.3MB/s eta 0:00:01\r\u001b[K     |██████████████████▎             | 1.2MB 8.3MB/s eta 0:00:01\r\u001b[K     |██████████████████▌             | 1.2MB 8.3MB/s eta 0:00:01\r\u001b[K     |██████████████████▋             | 1.2MB 8.3MB/s eta 0:00:01\r\u001b[K     |██████████████████▊             | 1.2MB 8.3MB/s eta 0:00:01\r\u001b[K     |███████████████████             | 1.2MB 8.3MB/s eta 0:00:01\r\u001b[K     |███████████████████             | 1.2MB 8.3MB/s eta 0:00:01\r\u001b[K     |███████████████████▎            | 1.2MB 8.3MB/s eta 0:00:01\r\u001b[K     |███████████████████▍            | 1.2MB 8.3MB/s eta 0:00:01\r\u001b[K     |███████████████████▋            | 1.3MB 8.3MB/s eta 0:00:01\r\u001b[K     |███████████████████▊            | 1.3MB 8.3MB/s eta 0:00:01\r\u001b[K     |███████████████████▉            | 1.3MB 8.3MB/s eta 0:00:01\r\u001b[K     |████████████████████            | 1.3MB 8.3MB/s eta 0:00:01\r\u001b[K     |████████████████████▏           | 1.3MB 8.3MB/s eta 0:00:01\r\u001b[K     |████████████████████▍           | 1.3MB 8.3MB/s eta 0:00:01\r\u001b[K     |████████████████████▌           | 1.3MB 8.3MB/s eta 0:00:01\r\u001b[K     |████████████████████▊           | 1.3MB 8.3MB/s eta 0:00:01\r\u001b[K     |████████████████████▉           | 1.3MB 8.3MB/s eta 0:00:01\r\u001b[K     |█████████████████████           | 1.4MB 8.3MB/s eta 0:00:01\r\u001b[K     |█████████████████████▏          | 1.4MB 8.3MB/s eta 0:00:01\r\u001b[K     |█████████████████████▎          | 1.4MB 8.3MB/s eta 0:00:01\r\u001b[K     |█████████████████████▌          | 1.4MB 8.3MB/s eta 0:00:01\r\u001b[K     |█████████████████████▋          | 1.4MB 8.3MB/s eta 0:00:01\r\u001b[K     |█████████████████████▉          | 1.4MB 8.3MB/s eta 0:00:01\r\u001b[K     |██████████████████████          | 1.4MB 8.3MB/s eta 0:00:01\r\u001b[K     |██████████████████████          | 1.4MB 8.3MB/s eta 0:00:01\r\u001b[K     |██████████████████████▎         | 1.4MB 8.3MB/s eta 0:00:01\r\u001b[K     |██████████████████████▍         | 1.4MB 8.3MB/s eta 0:00:01\r\u001b[K     |██████████████████████▋         | 1.5MB 8.3MB/s eta 0:00:01\r\u001b[K     |██████████████████████▊         | 1.5MB 8.3MB/s eta 0:00:01\r\u001b[K     |███████████████████████         | 1.5MB 8.3MB/s eta 0:00:01\r\u001b[K     |███████████████████████         | 1.5MB 8.3MB/s eta 0:00:01\r\u001b[K     |███████████████████████▏        | 1.5MB 8.3MB/s eta 0:00:01\r\u001b[K     |███████████████████████▍        | 1.5MB 8.3MB/s eta 0:00:01\r\u001b[K     |███████████████████████▌        | 1.5MB 8.3MB/s eta 0:00:01\r\u001b[K     |███████████████████████▊        | 1.5MB 8.3MB/s eta 0:00:01\r\u001b[K     |███████████████████████▉        | 1.5MB 8.3MB/s eta 0:00:01\r\u001b[K     |████████████████████████        | 1.5MB 8.3MB/s eta 0:00:01\r\u001b[K     |████████████████████████▏       | 1.6MB 8.3MB/s eta 0:00:01\r\u001b[K     |████████████████████████▎       | 1.6MB 8.3MB/s eta 0:00:01\r\u001b[K     |████████████████████████▌       | 1.6MB 8.3MB/s eta 0:00:01\r\u001b[K     |████████████████████████▋       | 1.6MB 8.3MB/s eta 0:00:01\r\u001b[K     |████████████████████████▉       | 1.6MB 8.3MB/s eta 0:00:01\r\u001b[K     |█████████████████████████       | 1.6MB 8.3MB/s eta 0:00:01\r\u001b[K     |█████████████████████████▏      | 1.6MB 8.3MB/s eta 0:00:01\r\u001b[K     |█████████████████████████▎      | 1.6MB 8.3MB/s eta 0:00:01\r\u001b[K     |█████████████████████████▍      | 1.6MB 8.3MB/s eta 0:00:01\r\u001b[K     |█████████████████████████▋      | 1.6MB 8.3MB/s eta 0:00:01\r\u001b[K     |█████████████████████████▊      | 1.7MB 8.3MB/s eta 0:00:01\r\u001b[K     |██████████████████████████      | 1.7MB 8.3MB/s eta 0:00:01\r\u001b[K     |██████████████████████████      | 1.7MB 8.3MB/s eta 0:00:01\r\u001b[K     |██████████████████████████▎     | 1.7MB 8.3MB/s eta 0:00:01\r\u001b[K     |██████████████████████████▍     | 1.7MB 8.3MB/s eta 0:00:01\r\u001b[K     |██████████████████████████▋     | 1.7MB 8.3MB/s eta 0:00:01\r\u001b[K     |██████████████████████████▊     | 1.7MB 8.3MB/s eta 0:00:01\r\u001b[K     |██████████████████████████▉     | 1.7MB 8.3MB/s eta 0:00:01\r\u001b[K     |███████████████████████████     | 1.7MB 8.3MB/s eta 0:00:01\r\u001b[K     |███████████████████████████▏    | 1.8MB 8.3MB/s eta 0:00:01\r\u001b[K     |███████████████████████████▍    | 1.8MB 8.3MB/s eta 0:00:01\r\u001b[K     |███████████████████████████▌    | 1.8MB 8.3MB/s eta 0:00:01\r\u001b[K     |███████████████████████████▊    | 1.8MB 8.3MB/s eta 0:00:01\r\u001b[K     |███████████████████████████▉    | 1.8MB 8.3MB/s eta 0:00:01\r\u001b[K     |████████████████████████████    | 1.8MB 8.3MB/s eta 0:00:01\r\u001b[K     |████████████████████████████▏   | 1.8MB 8.3MB/s eta 0:00:01\r\u001b[K     |████████████████████████████▎   | 1.8MB 8.3MB/s eta 0:00:01\r\u001b[K     |████████████████████████████▌   | 1.8MB 8.3MB/s eta 0:00:01\r\u001b[K     |████████████████████████████▋   | 1.8MB 8.3MB/s eta 0:00:01\r\u001b[K     |████████████████████████████▉   | 1.9MB 8.3MB/s eta 0:00:01\r\u001b[K     |█████████████████████████████   | 1.9MB 8.3MB/s eta 0:00:01\r\u001b[K     |█████████████████████████████   | 1.9MB 8.3MB/s eta 0:00:01\r\u001b[K     |█████████████████████████████▎  | 1.9MB 8.3MB/s eta 0:00:01\r\u001b[K     |█████████████████████████████▍  | 1.9MB 8.3MB/s eta 0:00:01\r\u001b[K     |█████████████████████████████▋  | 1.9MB 8.3MB/s eta 0:00:01\r\u001b[K     |█████████████████████████████▊  | 1.9MB 8.3MB/s eta 0:00:01\r\u001b[K     |██████████████████████████████  | 1.9MB 8.3MB/s eta 0:00:01\r\u001b[K     |██████████████████████████████  | 1.9MB 8.3MB/s eta 0:00:01\r\u001b[K     |██████████████████████████████▏ | 1.9MB 8.3MB/s eta 0:00:01\r\u001b[K     |██████████████████████████████▍ | 2.0MB 8.3MB/s eta 0:00:01\r\u001b[K     |██████████████████████████████▌ | 2.0MB 8.3MB/s eta 0:00:01\r\u001b[K     |██████████████████████████████▊ | 2.0MB 8.3MB/s eta 0:00:01\r\u001b[K     |██████████████████████████████▉ | 2.0MB 8.3MB/s eta 0:00:01\r\u001b[K     |███████████████████████████████ | 2.0MB 8.3MB/s eta 0:00:01\r\u001b[K     |███████████████████████████████▏| 2.0MB 8.3MB/s eta 0:00:01\r\u001b[K     |███████████████████████████████▎| 2.0MB 8.3MB/s eta 0:00:01\r\u001b[K     |███████████████████████████████▌| 2.0MB 8.3MB/s eta 0:00:01\r\u001b[K     |███████████████████████████████▋| 2.0MB 8.3MB/s eta 0:00:01\r\u001b[K     |███████████████████████████████▉| 2.0MB 8.3MB/s eta 0:00:01\r\u001b[K     |████████████████████████████████| 2.1MB 8.3MB/s eta 0:00:01\r\u001b[K     |████████████████████████████████| 2.1MB 8.3MB/s \n",
            "\u001b[?25hRequirement already satisfied: regex!=2019.12.17 in /usr/local/lib/python3.7/dist-packages (from transformers) (2019.12.20)\n",
            "Requirement already satisfied: packaging in /usr/local/lib/python3.7/dist-packages (from transformers) (20.9)\n",
            "Requirement already satisfied: requests in /usr/local/lib/python3.7/dist-packages (from transformers) (2.23.0)\n",
            "Requirement already satisfied: numpy>=1.17 in /usr/local/lib/python3.7/dist-packages (from transformers) (1.19.5)\n",
            "Requirement already satisfied: tqdm>=4.27 in /usr/local/lib/python3.7/dist-packages (from transformers) (4.41.1)\n",
            "Requirement already satisfied: importlib-metadata; python_version < \"3.8\" in /usr/local/lib/python3.7/dist-packages (from transformers) (3.10.1)\n",
            "Collecting tokenizers<0.11,>=0.10.1\n",
            "\u001b[?25l  Downloading https://files.pythonhosted.org/packages/ae/04/5b870f26a858552025a62f1649c20d29d2672c02ff3c3fb4c688ca46467a/tokenizers-0.10.2-cp37-cp37m-manylinux2010_x86_64.whl (3.3MB)\n",
            "\u001b[K     |████████████████████████████████| 3.3MB 52.0MB/s \n",
            "\u001b[?25hCollecting sacremoses\n",
            "\u001b[?25l  Downloading https://files.pythonhosted.org/packages/75/ee/67241dc87f266093c533a2d4d3d69438e57d7a90abb216fa076e7d475d4a/sacremoses-0.0.45-py3-none-any.whl (895kB)\n",
            "\u001b[K     |████████████████████████████████| 901kB 51.0MB/s \n",
            "\u001b[?25hRequirement already satisfied: filelock in /usr/local/lib/python3.7/dist-packages (from transformers) (3.0.12)\n",
            "Requirement already satisfied: pyparsing>=2.0.2 in /usr/local/lib/python3.7/dist-packages (from packaging->transformers) (2.4.7)\n",
            "Requirement already satisfied: idna<3,>=2.5 in /usr/local/lib/python3.7/dist-packages (from requests->transformers) (2.10)\n",
            "Requirement already satisfied: chardet<4,>=3.0.2 in /usr/local/lib/python3.7/dist-packages (from requests->transformers) (3.0.4)\n",
            "Requirement already satisfied: urllib3!=1.25.0,!=1.25.1,<1.26,>=1.21.1 in /usr/local/lib/python3.7/dist-packages (from requests->transformers) (1.24.3)\n",
            "Requirement already satisfied: certifi>=2017.4.17 in /usr/local/lib/python3.7/dist-packages (from requests->transformers) (2020.12.5)\n",
            "Requirement already satisfied: typing-extensions>=3.6.4; python_version < \"3.8\" in /usr/local/lib/python3.7/dist-packages (from importlib-metadata; python_version < \"3.8\"->transformers) (3.7.4.3)\n",
            "Requirement already satisfied: zipp>=0.5 in /usr/local/lib/python3.7/dist-packages (from importlib-metadata; python_version < \"3.8\"->transformers) (3.4.1)\n",
            "Requirement already satisfied: joblib in /usr/local/lib/python3.7/dist-packages (from sacremoses->transformers) (1.0.1)\n",
            "Requirement already satisfied: six in /usr/local/lib/python3.7/dist-packages (from sacremoses->transformers) (1.15.0)\n",
            "Requirement already satisfied: click in /usr/local/lib/python3.7/dist-packages (from sacremoses->transformers) (7.1.2)\n",
            "Installing collected packages: tokenizers, sacremoses, transformers\n",
            "Successfully installed sacremoses-0.0.45 tokenizers-0.10.2 transformers-4.5.1\n"
          ],
          "name": "stdout"
        }
      ]
    },
    {
      "cell_type": "code",
      "metadata": {
        "id": "-a5ZgcTr0tTS"
      },
      "source": [
        ""
      ],
      "execution_count": 7,
      "outputs": []
    },
    {
      "cell_type": "code",
      "metadata": {
        "colab": {
          "base_uri": "https://localhost:8080/",
          "height": 262,
          "referenced_widgets": [
            "99328106c3574751801ef84f42ba1820",
            "9985ba768c7b4772a0f4740a579f1872",
            "6f365b1e63bc42f492a48774ed9ca24c",
            "cfc2c47d3f724677bc820a6be70f6d0e",
            "b26f4d1eb2e84453ba08d5265bfbe3b1",
            "41ff0e4ac897464aa21c98f0e1b02dc6",
            "054ea102b23544bd943a86ee2adc6b67",
            "9d164887eba9439e95059eeca1ecc796",
            "b23374e7fb1a4816859d3cd8fec5bdab",
            "51864d5ade34447b8bd79d60b88c44f1",
            "fb06cdf9214042e5b23dba03649e0de4",
            "ede4f72967254661a19e5bd3c0025250",
            "a7a9eaee83044c0f8a22514100f01086",
            "d767b3023055486eafb4e2bf31c77b4f",
            "b74d671829d546a580ad3463b2c74b97",
            "6223e2fbc79d4c5d8c9943762ba56459",
            "90d7af20950f4e01bfb62683c6c260a5",
            "91be61d403b344de9374d0bc291143d6",
            "82a4db75da3b48d3a61582f6f6b3599a",
            "58405420afcd4d4098c20fd6223e454a",
            "6033bc3713c04bd0b4e8134c3dbb60b0",
            "3423381ae2f94e54b7f6708e2b5a4b90",
            "bee813b0ae9b44c99e4dd64b5b157e3d",
            "7c0778b3ef6f42dba09bff286449224f",
            "69bbd848423842119ec8991f376e96b7",
            "c80334a319bb4b0bbb8c75bfd4b2cf2b",
            "31f8f166051e408ba291eac5fbdcc2ff",
            "c3cf06565ee040ab8974e8c00cbf71cb",
            "4b5d1d2b0bbd4050884128b8e0881cd4",
            "92c39fd4f3f4455b966b910a9c04ee68",
            "ad3d83f8afec4bf2a70d609ebb182527",
            "130c502ed67344dcbf00c6051e339799",
            "c7ed4eb9f02448869792ec07b21cb314",
            "71a3bb03337a443792f9031d5e649cc1",
            "f5bbbd6fd04b4af8a217fd84ee97cb52",
            "5a9501e66558460cbb0af1ea80979071",
            "fade4baa2f3b44e5ae37e24ec14cea9e",
            "f7ae158ffd224db7a10cf9ea49e756bf",
            "f3b88db921c74b6c9b3d48987b6b8289",
            "8b16ca81f86f45b880f0c16f53044e91"
          ]
        },
        "id": "eBq7SUQw8NLr",
        "outputId": "fd867dc9-d9e9-43f5-8688-574eacd15119"
      },
      "source": [
        "from transformers import AutoTokenizer, AutoModel\n",
        "import torch\n",
        "\n",
        "\n",
        "#Sentences we want sentence embeddings for\n",
        "sentences = train_data['text'].to_list()\n",
        "\n",
        "#Load AutoModel from huggingface model repository\n",
        "tokenizer = AutoTokenizer.from_pretrained(\"sentence-transformers/bert-base-nli-cls-token\")\n",
        "model = AutoModel.from_pretrained(\"sentence-transformers/bert-base-nli-cls-token\")\n",
        "\n",
        "#Tokenize sentences\n",
        "encoded_input = tokenizer(sentences, padding=True, truncation=True, max_length=128, return_tensors='pt')\n",
        "\n",
        "#Compute token embeddings\n",
        "with torch.no_grad():\n",
        "    model_output = model(**encoded_input)\n",
        "    sentence_embeddings = model_output[0][:,0] #Take the first token ([CLS]) from each sentence \n",
        "\n",
        "#print(\"Sentence embeddings:\")\n",
        "#print(sentence_embeddings)"
      ],
      "execution_count": 8,
      "outputs": [
        {
          "output_type": "display_data",
          "data": {
            "application/vnd.jupyter.widget-view+json": {
              "model_id": "99328106c3574751801ef84f42ba1820",
              "version_minor": 0,
              "version_major": 2
            },
            "text/plain": [
              "HBox(children=(FloatProgress(value=0.0, description='Downloading', max=461.0, style=ProgressStyle(description_…"
            ]
          },
          "metadata": {
            "tags": []
          }
        },
        {
          "output_type": "stream",
          "text": [
            "\n"
          ],
          "name": "stdout"
        },
        {
          "output_type": "display_data",
          "data": {
            "application/vnd.jupyter.widget-view+json": {
              "model_id": "b23374e7fb1a4816859d3cd8fec5bdab",
              "version_minor": 0,
              "version_major": 2
            },
            "text/plain": [
              "HBox(children=(FloatProgress(value=0.0, description='Downloading', max=231508.0, style=ProgressStyle(descripti…"
            ]
          },
          "metadata": {
            "tags": []
          }
        },
        {
          "output_type": "stream",
          "text": [
            "\n"
          ],
          "name": "stdout"
        },
        {
          "output_type": "display_data",
          "data": {
            "application/vnd.jupyter.widget-view+json": {
              "model_id": "90d7af20950f4e01bfb62683c6c260a5",
              "version_minor": 0,
              "version_major": 2
            },
            "text/plain": [
              "HBox(children=(FloatProgress(value=0.0, description='Downloading', max=2.0, style=ProgressStyle(description_wi…"
            ]
          },
          "metadata": {
            "tags": []
          }
        },
        {
          "output_type": "stream",
          "text": [
            "\n"
          ],
          "name": "stdout"
        },
        {
          "output_type": "display_data",
          "data": {
            "application/vnd.jupyter.widget-view+json": {
              "model_id": "69bbd848423842119ec8991f376e96b7",
              "version_minor": 0,
              "version_major": 2
            },
            "text/plain": [
              "HBox(children=(FloatProgress(value=0.0, description='Downloading', max=112.0, style=ProgressStyle(description_…"
            ]
          },
          "metadata": {
            "tags": []
          }
        },
        {
          "output_type": "stream",
          "text": [
            "\n"
          ],
          "name": "stdout"
        },
        {
          "output_type": "display_data",
          "data": {
            "application/vnd.jupyter.widget-view+json": {
              "model_id": "c7ed4eb9f02448869792ec07b21cb314",
              "version_minor": 0,
              "version_major": 2
            },
            "text/plain": [
              "HBox(children=(FloatProgress(value=0.0, description='Downloading', max=438006864.0, style=ProgressStyle(descri…"
            ]
          },
          "metadata": {
            "tags": []
          }
        },
        {
          "output_type": "stream",
          "text": [
            "\n"
          ],
          "name": "stdout"
        }
      ]
    },
    {
      "cell_type": "code",
      "metadata": {
        "id": "rsYxKWpZ-Nec"
      },
      "source": [
        "from sklearn.model_selection import train_test_split"
      ],
      "execution_count": 1,
      "outputs": []
    },
    {
      "cell_type": "code",
      "metadata": {
        "id": "gfN44eVkCrXH"
      },
      "source": [
        "df2[0] = df2[0].replace({None:'Other'})\n",
        "df2[1] = df2[1].replace({None:'Other'})\n",
        "df2[2] = df2[2].replace({None:'Other'})\n",
        "df2[3] = df2[3].replace({None:'Other'})\n",
        "df2[4] = df2[4].replace({None:'Other'})"
      ],
      "execution_count": 52,
      "outputs": []
    },
    {
      "cell_type": "code",
      "metadata": {
        "id": "VjmwnHaG-sQ5"
      },
      "source": [
        "X = sentence_embeddings\n",
        "y0 = df2[0]\n",
        "y1 = df2[1]\n",
        "y2 = df2[2]\n",
        "y3 = df2[3]\n",
        "y4 = df2[4]"
      ],
      "execution_count": 53,
      "outputs": []
    },
    {
      "cell_type": "code",
      "metadata": {
        "id": "kobs_nCzAkAz"
      },
      "source": [
        "X_train, X_test, y_train0, y_test0 = train_test_split(X,y0, test_size=0.2, random_state=42)\n",
        "X_train, X_test, y_train1, y_test1 = train_test_split(X,y1, test_size=0.2, random_state=42)\n",
        "X_train, X_test, y_train2, y_test2 = train_test_split(X,y2, test_size=0.2, random_state=42)\n",
        "X_train, X_test, y_train3, y_test3 = train_test_split(X,y3, test_size=0.2, random_state=42)\n",
        "X_train, X_test, y_train4, y_test4 = train_test_split(X,y4, test_size=0.2, random_state=42)"
      ],
      "execution_count": 55,
      "outputs": []
    },
    {
      "cell_type": "code",
      "metadata": {
        "id": "w4p55frAAnUE"
      },
      "source": [
        "from sklearn.svm import SVC"
      ],
      "execution_count": 56,
      "outputs": []
    },
    {
      "cell_type": "code",
      "metadata": {
        "id": "t8saiJqtBR1c"
      },
      "source": [
        "model0= SVC()\n",
        "model1= SVC()\n",
        "model2= SVC()\n",
        "model3= SVC()\n",
        "model4= SVC()"
      ],
      "execution_count": 57,
      "outputs": []
    },
    {
      "cell_type": "code",
      "metadata": {
        "colab": {
          "base_uri": "https://localhost:8080/"
        },
        "id": "neEALsqHBzx-",
        "outputId": "a2fa60d6-527a-4989-b1a6-6abe7cc13f6a"
      },
      "source": [
        "model0.fit(X_train,y_train0)\n",
        "model1.fit(X_train,y_train1)\n",
        "model2.fit(X_train,y_train2)\n",
        "model3.fit(X_train,y_train3)\n",
        "model4.fit(X_train,y_train4)\n"
      ],
      "execution_count": 58,
      "outputs": [
        {
          "output_type": "execute_result",
          "data": {
            "text/plain": [
              "SVC(C=1.0, break_ties=False, cache_size=200, class_weight=None, coef0=0.0,\n",
              "    decision_function_shape='ovr', degree=3, gamma='scale', kernel='rbf',\n",
              "    max_iter=-1, probability=False, random_state=None, shrinking=True,\n",
              "    tol=0.001, verbose=False)"
            ]
          },
          "metadata": {
            "tags": []
          },
          "execution_count": 58
        }
      ]
    },
    {
      "cell_type": "code",
      "metadata": {
        "id": "d_1GKEidCEvV"
      },
      "source": [
        "y_test_pred0 = model0.predict(X_test)\n",
        "y_test_pred1 = model1.predict(X_test)\n",
        "y_test_pred2 = model2.predict(X_test)\n",
        "y_test_pred3 = model3.predict(X_test)\n",
        "y_test_pred4 = model4.predict(X_test)\n",
        "#print('confusion matrix-test\\n',confusion_matrix(ytest,y_test_pred))\n"
      ],
      "execution_count": 62,
      "outputs": []
    },
    {
      "cell_type": "code",
      "metadata": {
        "id": "EU0CNyJ3In-8"
      },
      "source": [
        "from sklearn.metrics import classification_report"
      ],
      "execution_count": 63,
      "outputs": []
    },
    {
      "cell_type": "code",
      "metadata": {
        "colab": {
          "base_uri": "https://localhost:8080/"
        },
        "id": "YJD52R0OCUuF",
        "outputId": "23637a89-6570-46ae-bd4e-41523f60c410"
      },
      "source": [
        "\n",
        "print('Classification Report of Test\\n',  classification_report(y_test0, y_test_pred0))"
      ],
      "execution_count": 64,
      "outputs": [
        {
          "output_type": "stream",
          "text": [
            "Classification Report of Test\n",
            "                         precision    recall  f1-score   support\n",
            "\n",
            "  AdministrativeRegion       0.41      0.64      0.50        22\n",
            "               Airport       0.50      1.00      0.67         3\n",
            "                 Album       0.00      0.00      0.00         2\n",
            "AmericanFootballPlayer       0.67      0.80      0.73         5\n",
            "  AmericanFootballTeam       0.40      0.50      0.44         4\n",
            "                Artist       1.00      0.33      0.50         3\n",
            "               Athlete       0.00      0.00      0.00         1\n",
            "          BaseballTeam       0.00      0.00      0.00         1\n",
            "      BasketballPlayer       0.00      0.00      0.00         2\n",
            "        BasketballTeam       1.00      0.11      0.20         9\n",
            "           BodyOfWater       0.00      0.00      0.00         1\n",
            "                  Book       0.00      0.00      0.00         2\n",
            "                Bridge       0.00      0.00      0.00         1\n",
            "              Building       0.00      0.00      0.00         4\n",
            "                  City       0.46      0.76      0.57        38\n",
            "          CityDistrict       0.00      0.00      0.00         3\n",
            "              Comedian       0.00      0.00      0.00         1\n",
            "               Company       0.00      0.00      0.00         2\n",
            "             Continent       1.00      0.33      0.50         6\n",
            "               Country       0.62      0.69      0.65        42\n",
            "              Currency       0.96      1.00      0.98        25\n",
            "                   Dam       0.00      0.00      0.00         1\n",
            "               Disease       0.78      0.93      0.85        15\n",
            "                  Drug       0.00      0.00      0.00         2\n",
            "    FictionalCharacter       0.00      0.00      0.00         4\n",
            "                  Film       0.00      0.00      0.00         0\n",
            "         FootballMatch       0.00      0.00      0.00         1\n",
            "         HistoricPlace       0.00      0.00      0.00         1\n",
            "            HockeyTeam       0.00      0.00      0.00         2\n",
            "              Hospital       0.00      0.00      0.00         1\n",
            "                 Hotel       0.00      0.00      0.00         1\n",
            "                  Lake       0.00      0.00      0.00         1\n",
            "              Language       0.90      0.96      0.93        28\n",
            "         MartialArtist       0.00      0.00      0.00         1\n",
            "          MilitaryUnit       0.00      0.00      0.00         1\n",
            "                 Model       0.00      0.00      0.00         1\n",
            "              Mountain       0.00      0.00      0.00         1\n",
            "                Museum       0.00      0.00      0.00         2\n",
            "            MusicGenre       0.75      1.00      0.86         3\n",
            "         MusicalArtist       0.00      0.00      0.00         1\n",
            "                Person       0.56      0.92      0.69        37\n",
            "        PoliticalParty       1.00      1.00      1.00         3\n",
            "            Politician       0.79      0.75      0.77        20\n",
            "             President       0.00      0.00      0.00         1\n",
            "         ProtectedArea       0.00      0.00      0.00         1\n",
            "           RecordLabel       0.00      0.00      0.00         1\n",
            "     ReligiousBuilding       0.00      0.00      0.00         1\n",
            "                  Road       0.00      0.00      0.00         1\n",
            "               Royalty       1.00      0.33      0.50         3\n",
            "                School       0.83      0.91      0.87        11\n",
            "             Scientist       0.00      0.00      0.00         1\n",
            "                   Sea       0.00      0.00      0.00         2\n",
            "            Settlement       1.00      0.09      0.17        11\n",
            "         SoapCharacter       0.00      0.00      0.00         1\n",
            "            SoccerClub       0.40      1.00      0.57         4\n",
            "        TelevisionShow       0.00      0.00      0.00         2\n",
            "     TelevisionStation       0.00      0.00      0.00         1\n",
            "                  Town       0.00      0.00      0.00         4\n",
            "            University       1.00      1.00      1.00         1\n",
            "                 Venue       0.00      0.00      0.00         1\n",
            "               Village       0.00      0.00      0.00         1\n",
            "                Writer       0.00      0.00      0.00         1\n",
            "\n",
            "              accuracy                           0.63       353\n",
            "             macro avg       0.26      0.24      0.23       353\n",
            "          weighted avg       0.58      0.63      0.57       353\n",
            "\n"
          ],
          "name": "stdout"
        },
        {
          "output_type": "stream",
          "text": [
            "/usr/local/lib/python3.7/dist-packages/sklearn/metrics/_classification.py:1272: UndefinedMetricWarning: Precision and F-score are ill-defined and being set to 0.0 in labels with no predicted samples. Use `zero_division` parameter to control this behavior.\n",
            "  _warn_prf(average, modifier, msg_start, len(result))\n",
            "/usr/local/lib/python3.7/dist-packages/sklearn/metrics/_classification.py:1272: UndefinedMetricWarning: Recall and F-score are ill-defined and being set to 0.0 in labels with no true samples. Use `zero_division` parameter to control this behavior.\n",
            "  _warn_prf(average, modifier, msg_start, len(result))\n"
          ],
          "name": "stderr"
        }
      ]
    },
    {
      "cell_type": "code",
      "metadata": {
        "colab": {
          "base_uri": "https://localhost:8080/"
        },
        "id": "gm2H0zq0EMXe",
        "outputId": "1e8d77b5-e40d-475f-875b-df9d0170c149"
      },
      "source": [
        "\n",
        "print('Classification Report of Test\\n',  classification_report(y_test1, y_test_pred1))"
      ],
      "execution_count": 65,
      "outputs": [
        {
          "output_type": "stream",
          "text": [
            "Classification Report of Test\n",
            "                         precision    recall  f1-score   support\n",
            "\n",
            "                 Agent       0.67      0.88      0.76        41\n",
            "ArchitecturalStructure       0.00      0.00      0.00         4\n",
            "                Artist       0.00      0.00      0.00         2\n",
            "               Athlete       0.00      0.00      0.00         3\n",
            "           BodyOfWater       0.00      0.00      0.00         3\n",
            "           Broadcaster       0.00      0.00      0.00         1\n",
            "              Building       0.00      0.00      0.00         6\n",
            "     ChemicalSubstance       0.00      0.00      0.00         2\n",
            "               Company       0.00      0.00      0.00         1\n",
            "EducationalInstitution       0.85      0.92      0.88        12\n",
            "    FictionalCharacter       0.00      0.00      0.00         1\n",
            "                 Genre       0.75      1.00      0.86         3\n",
            "GridironFootballPlayer       0.67      0.80      0.73         5\n",
            "        Infrastructure       0.50      0.75      0.60         4\n",
            "           MusicalWork       0.00      0.00      0.00         2\n",
            "          NaturalPlace       0.00      0.00      0.00         2\n",
            "          Organisation       1.00      0.33      0.50         6\n",
            "                 Other       0.85      0.97      0.90        68\n",
            "                Person       0.76      0.73      0.75        30\n",
            "                 Place       0.00      0.00      0.00         2\n",
            "            Politician       0.00      0.00      0.00         1\n",
            "        PopulatedPlace       0.67      0.75      0.70        59\n",
            "                Region       0.61      0.64      0.62        22\n",
            " RouteOfTransportation       0.00      0.00      0.00         2\n",
            "            Settlement       0.63      0.70      0.66        46\n",
            "            SportsClub       1.00      0.75      0.86         4\n",
            "           SportsEvent       0.00      0.00      0.00         1\n",
            "            SportsTeam       0.76      0.81      0.79        16\n",
            "                  Work       0.00      0.00      0.00         2\n",
            "           WrittenWork       0.00      0.00      0.00         2\n",
            "\n",
            "              accuracy                           0.72       353\n",
            "             macro avg       0.32      0.33      0.32       353\n",
            "          weighted avg       0.65      0.72      0.68       353\n",
            "\n"
          ],
          "name": "stdout"
        },
        {
          "output_type": "stream",
          "text": [
            "/usr/local/lib/python3.7/dist-packages/sklearn/metrics/_classification.py:1272: UndefinedMetricWarning: Precision and F-score are ill-defined and being set to 0.0 in labels with no predicted samples. Use `zero_division` parameter to control this behavior.\n",
            "  _warn_prf(average, modifier, msg_start, len(result))\n"
          ],
          "name": "stderr"
        }
      ]
    },
    {
      "cell_type": "code",
      "metadata": {
        "colab": {
          "base_uri": "https://localhost:8080/"
        },
        "id": "wAYJ0TJCHWJQ",
        "outputId": "75eb28b8-20fc-4f38-ef07-d518d580a075"
      },
      "source": [
        "\n",
        "print('Classification Report of Test\\n',  classification_report(y_test2, y_test_pred2))"
      ],
      "execution_count": 66,
      "outputs": [
        {
          "output_type": "stream",
          "text": [
            "Classification Report of Test\n",
            "                         precision    recall  f1-score   support\n",
            "\n",
            "                 Agent       0.81      0.57      0.67        37\n",
            "ArchitecturalStructure       0.71      0.50      0.59        10\n",
            "               Athlete       0.75      0.60      0.67         5\n",
            "        Infrastructure       0.00      0.00      0.00         2\n",
            "          NaturalPlace       0.00      0.00      0.00         3\n",
            "          Organisation       0.85      0.82      0.84        34\n",
            "                 Other       0.74      0.95      0.83       115\n",
            "                Person       0.00      0.00      0.00         6\n",
            "                 Place       0.73      0.57      0.64        65\n",
            "        PopulatedPlace       0.69      0.82      0.75        68\n",
            "         SocietalEvent       0.00      0.00      0.00         1\n",
            "        TopicalConcept       0.75      1.00      0.86         3\n",
            "                  Work       0.00      0.00      0.00         4\n",
            "\n",
            "              accuracy                           0.74       353\n",
            "             macro avg       0.46      0.45      0.45       353\n",
            "          weighted avg       0.71      0.74      0.72       353\n",
            "\n"
          ],
          "name": "stdout"
        },
        {
          "output_type": "stream",
          "text": [
            "/usr/local/lib/python3.7/dist-packages/sklearn/metrics/_classification.py:1272: UndefinedMetricWarning: Precision and F-score are ill-defined and being set to 0.0 in labels with no predicted samples. Use `zero_division` parameter to control this behavior.\n",
            "  _warn_prf(average, modifier, msg_start, len(result))\n"
          ],
          "name": "stderr"
        }
      ]
    },
    {
      "cell_type": "code",
      "metadata": {
        "colab": {
          "base_uri": "https://localhost:8080/"
        },
        "id": "9Mow7n6BJSx8",
        "outputId": "3aa23a67-2583-4faf-fc1e-80d54532ae2d"
      },
      "source": [
        "\n",
        "print('Classification Report of Test\\n',  classification_report(y_test3, y_test_pred3))"
      ],
      "execution_count": 67,
      "outputs": [
        {
          "output_type": "stream",
          "text": [
            "Classification Report of Test\n",
            "                         precision    recall  f1-score   support\n",
            "\n",
            "                 Agent       0.85      0.72      0.78        40\n",
            "ArchitecturalStructure       0.00      0.00      0.00         2\n",
            "                 Event       0.00      0.00      0.00         1\n",
            "                 Other       0.86      0.92      0.89       224\n",
            "                Person       0.75      0.60      0.67         5\n",
            "                 Place       0.79      0.74      0.76        81\n",
            "\n",
            "              accuracy                           0.84       353\n",
            "             macro avg       0.54      0.50      0.52       353\n",
            "          weighted avg       0.84      0.84      0.84       353\n",
            "\n"
          ],
          "name": "stdout"
        },
        {
          "output_type": "stream",
          "text": [
            "/usr/local/lib/python3.7/dist-packages/sklearn/metrics/_classification.py:1272: UndefinedMetricWarning: Precision and F-score are ill-defined and being set to 0.0 in labels with no predicted samples. Use `zero_division` parameter to control this behavior.\n",
            "  _warn_prf(average, modifier, msg_start, len(result))\n"
          ],
          "name": "stderr"
        }
      ]
    },
    {
      "cell_type": "code",
      "metadata": {
        "colab": {
          "base_uri": "https://localhost:8080/"
        },
        "id": "6D9KZhmUJVdf",
        "outputId": "145f9cb6-300e-47c7-92bf-a7877444aaa6"
      },
      "source": [
        "\n",
        "print('Classification Report of Test\\n',  classification_report(y_test4, y_test_pred4))"
      ],
      "execution_count": 68,
      "outputs": [
        {
          "output_type": "stream",
          "text": [
            "Classification Report of Test\n",
            "               precision    recall  f1-score   support\n",
            "\n",
            "       Agent       1.00      0.20      0.33         5\n",
            "       Other       0.98      1.00      0.99       346\n",
            "       Place       0.00      0.00      0.00         2\n",
            "\n",
            "    accuracy                           0.98       353\n",
            "   macro avg       0.66      0.40      0.44       353\n",
            "weighted avg       0.98      0.98      0.98       353\n",
            "\n"
          ],
          "name": "stdout"
        },
        {
          "output_type": "stream",
          "text": [
            "/usr/local/lib/python3.7/dist-packages/sklearn/metrics/_classification.py:1272: UndefinedMetricWarning: Precision and F-score are ill-defined and being set to 0.0 in labels with no predicted samples. Use `zero_division` parameter to control this behavior.\n",
            "  _warn_prf(average, modifier, msg_start, len(result))\n"
          ],
          "name": "stderr"
        }
      ]
    },
    {
      "cell_type": "code",
      "metadata": {
        "colab": {
          "base_uri": "https://localhost:8080/"
        },
        "id": "RixaabtZJXvs",
        "outputId": "b7a680f7-ea17-4757-dc03-8141099385ba"
      },
      "source": [
        "df2[0].unique()"
      ],
      "execution_count": 69,
      "outputs": [
        {
          "output_type": "execute_result",
          "data": {
            "text/plain": [
              "array(['FictionalCharacter', 'Country', 'Currency', 'BasketballTeam',\n",
              "       'City', 'Band', 'Airport', 'Politician', 'ProtectedArea', 'School',\n",
              "       'Film', 'Royalty', 'Person', 'WorldHeritageSite', 'Sport',\n",
              "       'MusicalArtist', 'PoliticalParty', 'Book', 'Settlement',\n",
              "       'MusicGenre', 'TelevisionShow', 'Artist', 'AdministrativeRegion',\n",
              "       'Language', 'Prison', 'Building', 'Award', 'Aircraft', 'Town',\n",
              "       'SoccerClub', 'ReligiousBuilding', 'HockeyTeam', 'Disease',\n",
              "       'AmericanFootballTeam', 'SoccerPlayer', 'Continent', 'University',\n",
              "       'AmericanFootballPlayer', 'River', 'Scientist', 'MilitaryConflict',\n",
              "       'ComicsCharacter', 'Company', 'Writer', 'BaseballTeam',\n",
              "       'BodyOfWater', 'Saint', 'President', 'FormulaOneTeam',\n",
              "       'CityDistrict', 'Island', 'Mountain', 'Museum', 'GovernmentAgency',\n",
              "       'Legislature', 'Philosopher', 'Airline', 'Village', 'Venue',\n",
              "       'College', 'MilitaryPerson', 'SoapCharacter', 'BaseballPlayer',\n",
              "       'SoccerTournament', 'HistoricPlace', 'Food', 'Sea',\n",
              "       'BasketballPlayer', 'Hotel', 'Organisation', 'Comedian',\n",
              "       'OlympicEvent', 'Website', 'RecordLabel', 'Hospital', 'Cleric',\n",
              "       'FootballMatch', 'Athlete', 'Dam', 'EthnicGroup', 'HandballTeam',\n",
              "       'Road', 'Drug', 'Criminal', 'Model', 'Olympics',\n",
              "       'TelevisionSeason', 'MilitaryUnit', 'Newspaper',\n",
              "       'TelevisionStation', 'Album', 'ConcentrationCamp', 'Lake', 'Ship',\n",
              "       'Song', 'CollegeCoach', 'CanadianFootballTeam', 'RugbyClub',\n",
              "       'VideoGame', 'MartialArtist', 'Governor', 'Bridge',\n",
              "       'IceHockeyPlayer', 'SoccerManager'], dtype=object)"
            ]
          },
          "metadata": {
            "tags": []
          },
          "execution_count": 69
        }
      ]
    },
    {
      "cell_type": "code",
      "metadata": {
        "id": "lV0WfhzHM-ui"
      },
      "source": [
        ""
      ],
      "execution_count": null,
      "outputs": []
    }
  ]
}